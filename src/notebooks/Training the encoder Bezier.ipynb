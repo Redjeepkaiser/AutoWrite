{
 "cells": [
  {
   "cell_type": "code",
   "execution_count": 1,
   "id": "e702dcc2",
   "metadata": {
    "scrolled": true
   },
   "outputs": [
    {
     "name": "stdout",
     "output_type": "stream",
     "text": [
      "(11983, 192, 11) (11983, 64)\n"
     ]
    }
   ],
   "source": [
    "import numpy as np\n",
    "import pickle\n",
    "\n",
    "padded_features = np.load(\"../../data/processed_data/bezier_features_padded_high_precision.npy\")\n",
    "padded_target = np.load(\"../../data/processed_data/target_padded.npy\")\n",
    "\n",
    "with open(\"../../data/processed_data/alphabet\", \"rb\") as f:\n",
    "    alphabet = pickle.load(f)\n",
    "\n",
    "print(padded_features.shape, padded_target.shape)"
   ]
  },
  {
   "cell_type": "code",
   "execution_count": 6,
   "id": "12630381",
   "metadata": {},
   "outputs": [],
   "source": [
    "import os\n",
    "os.environ['TF_CPP_MIN_LOG_LEVEL'] = '2'"
   ]
  },
  {
   "cell_type": "code",
   "execution_count": 7,
   "id": "b619fe7a",
   "metadata": {},
   "outputs": [
    {
     "name": "stdout",
     "output_type": "stream",
     "text": [
      "TensorFlow version: 2.9.0\n",
      "[PhysicalDevice(name='/physical_device:GPU:0', device_type='GPU')]\n",
      "True\n"
     ]
    }
   ],
   "source": [
    "import tensorflow as tf\n",
    "print(\"TensorFlow version:\", tf.__version__)\n",
    "print(tf.config.list_physical_devices('GPU'))\n",
    "print(tf.test.is_built_with_cuda())"
   ]
  },
  {
   "cell_type": "code",
   "execution_count": 8,
   "id": "523333b5",
   "metadata": {},
   "outputs": [],
   "source": [
    "def split_data(features, target, train_size=0.9):\n",
    "    size = len(features)\n",
    "    indices = np.arange(size)\n",
    "    np.random.shuffle(indices)\n",
    "    train_samples = int(size * train_size)\n",
    "    \n",
    "    x_train, y_train = features[indices[:train_samples]], target[indices[:train_samples]]\n",
    "    x_valid, y_valid = features[indices[train_samples:]], target[indices[train_samples:]]\n",
    "    \n",
    "    return (\n",
    "        x_train,\n",
    "        x_valid,\n",
    "        y_train,\n",
    "        y_valid,\n",
    "    )\n",
    "\n",
    "x_train, x_valid, y_train, y_valid = split_data(padded_features, padded_target)"
   ]
  },
  {
   "cell_type": "code",
   "execution_count": 9,
   "id": "fc93ff2e",
   "metadata": {},
   "outputs": [
    {
     "name": "stdout",
     "output_type": "stream",
     "text": [
      "10784 192 11\n"
     ]
    }
   ],
   "source": [
    "print(len(x_train), len(x_train[0]), len(x_train[0][0]))"
   ]
  },
  {
   "cell_type": "code",
   "execution_count": 10,
   "id": "bf601632",
   "metadata": {},
   "outputs": [],
   "source": [
    "OUTPUT_SIZE = len(alphabet) + 1\n",
    "\n",
    "N_BLSTM_LAYERS = 5\n",
    "N_CELLS = 64\n",
    "\n",
    "LEARNING_RATE = 10**-4\n",
    "\n",
    "BATCH_SIZE = 8\n",
    "N_FEATURES = len(x_train[0][0])\n",
    "N_TIMESTEPS = len(x_train[0])\n",
    "N_EPOCHS = 100"
   ]
  },
  {
   "cell_type": "code",
   "execution_count": 11,
   "id": "82ebdeaf",
   "metadata": {},
   "outputs": [],
   "source": [
    "from keras.layers import Bidirectional, LSTM, Dense, Input, Masking, TimeDistributed\n",
    "\n",
    "def build_model(n_blstm_layers, n_cells, n_features, output_size):\n",
    "    model = tf.keras.models.Sequential()\n",
    "\n",
    "    model.add(Masking(input_shape=(None, N_FEATURES), mask_value=np.zeros((N_FEATURES))))\n",
    "    \n",
    "    for i in range(n_blstm_layers):\n",
    "        model.add(Bidirectional(LSTM(N_CELLS,\n",
    "                                     input_shape=(None, N_FEATURES),\n",
    "                                     return_sequences = True,\n",
    "                                     dropout = 0.5),\n",
    "                                merge_mode = 'sum'))\n",
    "\n",
    "    model.add(\n",
    "        TimeDistributed(\n",
    "            Dense(output_size, activation = 'softmax')\n",
    "        )\n",
    "    )\n",
    "\n",
    "    return model"
   ]
  },
  {
   "cell_type": "code",
   "execution_count": 12,
   "id": "2d14c905",
   "metadata": {},
   "outputs": [],
   "source": [
    "def ctc_loss(y_true, y_pred):\n",
    "    batch_len = tf.cast(tf.shape(y_true)[0], dtype=\"int64\")\n",
    "    input_length = tf.cast(tf.shape(y_pred)[1], dtype=\"int64\")\n",
    "    label_length = tf.cast(tf.shape(y_true)[1], dtype=\"int64\")\n",
    "\n",
    "    input_length = input_length * tf.ones(shape=(batch_len, 1), dtype=\"int64\")\n",
    "    label_length = label_length * tf.ones(shape=(batch_len, 1), dtype=\"int64\")\n",
    "\n",
    "    loss = keras.backend.ctc_batch_cost(y_true, y_pred, input_length, label_length)\n",
    "    return loss"
   ]
  },
  {
   "cell_type": "code",
   "execution_count": 367,
   "id": "4ac82452",
   "metadata": {},
   "outputs": [],
   "source": [
    "model = build_model(N_BLSTM_LAYERS, N_CELLS, N_FEATURES, OUTPUT_SIZE)\n",
    "\n",
    "model.compile(\n",
    "    loss=ctc_loss,\n",
    "    optimizer= tf.keras.optimizers.Adam(learning_rate=LEARNING_RATE, clipnorm=9)\n",
    ")"
   ]
  },
  {
   "cell_type": "code",
   "execution_count": 368,
   "id": "54760b08",
   "metadata": {},
   "outputs": [],
   "source": [
    "def create_dataset(train_data, valid_data, n_epochs, batch_size):\n",
    "    dataset = tf.data.Dataset.from_tensor_slices((train_data, valid_data))\n",
    "    dataset = dataset.shuffle(1000)\n",
    "    dataset = dataset.batch(batch_size)\n",
    "    dataset = dataset.prefetch(1)\n",
    "    return dataset\n",
    "\n",
    "train_dataset = create_dataset(x_train, y_train, N_EPOCHS, BATCH_SIZE)\n",
    "validation_dataset = create_dataset(x_valid, y_valid, N_EPOCHS, BATCH_SIZE)"
   ]
  },
  {
   "cell_type": "code",
   "execution_count": 9,
   "id": "a55006cb",
   "metadata": {},
   "outputs": [
    {
     "ename": "EOFError",
     "evalue": "Ran out of input",
     "output_type": "error",
     "traceback": [
      "\u001b[0;31m---------------------------------------------------------------------------\u001b[0m",
      "\u001b[0;31mEOFError\u001b[0m                                  Traceback (most recent call last)",
      "Input \u001b[0;32mIn [9]\u001b[0m, in \u001b[0;36m<cell line: 5>\u001b[0;34m()\u001b[0m\n\u001b[1;32m      5\u001b[0m \u001b[38;5;28;01mif\u001b[39;00m Path(\u001b[38;5;124m\"\u001b[39m\u001b[38;5;124m../../training/encoder/loss\u001b[39m\u001b[38;5;124m\"\u001b[39m)\u001b[38;5;241m.\u001b[39mis_file():\n\u001b[1;32m      6\u001b[0m     \u001b[38;5;28;01mwith\u001b[39;00m \u001b[38;5;28mopen\u001b[39m(\u001b[38;5;124m\"\u001b[39m\u001b[38;5;124m../../training/encoder/loss\u001b[39m\u001b[38;5;124m\"\u001b[39m, \u001b[38;5;124m\"\u001b[39m\u001b[38;5;124mrb\u001b[39m\u001b[38;5;124m\"\u001b[39m) \u001b[38;5;28;01mas\u001b[39;00m f:\n\u001b[0;32m----> 7\u001b[0m         loss_history \u001b[38;5;241m=\u001b[39m \u001b[43mpickle\u001b[49m\u001b[38;5;241;43m.\u001b[39;49m\u001b[43mload\u001b[49m\u001b[43m(\u001b[49m\u001b[43mf\u001b[49m\u001b[43m)\u001b[49m\n",
      "\u001b[0;31mEOFError\u001b[0m: Ran out of input"
     ]
    }
   ],
   "source": [
    "from pathlib import Path\n",
    "import pickle\n",
    "loss_history = [[], []]\n",
    "\n",
    "if Path(\"../../training/encoder/loss\").is_file():\n",
    "    with open(\"../../training/encoder/loss\", \"rb\") as f:\n",
    "        loss_history = pickle.load(f)"
   ]
  },
  {
   "cell_type": "code",
   "execution_count": 370,
   "id": "d7dde094",
   "metadata": {
    "scrolled": true
   },
   "outputs": [
    {
     "name": "stdout",
     "output_type": "stream",
     "text": [
      "Epoch 1/100\n",
      "1348/1348 [==============================] - ETA: 0s - loss: 11.6642\n",
      "Epoch 1: saving model to ../../training/encoder_bezier/cp.ckpt\n",
      "1348/1348 [==============================] - 151s 83ms/step - loss: 11.6642 - val_loss: 10.9599\n",
      "Epoch 2/100\n",
      "1348/1348 [==============================] - ETA: 0s - loss: 11.6742\n",
      "Epoch 2: saving model to ../../training/encoder_bezier/cp.ckpt\n",
      "1348/1348 [==============================] - 100s 74ms/step - loss: 11.6742 - val_loss: 11.1398\n",
      "Epoch 3/100\n",
      "1348/1348 [==============================] - ETA: 0s - loss: 11.6316\n",
      "Epoch 3: saving model to ../../training/encoder_bezier/cp.ckpt\n",
      "1348/1348 [==============================] - 100s 74ms/step - loss: 11.6316 - val_loss: 10.8395\n",
      "Epoch 4/100\n",
      "1348/1348 [==============================] - ETA: 0s - loss: 11.6226\n",
      "Epoch 4: saving model to ../../training/encoder_bezier/cp.ckpt\n",
      "1348/1348 [==============================] - 101s 75ms/step - loss: 11.6226 - val_loss: 11.7941\n",
      "Epoch 5/100\n",
      "1348/1348 [==============================] - ETA: 0s - loss: 11.5942\n",
      "Epoch 5: saving model to ../../training/encoder_bezier/cp.ckpt\n",
      "1348/1348 [==============================] - 100s 75ms/step - loss: 11.5942 - val_loss: 10.2847\n",
      "Epoch 6/100\n",
      "1348/1348 [==============================] - ETA: 0s - loss: 11.5689\n",
      "Epoch 6: saving model to ../../training/encoder_bezier/cp.ckpt\n",
      "1348/1348 [==============================] - 101s 75ms/step - loss: 11.5689 - val_loss: 11.2416\n",
      "Epoch 7/100\n",
      "1348/1348 [==============================] - ETA: 0s - loss: 11.5853\n",
      "Epoch 7: saving model to ../../training/encoder_bezier/cp.ckpt\n",
      "1348/1348 [==============================] - 100s 75ms/step - loss: 11.5853 - val_loss: 11.5321\n",
      "Epoch 8/100\n",
      "1348/1348 [==============================] - ETA: 0s - loss: 11.6198\n",
      "Epoch 8: saving model to ../../training/encoder_bezier/cp.ckpt\n",
      "1348/1348 [==============================] - 100s 74ms/step - loss: 11.6198 - val_loss: 11.2120\n",
      "Epoch 9/100\n",
      "1348/1348 [==============================] - ETA: 0s - loss: 11.5789\n",
      "Epoch 9: saving model to ../../training/encoder_bezier/cp.ckpt\n",
      "1348/1348 [==============================] - 101s 75ms/step - loss: 11.5789 - val_loss: 11.2512\n",
      "Epoch 10/100\n",
      "1348/1348 [==============================] - ETA: 0s - loss: 11.5952\n",
      "Epoch 10: saving model to ../../training/encoder_bezier/cp.ckpt\n",
      "1348/1348 [==============================] - 101s 75ms/step - loss: 11.5952 - val_loss: 11.3034\n",
      "Epoch 11/100\n",
      "1348/1348 [==============================] - ETA: 0s - loss: 11.5645\n",
      "Epoch 11: saving model to ../../training/encoder_bezier/cp.ckpt\n",
      "1348/1348 [==============================] - 101s 75ms/step - loss: 11.5645 - val_loss: 11.4112\n",
      "Epoch 12/100\n",
      "1348/1348 [==============================] - ETA: 0s - loss: 11.5694\n",
      "Epoch 12: saving model to ../../training/encoder_bezier/cp.ckpt\n",
      "1348/1348 [==============================] - 100s 74ms/step - loss: 11.5694 - val_loss: 11.2936\n",
      "Epoch 13/100\n",
      "1348/1348 [==============================] - ETA: 0s - loss: 11.5398\n",
      "Epoch 13: saving model to ../../training/encoder_bezier/cp.ckpt\n",
      "1348/1348 [==============================] - 101s 75ms/step - loss: 11.5398 - val_loss: 10.7627\n",
      "Epoch 14/100\n",
      "1348/1348 [==============================] - ETA: 0s - loss: 11.5285\n",
      "Epoch 14: saving model to ../../training/encoder_bezier/cp.ckpt\n",
      "1348/1348 [==============================] - 100s 74ms/step - loss: 11.5285 - val_loss: 11.6050\n",
      "Epoch 15/100\n",
      "1348/1348 [==============================] - ETA: 0s - loss: 11.5057\n",
      "Epoch 15: saving model to ../../training/encoder_bezier/cp.ckpt\n",
      "1348/1348 [==============================] - 99s 73ms/step - loss: 11.5057 - val_loss: 11.4371\n",
      "Epoch 16/100\n",
      "1348/1348 [==============================] - ETA: 0s - loss: 11.5060\n",
      "Epoch 16: saving model to ../../training/encoder_bezier/cp.ckpt\n",
      "1348/1348 [==============================] - 100s 74ms/step - loss: 11.5060 - val_loss: 11.0690\n",
      "Epoch 17/100\n",
      "1348/1348 [==============================] - ETA: 0s - loss: 11.5330\n",
      "Epoch 17: saving model to ../../training/encoder_bezier/cp.ckpt\n",
      "1348/1348 [==============================] - 101s 75ms/step - loss: 11.5330 - val_loss: 10.9158\n",
      "Epoch 18/100\n",
      "1348/1348 [==============================] - ETA: 0s - loss: 11.5067\n",
      "Epoch 18: saving model to ../../training/encoder_bezier/cp.ckpt\n",
      "1348/1348 [==============================] - 99s 74ms/step - loss: 11.5067 - val_loss: 10.7909\n",
      "Epoch 19/100\n",
      "1348/1348 [==============================] - ETA: 0s - loss: 11.4896\n",
      "Epoch 19: saving model to ../../training/encoder_bezier/cp.ckpt\n",
      "1348/1348 [==============================] - 100s 74ms/step - loss: 11.4896 - val_loss: 11.2075\n",
      "Epoch 20/100\n",
      "1348/1348 [==============================] - ETA: 0s - loss: 11.4471\n",
      "Epoch 20: saving model to ../../training/encoder_bezier/cp.ckpt\n",
      "1348/1348 [==============================] - 100s 74ms/step - loss: 11.4471 - val_loss: 11.3870\n",
      "Epoch 21/100\n",
      "1348/1348 [==============================] - ETA: 0s - loss: 11.5134\n",
      "Epoch 21: saving model to ../../training/encoder_bezier/cp.ckpt\n",
      "1348/1348 [==============================] - 99s 74ms/step - loss: 11.5134 - val_loss: 11.3958\n",
      "Epoch 22/100\n",
      "1348/1348 [==============================] - ETA: 0s - loss: 11.5539\n",
      "Epoch 22: saving model to ../../training/encoder_bezier/cp.ckpt\n",
      "1348/1348 [==============================] - 100s 74ms/step - loss: 11.5539 - val_loss: 12.0919\n",
      "Epoch 23/100\n",
      "1348/1348 [==============================] - ETA: 0s - loss: 11.5256\n",
      "Epoch 23: saving model to ../../training/encoder_bezier/cp.ckpt\n",
      "1348/1348 [==============================] - 100s 74ms/step - loss: 11.5256 - val_loss: 10.5316\n",
      "Epoch 24/100\n",
      "1348/1348 [==============================] - ETA: 0s - loss: 11.4907\n",
      "Epoch 24: saving model to ../../training/encoder_bezier/cp.ckpt\n",
      "1348/1348 [==============================] - 100s 74ms/step - loss: 11.4907 - val_loss: 11.0815\n",
      "Epoch 25/100\n",
      "1348/1348 [==============================] - ETA: 0s - loss: 11.5103\n",
      "Epoch 25: saving model to ../../training/encoder_bezier/cp.ckpt\n",
      "1348/1348 [==============================] - 101s 75ms/step - loss: 11.5103 - val_loss: 10.8141\n",
      "Epoch 26/100\n",
      "1348/1348 [==============================] - ETA: 0s - loss: 11.4629\n",
      "Epoch 26: saving model to ../../training/encoder_bezier/cp.ckpt\n",
      "1348/1348 [==============================] - 101s 75ms/step - loss: 11.4629 - val_loss: 11.1861\n",
      "Epoch 27/100\n",
      "1348/1348 [==============================] - ETA: 0s - loss: 11.4176\n",
      "Epoch 27: saving model to ../../training/encoder_bezier/cp.ckpt\n",
      "1348/1348 [==============================] - 99s 74ms/step - loss: 11.4176 - val_loss: 11.0259\n",
      "Epoch 28/100\n",
      "1348/1348 [==============================] - ETA: 0s - loss: 11.4764\n",
      "Epoch 28: saving model to ../../training/encoder_bezier/cp.ckpt\n",
      "1348/1348 [==============================] - 100s 74ms/step - loss: 11.4764 - val_loss: 10.9476\n",
      "Epoch 29/100\n",
      "1348/1348 [==============================] - ETA: 0s - loss: 11.4286\n",
      "Epoch 29: saving model to ../../training/encoder_bezier/cp.ckpt\n",
      "1348/1348 [==============================] - 101s 75ms/step - loss: 11.4286 - val_loss: 11.6443\n",
      "Epoch 30/100\n",
      "1348/1348 [==============================] - ETA: 0s - loss: 11.4521\n",
      "Epoch 30: saving model to ../../training/encoder_bezier/cp.ckpt\n",
      "1348/1348 [==============================] - 100s 74ms/step - loss: 11.4521 - val_loss: 11.4925\n",
      "Epoch 31/100\n",
      "1348/1348 [==============================] - ETA: 0s - loss: 11.4580\n",
      "Epoch 31: saving model to ../../training/encoder_bezier/cp.ckpt\n",
      "1348/1348 [==============================] - 100s 74ms/step - loss: 11.4580 - val_loss: 10.8723\n",
      "Epoch 32/100\n",
      "1348/1348 [==============================] - ETA: 0s - loss: 11.5075\n",
      "Epoch 32: saving model to ../../training/encoder_bezier/cp.ckpt\n",
      "1348/1348 [==============================] - 100s 74ms/step - loss: 11.5075 - val_loss: 11.5490\n",
      "Epoch 33/100\n",
      "1348/1348 [==============================] - ETA: 0s - loss: 11.4555\n",
      "Epoch 33: saving model to ../../training/encoder_bezier/cp.ckpt\n",
      "1348/1348 [==============================] - 100s 74ms/step - loss: 11.4555 - val_loss: 11.0716\n",
      "Epoch 34/100\n",
      "1348/1348 [==============================] - ETA: 0s - loss: 11.4294\n",
      "Epoch 34: saving model to ../../training/encoder_bezier/cp.ckpt\n",
      "1348/1348 [==============================] - 100s 75ms/step - loss: 11.4294 - val_loss: 11.7020\n"
     ]
    },
    {
     "name": "stdout",
     "output_type": "stream",
     "text": [
      "Epoch 35/100\n",
      "1348/1348 [==============================] - ETA: 0s - loss: 11.4292\n",
      "Epoch 35: saving model to ../../training/encoder_bezier/cp.ckpt\n",
      "1348/1348 [==============================] - 101s 75ms/step - loss: 11.4292 - val_loss: 11.3737\n",
      "Epoch 36/100\n",
      "1348/1348 [==============================] - ETA: 0s - loss: 11.4058\n",
      "Epoch 36: saving model to ../../training/encoder_bezier/cp.ckpt\n",
      "1348/1348 [==============================] - 99s 74ms/step - loss: 11.4058 - val_loss: 11.1739\n",
      "Epoch 37/100\n",
      "1348/1348 [==============================] - ETA: 0s - loss: 11.4397\n",
      "Epoch 37: saving model to ../../training/encoder_bezier/cp.ckpt\n",
      "1348/1348 [==============================] - 100s 74ms/step - loss: 11.4397 - val_loss: 11.4879\n",
      "Epoch 38/100\n",
      "1348/1348 [==============================] - ETA: 0s - loss: 11.3981\n",
      "Epoch 38: saving model to ../../training/encoder_bezier/cp.ckpt\n",
      "1348/1348 [==============================] - 101s 75ms/step - loss: 11.3981 - val_loss: 11.5719\n",
      "Epoch 39/100\n",
      "1348/1348 [==============================] - ETA: 0s - loss: 11.4279\n",
      "Epoch 39: saving model to ../../training/encoder_bezier/cp.ckpt\n",
      "1348/1348 [==============================] - 100s 74ms/step - loss: 11.4279 - val_loss: 11.1534\n",
      "Epoch 40/100\n",
      "1348/1348 [==============================] - ETA: 0s - loss: 11.3572\n",
      "Epoch 40: saving model to ../../training/encoder_bezier/cp.ckpt\n",
      "1348/1348 [==============================] - 100s 74ms/step - loss: 11.3572 - val_loss: 11.4468\n",
      "Epoch 41/100\n",
      "1348/1348 [==============================] - ETA: 0s - loss: 11.4127\n",
      "Epoch 41: saving model to ../../training/encoder_bezier/cp.ckpt\n",
      "1348/1348 [==============================] - 101s 75ms/step - loss: 11.4127 - val_loss: 10.8821\n",
      "Epoch 42/100\n",
      "1348/1348 [==============================] - ETA: 0s - loss: 11.4137\n",
      "Epoch 42: saving model to ../../training/encoder_bezier/cp.ckpt\n",
      "1348/1348 [==============================] - 99s 74ms/step - loss: 11.4137 - val_loss: 11.1804\n",
      "Epoch 43/100\n",
      "1348/1348 [==============================] - ETA: 0s - loss: 11.4048\n",
      "Epoch 44: saving model to ../../training/encoder_bezier/cp.ckpt\n",
      "1348/1348 [==============================] - 100s 74ms/step - loss: 11.4048 - val_loss: 10.9450\n",
      "Epoch 45/100\n",
      "1348/1348 [==============================] - ETA: 0s - loss: 11.3162\n",
      "Epoch 45: saving model to ../../training/encoder_bezier/cp.ckpt\n",
      "1348/1348 [==============================] - 99s 74ms/step - loss: 11.3162 - val_loss: 10.6477\n",
      "Epoch 46/100\n",
      "1090/1348 [=======================>......] - ETA: 18s - loss: 11.4426"
     ]
    },
    {
     "name": "stderr",
     "output_type": "stream",
     "text": [
      "IOPub message rate exceeded.\n",
      "The notebook server will temporarily stop sending output\n",
      "to the client in order to avoid crashing it.\n",
      "To change this limit, set the config variable\n",
      "`--NotebookApp.iopub_msg_rate_limit`.\n",
      "\n",
      "Current values:\n",
      "NotebookApp.iopub_msg_rate_limit=1000.0 (msgs/sec)\n",
      "NotebookApp.rate_limit_window=3.0 (secs)\n",
      "\n"
     ]
    },
    {
     "name": "stdout",
     "output_type": "stream",
     "text": [
      "1348/1348 [==============================] - ETA: 0s - loss: 11.3273\n",
      "Epoch 50: saving model to ../../training/encoder_bezier/cp.ckpt\n",
      "1348/1348 [==============================] - 100s 74ms/step - loss: 11.3273 - val_loss: 10.9402\n",
      "Epoch 51/100\n",
      "1348/1348 [==============================] - ETA: 0s - loss: 11.3282\n",
      "Epoch 51: saving model to ../../training/encoder_bezier/cp.ckpt\n",
      "1348/1348 [==============================] - 99s 74ms/step - loss: 11.3282 - val_loss: 10.8328\n",
      "Epoch 52/100\n",
      " 869/1348 [==================>...........] - ETA: 34s - loss: 11.2765"
     ]
    },
    {
     "name": "stderr",
     "output_type": "stream",
     "text": [
      "IOPub message rate exceeded.\n",
      "The notebook server will temporarily stop sending output\n",
      "to the client in order to avoid crashing it.\n",
      "To change this limit, set the config variable\n",
      "`--NotebookApp.iopub_msg_rate_limit`.\n",
      "\n",
      "Current values:\n",
      "NotebookApp.iopub_msg_rate_limit=1000.0 (msgs/sec)\n",
      "NotebookApp.rate_limit_window=3.0 (secs)\n",
      "\n"
     ]
    },
    {
     "name": "stdout",
     "output_type": "stream",
     "text": [
      "1348/1348 [==============================] - ETA: 0s - loss: 11.3286\n",
      "Epoch 56: saving model to ../../training/encoder_bezier/cp.ckpt\n",
      "1348/1348 [==============================] - 100s 74ms/step - loss: 11.3286 - val_loss: 11.0405\n",
      "Epoch 57/100\n",
      "1348/1348 [==============================] - ETA: 0s - loss: 11.2746\n",
      "Epoch 57: saving model to ../../training/encoder_bezier/cp.ckpt\n",
      "1348/1348 [==============================] - 99s 74ms/step - loss: 11.2746 - val_loss: 11.0440\n",
      "Epoch 58/100\n",
      "1148/1348 [========================>.....] - ETA: 14s - loss: 11.3005"
     ]
    },
    {
     "name": "stderr",
     "output_type": "stream",
     "text": [
      "IOPub message rate exceeded.\n",
      "The notebook server will temporarily stop sending output\n",
      "to the client in order to avoid crashing it.\n",
      "To change this limit, set the config variable\n",
      "`--NotebookApp.iopub_msg_rate_limit`.\n",
      "\n",
      "Current values:\n",
      "NotebookApp.iopub_msg_rate_limit=1000.0 (msgs/sec)\n",
      "NotebookApp.rate_limit_window=3.0 (secs)\n",
      "\n"
     ]
    },
    {
     "name": "stdout",
     "output_type": "stream",
     "text": [
      "1348/1348 [==============================] - ETA: 0s - loss: 11.2377\n",
      "Epoch 61: saving model to ../../training/encoder_bezier/cp.ckpt\n",
      "1348/1348 [==============================] - 100s 74ms/step - loss: 11.2377 - val_loss: 10.6460\n",
      "Epoch 62/100\n",
      " 393/1348 [=======>......................] - ETA: 1:06 - loss: 11.2139"
     ]
    },
    {
     "name": "stderr",
     "output_type": "stream",
     "text": [
      "IOPub message rate exceeded.\n",
      "The notebook server will temporarily stop sending output\n",
      "to the client in order to avoid crashing it.\n",
      "To change this limit, set the config variable\n",
      "`--NotebookApp.iopub_msg_rate_limit`.\n",
      "\n",
      "Current values:\n",
      "NotebookApp.iopub_msg_rate_limit=1000.0 (msgs/sec)\n",
      "NotebookApp.rate_limit_window=3.0 (secs)\n",
      "\n"
     ]
    },
    {
     "name": "stdout",
     "output_type": "stream",
     "text": [
      "1348/1348 [==============================] - ETA: 0s - loss: 11.2751\n",
      "Epoch 63: saving model to ../../training/encoder_bezier/cp.ckpt\n",
      "1348/1348 [==============================] - 100s 74ms/step - loss: 11.2751 - val_loss: 11.0867\n",
      "Epoch 64/100\n",
      " 978/1348 [====================>.........] - ETA: 26s - loss: 11.3283"
     ]
    },
    {
     "name": "stderr",
     "output_type": "stream",
     "text": [
      "IOPub message rate exceeded.\n",
      "The notebook server will temporarily stop sending output\n",
      "to the client in order to avoid crashing it.\n",
      "To change this limit, set the config variable\n",
      "`--NotebookApp.iopub_msg_rate_limit`.\n",
      "\n",
      "Current values:\n",
      "NotebookApp.iopub_msg_rate_limit=1000.0 (msgs/sec)\n",
      "NotebookApp.rate_limit_window=3.0 (secs)\n",
      "\n"
     ]
    },
    {
     "name": "stdout",
     "output_type": "stream",
     "text": [
      "1348/1348 [==============================] - ETA: 0s - loss: 11.2427\n",
      "Epoch 67: saving model to ../../training/encoder_bezier/cp.ckpt\n",
      "1348/1348 [==============================] - 101s 75ms/step - loss: 11.2427 - val_loss: 11.1331\n",
      "Epoch 68/100\n",
      " 288/1348 [=====>........................] - ETA: 1:14 - loss: 11.3517"
     ]
    },
    {
     "name": "stderr",
     "output_type": "stream",
     "text": [
      "IOPub message rate exceeded.\n",
      "The notebook server will temporarily stop sending output\n",
      "to the client in order to avoid crashing it.\n",
      "To change this limit, set the config variable\n",
      "`--NotebookApp.iopub_msg_rate_limit`.\n",
      "\n",
      "Current values:\n",
      "NotebookApp.iopub_msg_rate_limit=1000.0 (msgs/sec)\n",
      "NotebookApp.rate_limit_window=3.0 (secs)\n",
      "\n"
     ]
    },
    {
     "name": "stdout",
     "output_type": "stream",
     "text": [
      "1348/1348 [==============================] - ETA: 0s - loss: 11.2652\n",
      "Epoch 69: saving model to ../../training/encoder_bezier/cp.ckpt\n",
      "1348/1348 [==============================] - 100s 74ms/step - loss: 11.2652 - val_loss: 11.5231\n",
      "Epoch 70/100\n",
      "1098/1348 [=======================>......] - ETA: 17s - loss: 11.2673"
     ]
    },
    {
     "name": "stderr",
     "output_type": "stream",
     "text": [
      "IOPub message rate exceeded.\n",
      "The notebook server will temporarily stop sending output\n",
      "to the client in order to avoid crashing it.\n",
      "To change this limit, set the config variable\n",
      "`--NotebookApp.iopub_msg_rate_limit`.\n",
      "\n",
      "Current values:\n",
      "NotebookApp.iopub_msg_rate_limit=1000.0 (msgs/sec)\n",
      "NotebookApp.rate_limit_window=3.0 (secs)\n",
      "\n"
     ]
    },
    {
     "name": "stdout",
     "output_type": "stream",
     "text": [
      "1348/1348 [==============================] - ETA: 0s - loss: 11.2121\n",
      "Epoch 72: saving model to ../../training/encoder_bezier/cp.ckpt\n",
      "1348/1348 [==============================] - 102s 76ms/step - loss: 11.2121 - val_loss: 11.4019\n",
      "Epoch 73/100\n",
      "1348/1348 [==============================] - ETA: 0s - loss: 11.2270\n",
      "Epoch 73: saving model to ../../training/encoder_bezier/cp.ckpt\n",
      "1348/1348 [==============================] - 101s 75ms/step - loss: 11.2270 - val_loss: 11.6003\n",
      "Epoch 74/100\n",
      "1348/1348 [==============================] - ETA: 0s - loss: 11.2309\n",
      "Epoch 74: saving model to ../../training/encoder_bezier/cp.ckpt\n",
      "1348/1348 [==============================] - 102s 76ms/step - loss: 11.2309 - val_loss: 11.0455\n",
      "Epoch 75/100\n",
      "1348/1348 [==============================] - ETA: 0s - loss: 11.2073\n",
      "Epoch 75: saving model to ../../training/encoder_bezier/cp.ckpt\n",
      "1348/1348 [==============================] - 100s 74ms/step - loss: 11.2073 - val_loss: 11.0097\n",
      "Epoch 76/100\n",
      "1348/1348 [==============================] - ETA: 0s - loss: 11.2159\n",
      "Epoch 76: saving model to ../../training/encoder_bezier/cp.ckpt\n",
      "1348/1348 [==============================] - 102s 75ms/step - loss: 11.2159 - val_loss: 11.3076\n",
      "Epoch 77/100\n",
      "1348/1348 [==============================] - ETA: 0s - loss: 11.1710\n",
      "Epoch 77: saving model to ../../training/encoder_bezier/cp.ckpt\n",
      "1348/1348 [==============================] - 102s 76ms/step - loss: 11.1710 - val_loss: 11.2658\n",
      "Epoch 78/100\n",
      "1348/1348 [==============================] - ETA: 0s - loss: 11.1781\n",
      "Epoch 78: saving model to ../../training/encoder_bezier/cp.ckpt\n",
      "1348/1348 [==============================] - 101s 75ms/step - loss: 11.1781 - val_loss: 10.8637\n",
      "Epoch 79/100\n",
      "1348/1348 [==============================] - ETA: 0s - loss: 11.2112\n",
      "Epoch 79: saving model to ../../training/encoder_bezier/cp.ckpt\n",
      "1348/1348 [==============================] - 100s 74ms/step - loss: 11.2112 - val_loss: 11.5103\n",
      "Epoch 80/100\n",
      "1348/1348 [==============================] - ETA: 0s - loss: 11.2153\n",
      "Epoch 80: saving model to ../../training/encoder_bezier/cp.ckpt\n",
      "1348/1348 [==============================] - 100s 74ms/step - loss: 11.2153 - val_loss: 11.1445\n",
      "Epoch 81/100\n",
      "1348/1348 [==============================] - ETA: 0s - loss: 11.1813\n",
      "Epoch 81: saving model to ../../training/encoder_bezier/cp.ckpt\n",
      "1348/1348 [==============================] - 101s 75ms/step - loss: 11.1813 - val_loss: 11.1671\n",
      "Epoch 82/100\n",
      "1348/1348 [==============================] - ETA: 0s - loss: 11.1747\n",
      "Epoch 82: saving model to ../../training/encoder_bezier/cp.ckpt\n",
      "1348/1348 [==============================] - 100s 75ms/step - loss: 11.1747 - val_loss: 11.4552\n",
      "Epoch 83/100\n",
      "1348/1348 [==============================] - ETA: 0s - loss: 11.1665\n",
      "Epoch 83: saving model to ../../training/encoder_bezier/cp.ckpt\n",
      "1348/1348 [==============================] - 101s 75ms/step - loss: 11.1665 - val_loss: 11.6444\n",
      "Epoch 84/100\n",
      "1348/1348 [==============================] - ETA: 0s - loss: 11.1805\n",
      "Epoch 84: saving model to ../../training/encoder_bezier/cp.ckpt\n",
      "1348/1348 [==============================] - 102s 75ms/step - loss: 11.1805 - val_loss: 11.2008\n",
      "Epoch 85/100\n",
      "1348/1348 [==============================] - ETA: 0s - loss: 11.2037\n",
      "Epoch 86: saving model to ../../training/encoder_bezier/cp.ckpt\n",
      "1348/1348 [==============================] - 101s 75ms/step - loss: 11.2037 - val_loss: 11.3901\n",
      "Epoch 87/100\n",
      "1348/1348 [==============================] - ETA: 0s - loss: 11.1604\n",
      "Epoch 87: saving model to ../../training/encoder_bezier/cp.ckpt\n",
      "1348/1348 [==============================] - 102s 76ms/step - loss: 11.1604 - val_loss: 11.0081\n",
      "Epoch 88/100\n",
      "1143/1348 [========================>.....] - ETA: 14s - loss: 11.1219"
     ]
    },
    {
     "name": "stderr",
     "output_type": "stream",
     "text": [
      "IOPub message rate exceeded.\n",
      "The notebook server will temporarily stop sending output\n",
      "to the client in order to avoid crashing it.\n",
      "To change this limit, set the config variable\n",
      "`--NotebookApp.iopub_msg_rate_limit`.\n",
      "\n",
      "Current values:\n",
      "NotebookApp.iopub_msg_rate_limit=1000.0 (msgs/sec)\n",
      "NotebookApp.rate_limit_window=3.0 (secs)\n",
      "\n"
     ]
    },
    {
     "name": "stdout",
     "output_type": "stream",
     "text": [
      "1348/1348 [==============================] - ETA: 0s - loss: 11.1153\n",
      "Epoch 90: saving model to ../../training/encoder_bezier/cp.ckpt\n",
      "1348/1348 [==============================] - 102s 76ms/step - loss: 11.1153 - val_loss: 11.4832\n",
      "Epoch 91/100\n",
      "1348/1348 [==============================] - ETA: 0s - loss: 11.0629\n",
      "Epoch 91: saving model to ../../training/encoder_bezier/cp.ckpt\n",
      "1348/1348 [==============================] - 102s 76ms/step - loss: 11.0629 - val_loss: 11.7054\n",
      "Epoch 92/100\n",
      "1348/1348 [==============================] - ETA: 0s - loss: 11.1267\n",
      "Epoch 92: saving model to ../../training/encoder_bezier/cp.ckpt\n",
      "1348/1348 [==============================] - 101s 75ms/step - loss: 11.1267 - val_loss: 11.3581\n",
      "Epoch 93/100\n",
      "1348/1348 [==============================] - ETA: 0s - loss: 11.1181\n",
      "Epoch 93: saving model to ../../training/encoder_bezier/cp.ckpt\n",
      "1348/1348 [==============================] - 102s 76ms/step - loss: 11.1181 - val_loss: 11.5653\n",
      "Epoch 94/100\n",
      "1348/1348 [==============================] - ETA: 0s - loss: 11.0849\n",
      "Epoch 94: saving model to ../../training/encoder_bezier/cp.ckpt\n",
      "1348/1348 [==============================] - 101s 75ms/step - loss: 11.0849 - val_loss: 11.6265\n",
      "Epoch 95/100\n",
      "1348/1348 [==============================] - ETA: 0s - loss: 11.0985\n",
      "Epoch 95: saving model to ../../training/encoder_bezier/cp.ckpt\n",
      "1348/1348 [==============================] - 100s 74ms/step - loss: 11.0985 - val_loss: 11.8659\n",
      "Epoch 96/100\n",
      "1348/1348 [==============================] - ETA: 0s - loss: 11.0607\n",
      "Epoch 96: saving model to ../../training/encoder_bezier/cp.ckpt\n",
      "1348/1348 [==============================] - 101s 75ms/step - loss: 11.0607 - val_loss: 11.1423\n",
      "Epoch 97/100\n",
      "1348/1348 [==============================] - ETA: 0s - loss: 11.0869\n",
      "Epoch 97: saving model to ../../training/encoder_bezier/cp.ckpt\n",
      "1348/1348 [==============================] - 101s 75ms/step - loss: 11.0869 - val_loss: 12.3348\n",
      "Epoch 98/100\n",
      "1348/1348 [==============================] - ETA: 0s - loss: 11.1143\n",
      "Epoch 98: saving model to ../../training/encoder_bezier/cp.ckpt\n",
      "1348/1348 [==============================] - 101s 75ms/step - loss: 11.1143 - val_loss: 11.6511\n",
      "Epoch 99/100\n",
      "1348/1348 [==============================] - ETA: 0s - loss: 11.0761\n",
      "Epoch 100: saving model to ../../training/encoder_bezier/cp.ckpt\n",
      "1348/1348 [==============================] - 103s 76ms/step - loss: 11.0761 - val_loss: 11.3231\n"
     ]
    }
   ],
   "source": [
    "# %%capture stored_output\n",
    "\n",
    "import keras\n",
    "\n",
    "checkpoint_path = \"../../training/encoder_bezier/cp.ckpt\"\n",
    "checkpoint_dir = os.path.dirname(checkpoint_path)\n",
    "\n",
    "model.load_weights(checkpoint_path)\n",
    "\n",
    "# Create a callback that saves the model's weights\n",
    "cp_callback = tf.keras.callbacks.ModelCheckpoint(filepath=checkpoint_path,\n",
    "                                                 save_weights_only=True,\n",
    "                                                 verbose=1)\n",
    "\n",
    "logdir = '../../training/encoder_bezier/logs'\n",
    "tb_callback = tf.keras.callbacks.TensorBoard(logdir, update_freq=1)\n",
    "\n",
    "history = model.fit(\n",
    "    train_dataset,\n",
    "    validation_data = validation_dataset,\n",
    "    shuffle=True,\n",
    "    epochs = N_EPOCHS,\n",
    "    batch_size = BATCH_SIZE,\n",
    "    callbacks = [cp_callback, tb_callback]\n",
    ")"
   ]
  },
  {
   "cell_type": "code",
   "execution_count": 371,
   "id": "ffe22bb7",
   "metadata": {
    "scrolled": true
   },
   "outputs": [],
   "source": [
    "loss_history[0].extend(history.history['loss'])\n",
    "loss_history[1].extend(history.history['val_loss'])"
   ]
  },
  {
   "cell_type": "code",
   "execution_count": 3,
   "id": "153f8f09",
   "metadata": {},
   "outputs": [
    {
     "ename": "NameError",
     "evalue": "name 'pickle' is not defined",
     "output_type": "error",
     "traceback": [
      "\u001b[0;31m---------------------------------------------------------------------------\u001b[0m",
      "\u001b[0;31mNameError\u001b[0m                                 Traceback (most recent call last)",
      "Input \u001b[0;32mIn [3]\u001b[0m, in \u001b[0;36m<cell line: 1>\u001b[0;34m()\u001b[0m\n\u001b[1;32m      1\u001b[0m \u001b[38;5;28;01mwith\u001b[39;00m \u001b[38;5;28mopen\u001b[39m(\u001b[38;5;124m\"\u001b[39m\u001b[38;5;124m../../training/encoder/loss\u001b[39m\u001b[38;5;124m\"\u001b[39m, \u001b[38;5;124m\"\u001b[39m\u001b[38;5;124mwb\u001b[39m\u001b[38;5;124m\"\u001b[39m) \u001b[38;5;28;01mas\u001b[39;00m f:\n\u001b[0;32m----> 2\u001b[0m     \u001b[43mpickle\u001b[49m\u001b[38;5;241m.\u001b[39mdump(loss_history, f)\n",
      "\u001b[0;31mNameError\u001b[0m: name 'pickle' is not defined"
     ]
    }
   ],
   "source": [
    "with open(\"../../training/encoder/loss\", \"wb\") as f:\n",
    "    pickle.dump(loss_history, f)"
   ]
  },
  {
   "cell_type": "code",
   "execution_count": 8,
   "id": "3b863927",
   "metadata": {},
   "outputs": [
    {
     "data": {
      "image/png": "[encoded data removed]",
      "text/plain": [
       "<Figure size 432x288 with 1 Axes>"
      ]
     },
     "metadata": {
      "needs_background": "light"
     },
     "output_type": "display_data"
    }
   ],
   "source": [
    "import matplotlib.pyplot as plt\n",
    "\n",
    "def flatten_list(l):\n",
    "     return [point for elem in l for point in elem]\n",
    "\n",
    "plt.plot(loss_history[0], color=\"red\", label=\"train\")\n",
    "plt.plot(loss_history[1], color=\"black\", label=\"test\")\n",
    "plt.title('model loss')\n",
    "plt.ylabel('loss')\n",
    "plt.xlabel('epoch')\n",
    "plt.legend()\n",
    "plt.show()"
   ]
  },
  {
   "cell_type": "code",
   "execution_count": 13,
   "id": "de90ae1c",
   "metadata": {},
   "outputs": [
    {
     "ename": "NameError",
     "evalue": "name 'plt' is not defined",
     "output_type": "error",
     "traceback": [
      "\u001b[0;31m---------------------------------------------------------------------------\u001b[0m",
      "\u001b[0;31mNameError\u001b[0m                                 Traceback (most recent call last)",
      "Input \u001b[0;32mIn [13]\u001b[0m, in \u001b[0;36m<cell line: 47>\u001b[0;34m()\u001b[0m\n\u001b[1;32m     44\u001b[0m \u001b[38;5;28;01mdef\u001b[39;00m \u001b[38;5;21mbezier_curve\u001b[39m(p0, p1, p2, p3, t):\n\u001b[1;32m     45\u001b[0m     \u001b[38;5;28;01mreturn\u001b[39;00m ((\u001b[38;5;241m1\u001b[39m\u001b[38;5;241m-\u001b[39mt)\u001b[38;5;241m*\u001b[39m\u001b[38;5;241m*\u001b[39m\u001b[38;5;241m3\u001b[39m \u001b[38;5;241m*\u001b[39m p0) \u001b[38;5;241m+\u001b[39m (\u001b[38;5;241m3\u001b[39m\u001b[38;5;241m*\u001b[39m(\u001b[38;5;241m1\u001b[39m\u001b[38;5;241m-\u001b[39mt)\u001b[38;5;241m*\u001b[39m\u001b[38;5;241m*\u001b[39m\u001b[38;5;241m2\u001b[39m\u001b[38;5;241m*\u001b[39mt \u001b[38;5;241m*\u001b[39m p1) \u001b[38;5;241m+\u001b[39m (\u001b[38;5;241m3\u001b[39m\u001b[38;5;241m*\u001b[39m(\u001b[38;5;241m1\u001b[39m\u001b[38;5;241m-\u001b[39mt)\u001b[38;5;241m*\u001b[39mt\u001b[38;5;241m*\u001b[39m\u001b[38;5;241m*\u001b[39m\u001b[38;5;241m2\u001b[39m \u001b[38;5;241m*\u001b[39m p2) \u001b[38;5;241m+\u001b[39m (t\u001b[38;5;241m*\u001b[39m\u001b[38;5;241m*\u001b[39m\u001b[38;5;241m3\u001b[39m \u001b[38;5;241m*\u001b[39m p3)\n\u001b[0;32m---> 47\u001b[0m \u001b[43mplot_bezier_curves\u001b[49m\u001b[43m(\u001b[49m\u001b[43mpadded_features\u001b[49m\u001b[43m[\u001b[49m\u001b[38;5;241;43m10\u001b[39;49m\u001b[43m]\u001b[49m\u001b[43m)\u001b[49m\n",
      "Input \u001b[0;32mIn [13]\u001b[0m, in \u001b[0;36mplot_bezier_curves\u001b[0;34m(data)\u001b[0m\n\u001b[1;32m     33\u001b[0m     current_x \u001b[38;5;241m=\u001b[39m p3[\u001b[38;5;241m0\u001b[39m]\n\u001b[1;32m     34\u001b[0m     current_y \u001b[38;5;241m=\u001b[39m p3[\u001b[38;5;241m1\u001b[39m]\n\u001b[0;32m---> 36\u001b[0m     \u001b[43mplt\u001b[49m\u001b[38;5;241m.\u001b[39mplot(xs, ys, label\u001b[38;5;241m=\u001b[39m\u001b[38;5;124mf\u001b[39m\u001b[38;5;124m\"\u001b[39m\u001b[38;5;124mBezier \u001b[39m\u001b[38;5;132;01m{\u001b[39;00mi\u001b[38;5;132;01m}\u001b[39;00m\u001b[38;5;124m\"\u001b[39m)\n\u001b[1;32m     38\u001b[0m plt\u001b[38;5;241m.\u001b[39mxlabel(\u001b[38;5;124m\"\u001b[39m\u001b[38;5;124mx\u001b[39m\u001b[38;5;124m\"\u001b[39m)\n\u001b[1;32m     39\u001b[0m plt\u001b[38;5;241m.\u001b[39mylabel(\u001b[38;5;124m\"\u001b[39m\u001b[38;5;124my\u001b[39m\u001b[38;5;124m\"\u001b[39m)\n",
      "\u001b[0;31mNameError\u001b[0m: name 'plt' is not defined"
     ]
    }
   ],
   "source": [
    "def plot_bezier_curves(data):\n",
    "    current_x = 0\n",
    "    current_y = 0\n",
    "    \n",
    "    for i, (dx, dy, d1, d2, a1, a2, g1, g2, g3, p1, p2) in enumerate(data):\n",
    "        if p2:\n",
    "            current_x += dx\n",
    "            current_y += dy\n",
    "            continue\n",
    "        \n",
    "        p0 = np.array([current_x, current_y])\n",
    "        p3 = np.array([current_x + dx, current_y + dy])\n",
    "                \n",
    "        p1 = make_rotation_matrix(a1) @ np.array([dx, dy]) * d1 + np.array([current_x, current_y])\n",
    "        p2 = make_rotation_matrix(a2) @ np.array([-dx, -dy]) * d2 + np.array([current_x + dx, current_y + dy])\n",
    "        \n",
    "#         plt.scatter(p0[0], p0[1])\n",
    "#         plt.scatter(p1[0], p1[1])\n",
    "#         plt.scatter(p2[0], p2[1])\n",
    "#         plt.scatter(p3[0], p3[1])\n",
    "#         plt.plot([p3[0], p2[0]], [p3[1], p2[1]])\n",
    "#         plt.plot([p0[0], p1[0]], [p0[1], p1[1]])\n",
    "        \n",
    "        ts = np.linspace(0, 1, 100)\n",
    "        xs = []\n",
    "        ys = []\n",
    "    \n",
    "        for t in ts:\n",
    "            (x, y) = bezier_curve(p0, p1, p2, p3, t)\n",
    "            xs.append(x)\n",
    "            ys.append(y)\n",
    "            \n",
    "        current_x = p3[0]\n",
    "        current_y = p3[1]\n",
    "        \n",
    "        plt.plot(xs, ys, label=f\"Bezier {i}\")\n",
    "    \n",
    "    plt.xlabel(\"x\")\n",
    "    plt.ylabel(\"y\")\n",
    "    \n",
    "def make_rotation_matrix(angle):\n",
    "    return np.array([[np.cos(angle), np.sin(angle)], [-np.sin(angle), np.cos(angle)]])\n",
    "\n",
    "def bezier_curve(p0, p1, p2, p3, t):\n",
    "    return ((1-t)**3 * p0) + (3*(1-t)**2*t * p1) + (3*(1-t)*t**2 * p2) + (t**3 * p3)\n",
    "\n",
    "plot_bezier_curves(padded_features[10])\n",
    "\n",
    "# Add pciture of input\n",
    "# Picture of fitted curves\n",
    "# 120 epochs -. precision up"
   ]
  },
  {
   "cell_type": "code",
   "execution_count": 14,
   "id": "23fd565b",
   "metadata": {
    "scrolled": true
   },
   "outputs": [
    {
     "ename": "NameError",
     "evalue": "name 'loss_history' is not defined",
     "output_type": "error",
     "traceback": [
      "\u001b[0;31m---------------------------------------------------------------------------\u001b[0m",
      "\u001b[0;31mNameError\u001b[0m                                 Traceback (most recent call last)",
      "Input \u001b[0;32mIn [14]\u001b[0m, in \u001b[0;36m<cell line: 1>\u001b[0;34m()\u001b[0m\n\u001b[0;32m----> 1\u001b[0m \u001b[38;5;28mprint\u001b[39m(\u001b[38;5;28mlen\u001b[39m(\u001b[43mloss_history\u001b[49m[\u001b[38;5;241m0\u001b[39m]))\n",
      "\u001b[0;31mNameError\u001b[0m: name 'loss_history' is not defined"
     ]
    }
   ],
   "source": [
    "print(len(loss_history[0]))"
   ]
  },
  {
   "cell_type": "code",
   "execution_count": 17,
   "id": "0e23ccec",
   "metadata": {},
   "outputs": [
    {
     "name": "stdout",
     "output_type": "stream",
     "text": [
      "['&', 'T', '!', 'h', '9', 'V', '\\n', 'b', 'o', 'j', 'f', '\"', 'i', 'Z', 'a', 'D', '?', '*', ':', '7', 'k', 's', 'B', 'R', '3', 'U', '8', 'n', 'l', ';', 'M', ',', ')', 'r', '#', 'G', 'm', 'A', 'x', 'O', '4', 'E', 'L', 'g', '6', 'F', '@', 'Q', 'q', 'u', '1', 'W', 'w', 'z', \"'\", 't', 'X', 'H', 'c', '[', 'p', 'C', '+', '5', 'd', 'P', '.', 'v', 'I', 'S', 'e', 'N', 'y', 'K', '/', '(', 'J', '0', '2', ' ', '-', 'Y'] 82\n"
     ]
    }
   ],
   "source": [
    "from pathlib import Path\n",
    "if Path(\"./../../data/processed_data/alphabet\").is_file():\n",
    "    with open(\"./../../data/processed_data/alphabet\", \"rb\") as f:\n",
    "        alphabet = pickle.load(f)\n",
    "\n",
    "print(alphabet, len(alphabet))\n",
    "\n",
    "def encode_textline(textline, alphabet):\n",
    "    return [alphabet.index(c) for c in textline]\n",
    "\n",
    "def decode_textline(encodedline, alphabet):\n",
    "    return [alphabet[int(v)] if int(v) < len(alphabet) else \"blank\"for v in encodedline]\n",
    "\n",
    "def remove_blanks(l):\n",
    "    return [elem for elem in l if elem != \"blank\"]"
   ]
  },
  {
   "cell_type": "code",
   "execution_count": 19,
   "id": "6f301aae",
   "metadata": {
    "scrolled": true
   },
   "outputs": [
    {
     "data": {
      "text/plain": [
       "<tensorflow.python.training.tracking.util.CheckpointLoadStatus at 0x7f0890f157b0>"
      ]
     },
     "execution_count": 19,
     "metadata": {},
     "output_type": "execute_result"
    }
   ],
   "source": [
    "model = build_model(N_BLSTM_LAYERS, N_CELLS, N_FEATURES, OUTPUT_SIZE)\n",
    "checkpoint_path = \"../../training/encoder_bezier/cp.ckpt\"\n",
    "model.load_weights(checkpoint_path)"
   ]
  },
  {
   "cell_type": "code",
   "execution_count": 20,
   "id": "208c7d55",
   "metadata": {},
   "outputs": [],
   "source": [
    "sample = 50\n",
    "res = model.call(tf.convert_to_tensor(np.expand_dims(padded_features[sample], 0)), mask=None).numpy()[0]"
   ]
  },
  {
   "cell_type": "code",
   "execution_count": 21,
   "id": "659abff1",
   "metadata": {},
   "outputs": [],
   "source": [
    "argmax = np.argmax(res, axis=1)"
   ]
  },
  {
   "cell_type": "code",
   "execution_count": 23,
   "id": "d517c07f",
   "metadata": {},
   "outputs": [
    {
     "name": "stdout",
     "output_type": "stream",
     "text": [
      "his son. Now the judge was not\n",
      "hiis  son.  Nvow  the  juouge  was  not\n"
     ]
    },
    {
     "data": {
      "image/png": "[encoded data removed]",
      "text/plain": [
       "<Figure size 432x288 with 1 Axes>"
      ]
     },
     "metadata": {
      "needs_background": "light"
     },
     "output_type": "display_data"
    }
   ],
   "source": [
    "import matplotlib.pyplot as plt\n",
    "\n",
    "print(\"\".join(remove_blanks(decode_textline(padded_target[sample], alphabet))))\n",
    "\n",
    "print(\"\".join(remove_blanks(decode_textline(argmax, alphabet))))\n",
    "\n",
    "plot_bezier_curves(padded_features[sample])"
   ]
  },
  {
   "cell_type": "code",
   "execution_count": 24,
   "id": "8920bfa2",
   "metadata": {},
   "outputs": [],
   "source": [
    "np.save(\"test\", padded_features[sample])"
   ]
  },
  {
   "cell_type": "code",
   "execution_count": null,
   "id": "bf4a29c2",
   "metadata": {},
   "outputs": [],
   "source": []
  }
 ],
 "metadata": {
  "kernelspec": {
   "display_name": "Python 3 (ipykernel)",
   "language": "python",
   "name": "python3"
  },
  "language_info": {
   "codemirror_mode": {
    "name": "ipython",
    "version": 3
   },
   "file_extension": ".py",
   "mimetype": "text/x-python",
   "name": "python",
   "nbconvert_exporter": "python",
   "pygments_lexer": "ipython3",
   "version": "3.10.3"
  }
 },
 "nbformat": 4,
 "nbformat_minor": 5
}
