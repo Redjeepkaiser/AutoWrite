{
 "cells": [
  {
   "cell_type": "code",
   "execution_count": 11,
   "id": "19221501",
   "metadata": {},
   "outputs": [],
   "source": [
    "import sys\n",
    "sys.path.insert(0, \"../autowrite\")"
   ]
  },
  {
   "cell_type": "code",
   "execution_count": 12,
   "id": "8c076257",
   "metadata": {
    "scrolled": false
   },
   "outputs": [],
   "source": [
    "from Iamondb import Iamondb\n",
    "from Visualizer import Visualizer"
   ]
  },
  {
   "cell_type": "code",
   "execution_count": 3,
   "id": "a67155e3",
   "metadata": {
    "scrolled": true
   },
   "outputs": [],
   "source": [
    "iamondb = Iamondb(\"./../../data/raw_data\")"
   ]
  },
  {
   "cell_type": "code",
   "execution_count": 4,
   "id": "0fda5e32",
   "metadata": {},
   "outputs": [],
   "source": [
    "touch_points, labels = iamondb.get_samples()"
   ]
  },
  {
   "cell_type": "code",
   "execution_count": 5,
   "id": "74153e6c",
   "metadata": {
    "scrolled": true
   },
   "outputs": [
    {
     "name": "stdout",
     "output_type": "stream",
     "text": [
      "64 64\n"
     ]
    }
   ],
   "source": [
    "print(len(touch_points), len(labels))"
   ]
  },
  {
   "cell_type": "code",
   "execution_count": 6,
   "id": "dcc3eed9",
   "metadata": {},
   "outputs": [],
   "source": [
    "i = 30\n",
    "example_touch_points = touch_points[i]\n",
    "example_text = labels[i]"
   ]
  },
  {
   "cell_type": "code",
   "execution_count": 7,
   "id": "f74ef516",
   "metadata": {},
   "outputs": [],
   "source": [
    "visualizer = Visualizer()"
   ]
  },
  {
   "cell_type": "code",
   "execution_count": 8,
   "id": "fc456acb",
   "metadata": {
    "scrolled": true
   },
   "outputs": [
    {
     "name": "stdout",
     "output_type": "stream",
     "text": [
      "May I suggest that you have\n"
     ]
    },
    {
     "data": {
      "image/png": "[encoded data removed]",
      "text/plain": [
       "<Figure size 432x288 with 1 Axes>"
      ]
     },
     "metadata": {
      "needs_background": "light"
     },
     "output_type": "display_data"
    }
   ],
   "source": [
    "visualizer.plot_raw_sample(example_touch_points)\n",
    "print(example_text)"
   ]
  },
  {
   "cell_type": "code",
   "execution_count": 9,
   "id": "3a61d56b",
   "metadata": {
    "scrolled": true
   },
   "outputs": [
    {
     "name": "stderr",
     "output_type": "stream",
     "text": [
      "2022-06-24 10:12:13.321126: W tensorflow/stream_executor/platform/default/dso_loader.cc:64] Could not load dynamic library 'libcudart.so.11.0'; dlerror: libcudart.so.11.0: cannot open shared object file: No such file or directory\n",
      "2022-06-24 10:12:13.321148: I tensorflow/stream_executor/cuda/cudart_stub.cc:29] Ignore above cudart dlerror if you do not have a GPU set up on your machine.\n"
     ]
    }
   ],
   "source": [
    "from Preprocessor import Preprocessor"
   ]
  },
  {
   "cell_type": "code",
   "execution_count": 10,
   "id": "abf26592",
   "metadata": {},
   "outputs": [],
   "source": [
    "preprocessor = Preprocessor(\"../autowrite/model_data/alphabet\")"
   ]
  },
  {
   "cell_type": "code",
   "execution_count": 11,
   "id": "93988f43",
   "metadata": {},
   "outputs": [
    {
     "name": "stdout",
     "output_type": "stream",
     "text": [
      "['M', 'a', 'y', ' ', 'I', ' ', 's', 'u', 'g', 'g', 'e', 's', 't', ' ', 't', 'h', 'a', 't', ' ', 'y', 'o', 'u', ' ', 'h', 'a', 'v', 'e']\n"
     ]
    }
   ],
   "source": [
    "%matplotlib qt\n",
    "\n",
    "normalized = preprocessor.normalize_strokes(example_touch_points)\n",
    "visualizer.plot_raw_sample(normalized)\n",
    "print(preprocessor.decode_sample(preprocessor.encode_sample(example_text)))"
   ]
  },
  {
   "cell_type": "code",
   "execution_count": 14,
   "id": "497e46cb",
   "metadata": {},
   "outputs": [],
   "source": [
    "fitted_bezier_curves = preprocessor.strokes_to_bezier(example_touch_points)\n",
    "visualizer.plot_bezier_curves(fitted_bezier_curves, control_points=True)"
   ]
  },
  {
   "cell_type": "code",
   "execution_count": 13,
   "id": "bccdd90f",
   "metadata": {},
   "outputs": [
    {
     "name": "stdout",
     "output_type": "stream",
     "text": [
      "34.38%"
     ]
    },
    {
     "ename": "KeyboardInterrupt",
     "evalue": "",
     "output_type": "error",
     "traceback": [
      "\u001b[0;31m---------------------------------------------------------------------------\u001b[0m",
      "\u001b[0;31mKeyboardInterrupt\u001b[0m                         Traceback (most recent call last)",
      "Input \u001b[0;32mIn [13]\u001b[0m, in \u001b[0;36m<cell line: 5>\u001b[0;34m()\u001b[0m\n\u001b[1;32m      5\u001b[0m \u001b[38;5;28;01mfor\u001b[39;00m i, sample \u001b[38;5;129;01min\u001b[39;00m \u001b[38;5;28menumerate\u001b[39m(touch_points):\n\u001b[1;32m      6\u001b[0m     sys\u001b[38;5;241m.\u001b[39mstdout\u001b[38;5;241m.\u001b[39mwrite(\u001b[38;5;124mf\u001b[39m\u001b[38;5;124m\"\u001b[39m\u001b[38;5;130;01m\\r\u001b[39;00m\u001b[38;5;132;01m{\u001b[39;00m(\u001b[38;5;28mfloat\u001b[39m(i)\u001b[38;5;241m/\u001b[39m\u001b[38;5;28mlen\u001b[39m(touch_points)\u001b[38;5;241m*\u001b[39m\u001b[38;5;241m100\u001b[39m)\u001b[38;5;132;01m:\u001b[39;00m\u001b[38;5;124m.2f\u001b[39m\u001b[38;5;132;01m}\u001b[39;00m\u001b[38;5;124m%\u001b[39m\u001b[38;5;124m\"\u001b[39m)\n\u001b[0;32m----> 7\u001b[0m     bezier_features\u001b[38;5;241m.\u001b[39mappend(\u001b[43mpreprocessor\u001b[49m\u001b[38;5;241;43m.\u001b[39;49m\u001b[43mstrokes_to_bezier\u001b[49m\u001b[43m(\u001b[49m\u001b[43msample\u001b[49m\u001b[43m)\u001b[49m)\n\u001b[1;32m      9\u001b[0m padded_bezier_features \u001b[38;5;241m=\u001b[39m preprocessor\u001b[38;5;241m.\u001b[39mpad_data(bezier_features, value\u001b[38;5;241m=\u001b[39m\u001b[38;5;241m0\u001b[39m, width\u001b[38;5;241m=\u001b[39m\u001b[38;5;241m11\u001b[39m)\n",
      "File \u001b[0;32m~/Documents/uva/vakken/AutoWrite/src/notebooks/../autowrite/Preprocessor.py:57\u001b[0m, in \u001b[0;36mPreprocessor.strokes_to_bezier\u001b[0;34m(self, strokes, precision, debug)\u001b[0m\n\u001b[1;32m     54\u001b[0m last_y \u001b[38;5;241m=\u001b[39m first[first[:, \u001b[38;5;241m2\u001b[39m] \u001b[38;5;241m>\u001b[39m\u001b[38;5;241m=\u001b[39m \u001b[38;5;241m0\u001b[39m][\u001b[38;5;241m-\u001b[39m\u001b[38;5;241m1\u001b[39m, \u001b[38;5;241m1\u001b[39m]\n\u001b[1;32m     56\u001b[0m \u001b[38;5;28;01mfor\u001b[39;00m stroke \u001b[38;5;129;01min\u001b[39;00m normalized_strokes[\u001b[38;5;241m1\u001b[39m:]:\n\u001b[0;32m---> 57\u001b[0m     res \u001b[38;5;241m=\u001b[39m \u001b[43mconvert_stroke_to_bezier_curves\u001b[49m\u001b[43m(\u001b[49m\u001b[43mstroke\u001b[49m\u001b[43m,\u001b[49m\u001b[43m \u001b[49m\u001b[43mprecision\u001b[49m\u001b[38;5;241;43m=\u001b[39;49m\u001b[43mprecision\u001b[49m\u001b[43m)\u001b[49m\n\u001b[1;32m     59\u001b[0m     current_x \u001b[38;5;241m=\u001b[39m stroke[stroke[:, \u001b[38;5;241m2\u001b[39m] \u001b[38;5;241m>\u001b[39m\u001b[38;5;241m=\u001b[39m \u001b[38;5;241m0\u001b[39m][\u001b[38;5;241m0\u001b[39m, \u001b[38;5;241m0\u001b[39m]\n\u001b[1;32m     60\u001b[0m     current_y \u001b[38;5;241m=\u001b[39m stroke[stroke[:, \u001b[38;5;241m2\u001b[39m] \u001b[38;5;241m>\u001b[39m\u001b[38;5;241m=\u001b[39m \u001b[38;5;241m0\u001b[39m][\u001b[38;5;241m0\u001b[39m, \u001b[38;5;241m1\u001b[39m]\n",
      "File \u001b[0;32m~/Documents/uva/vakken/AutoWrite/src/notebooks/../autowrite/Preprocessor.py:311\u001b[0m, in \u001b[0;36mconvert_stroke_to_bezier_curves\u001b[0;34m(datapoints, precision, debug)\u001b[0m\n\u001b[1;32m    308\u001b[0m \u001b[38;5;28;01mif\u001b[39;00m \u001b[38;5;28mlen\u001b[39m(datapoints[datapoints[:, \u001b[38;5;241m2\u001b[39m]\u001b[38;5;241m>\u001b[39m\u001b[38;5;241m=\u001b[39m\u001b[38;5;241m0\u001b[39m]) \u001b[38;5;241m<\u001b[39m \u001b[38;5;241m1\u001b[39m:\n\u001b[1;32m    309\u001b[0m     \u001b[38;5;28;01mreturn\u001b[39;00m \u001b[38;5;28;01mNone\u001b[39;00m\n\u001b[0;32m--> 311\u001b[0m fitted_curves \u001b[38;5;241m=\u001b[39m \u001b[43mfit_datapoints\u001b[49m\u001b[43m(\u001b[49m\u001b[43mdatapoints\u001b[49m\u001b[43m)\u001b[49m\n\u001b[1;32m    312\u001b[0m stiched_curves \u001b[38;5;241m=\u001b[39m stitch_curves(fitted_curves, precision\u001b[38;5;241m=\u001b[39mprecision)\n\u001b[1;32m    314\u001b[0m parameters \u001b[38;5;241m=\u001b[39m [parameterize_curve(PE, \u001b[38;5;241m0\u001b[39m) \u001b[38;5;28;01mfor\u001b[39;00m (PE, s, stdev, d) \u001b[38;5;129;01min\u001b[39;00m stiched_curves]\n",
      "File \u001b[0;32m~/Documents/uva/vakken/AutoWrite/src/notebooks/../autowrite/Preprocessor.py:264\u001b[0m, in \u001b[0;36mfit_datapoints\u001b[0;34m(datapoints, precision)\u001b[0m\n\u001b[1;32m    262\u001b[0m first_h, second_h \u001b[38;5;241m=\u001b[39m split\n\u001b[1;32m    263\u001b[0m res_f \u001b[38;5;241m=\u001b[39m fit_datapoints(first_h, precision)\n\u001b[0;32m--> 264\u001b[0m res_s \u001b[38;5;241m=\u001b[39m \u001b[43mfit_datapoints\u001b[49m\u001b[43m(\u001b[49m\u001b[43msecond_h\u001b[49m\u001b[43m,\u001b[49m\u001b[43m \u001b[49m\u001b[43mprecision\u001b[49m\u001b[43m)\u001b[49m\n\u001b[1;32m    266\u001b[0m \u001b[38;5;28;01mif\u001b[39;00m res_f:\n\u001b[1;32m    267\u001b[0m     curves\u001b[38;5;241m.\u001b[39mextend(res_f)\n",
      "File \u001b[0;32m~/Documents/uva/vakken/AutoWrite/src/notebooks/../autowrite/Preprocessor.py:263\u001b[0m, in \u001b[0;36mfit_datapoints\u001b[0;34m(datapoints, precision)\u001b[0m\n\u001b[1;32m    261\u001b[0m \u001b[38;5;28;01mif\u001b[39;00m split:\n\u001b[1;32m    262\u001b[0m     first_h, second_h \u001b[38;5;241m=\u001b[39m split\n\u001b[0;32m--> 263\u001b[0m     res_f \u001b[38;5;241m=\u001b[39m \u001b[43mfit_datapoints\u001b[49m\u001b[43m(\u001b[49m\u001b[43mfirst_h\u001b[49m\u001b[43m,\u001b[49m\u001b[43m \u001b[49m\u001b[43mprecision\u001b[49m\u001b[43m)\u001b[49m\n\u001b[1;32m    264\u001b[0m     res_s \u001b[38;5;241m=\u001b[39m fit_datapoints(second_h, precision)\n\u001b[1;32m    266\u001b[0m     \u001b[38;5;28;01mif\u001b[39;00m res_f:\n",
      "File \u001b[0;32m~/Documents/uva/vakken/AutoWrite/src/notebooks/../autowrite/Preprocessor.py:263\u001b[0m, in \u001b[0;36mfit_datapoints\u001b[0;34m(datapoints, precision)\u001b[0m\n\u001b[1;32m    261\u001b[0m \u001b[38;5;28;01mif\u001b[39;00m split:\n\u001b[1;32m    262\u001b[0m     first_h, second_h \u001b[38;5;241m=\u001b[39m split\n\u001b[0;32m--> 263\u001b[0m     res_f \u001b[38;5;241m=\u001b[39m \u001b[43mfit_datapoints\u001b[49m\u001b[43m(\u001b[49m\u001b[43mfirst_h\u001b[49m\u001b[43m,\u001b[49m\u001b[43m \u001b[49m\u001b[43mprecision\u001b[49m\u001b[43m)\u001b[49m\n\u001b[1;32m    264\u001b[0m     res_s \u001b[38;5;241m=\u001b[39m fit_datapoints(second_h, precision)\n\u001b[1;32m    266\u001b[0m     \u001b[38;5;28;01mif\u001b[39;00m res_f:\n",
      "File \u001b[0;32m~/Documents/uva/vakken/AutoWrite/src/notebooks/../autowrite/Preprocessor.py:263\u001b[0m, in \u001b[0;36mfit_datapoints\u001b[0;34m(datapoints, precision)\u001b[0m\n\u001b[1;32m    261\u001b[0m \u001b[38;5;28;01mif\u001b[39;00m split:\n\u001b[1;32m    262\u001b[0m     first_h, second_h \u001b[38;5;241m=\u001b[39m split\n\u001b[0;32m--> 263\u001b[0m     res_f \u001b[38;5;241m=\u001b[39m \u001b[43mfit_datapoints\u001b[49m\u001b[43m(\u001b[49m\u001b[43mfirst_h\u001b[49m\u001b[43m,\u001b[49m\u001b[43m \u001b[49m\u001b[43mprecision\u001b[49m\u001b[43m)\u001b[49m\n\u001b[1;32m    264\u001b[0m     res_s \u001b[38;5;241m=\u001b[39m fit_datapoints(second_h, precision)\n\u001b[1;32m    266\u001b[0m     \u001b[38;5;28;01mif\u001b[39;00m res_f:\n",
      "File \u001b[0;32m~/Documents/uva/vakken/AutoWrite/src/notebooks/../autowrite/Preprocessor.py:264\u001b[0m, in \u001b[0;36mfit_datapoints\u001b[0;34m(datapoints, precision)\u001b[0m\n\u001b[1;32m    262\u001b[0m first_h, second_h \u001b[38;5;241m=\u001b[39m split\n\u001b[1;32m    263\u001b[0m res_f \u001b[38;5;241m=\u001b[39m fit_datapoints(first_h, precision)\n\u001b[0;32m--> 264\u001b[0m res_s \u001b[38;5;241m=\u001b[39m \u001b[43mfit_datapoints\u001b[49m\u001b[43m(\u001b[49m\u001b[43msecond_h\u001b[49m\u001b[43m,\u001b[49m\u001b[43m \u001b[49m\u001b[43mprecision\u001b[49m\u001b[43m)\u001b[49m\n\u001b[1;32m    266\u001b[0m \u001b[38;5;28;01mif\u001b[39;00m res_f:\n\u001b[1;32m    267\u001b[0m     curves\u001b[38;5;241m.\u001b[39mextend(res_f)\n",
      "File \u001b[0;32m~/Documents/uva/vakken/AutoWrite/src/notebooks/../autowrite/Preprocessor.py:263\u001b[0m, in \u001b[0;36mfit_datapoints\u001b[0;34m(datapoints, precision)\u001b[0m\n\u001b[1;32m    261\u001b[0m \u001b[38;5;28;01mif\u001b[39;00m split:\n\u001b[1;32m    262\u001b[0m     first_h, second_h \u001b[38;5;241m=\u001b[39m split\n\u001b[0;32m--> 263\u001b[0m     res_f \u001b[38;5;241m=\u001b[39m \u001b[43mfit_datapoints\u001b[49m\u001b[43m(\u001b[49m\u001b[43mfirst_h\u001b[49m\u001b[43m,\u001b[49m\u001b[43m \u001b[49m\u001b[43mprecision\u001b[49m\u001b[43m)\u001b[49m\n\u001b[1;32m    264\u001b[0m     res_s \u001b[38;5;241m=\u001b[39m fit_datapoints(second_h, precision)\n\u001b[1;32m    266\u001b[0m     \u001b[38;5;28;01mif\u001b[39;00m res_f:\n",
      "File \u001b[0;32m~/Documents/uva/vakken/AutoWrite/src/notebooks/../autowrite/Preprocessor.py:247\u001b[0m, in \u001b[0;36mfit_datapoints\u001b[0;34m(datapoints, precision)\u001b[0m\n\u001b[1;32m    246\u001b[0m \u001b[38;5;28;01mdef\u001b[39;00m \u001b[38;5;21mfit_datapoints\u001b[39m(datapoints, precision\u001b[38;5;241m=\u001b[39m\u001b[38;5;241m0.001\u001b[39m):\n\u001b[0;32m--> 247\u001b[0m     res \u001b[38;5;241m=\u001b[39m \u001b[43mfit_curve_newton_step\u001b[49m\u001b[43m(\u001b[49m\u001b[43mdatapoints\u001b[49m\u001b[43m)\u001b[49m\n\u001b[1;32m    248\u001b[0m     PE, s, error \u001b[38;5;241m=\u001b[39m res\n\u001b[1;32m    249\u001b[0m     stdev \u001b[38;5;241m=\u001b[39m (error\u001b[38;5;241m/\u001b[39m\u001b[38;5;28mlen\u001b[39m(datapoints))\u001b[38;5;241m*\u001b[39m\u001b[38;5;241m*\u001b[39m(\u001b[38;5;241m1\u001b[39m\u001b[38;5;241m/\u001b[39m\u001b[38;5;241m2\u001b[39m)\n",
      "File \u001b[0;32m~/Documents/uva/vakken/AutoWrite/src/notebooks/../autowrite/Preprocessor.py:192\u001b[0m, in \u001b[0;36mfit_curve_newton_step\u001b[0;34m(data, delta, precision, maxiter)\u001b[0m\n\u001b[1;32m    190\u001b[0m \u001b[38;5;28;01mdef\u001b[39;00m \u001b[38;5;21mfit_curve_newton_step\u001b[39m(data, delta\u001b[38;5;241m=\u001b[39m\u001b[38;5;241m0.05\u001b[39m, precision\u001b[38;5;241m=\u001b[39m\u001b[38;5;241m0.05\u001b[39m, maxiter\u001b[38;5;241m=\u001b[39m\u001b[38;5;241m10\u001b[39m):\n\u001b[1;32m    191\u001b[0m     D \u001b[38;5;241m=\u001b[39m data[data[:, \u001b[38;5;241m2\u001b[39m] \u001b[38;5;241m>\u001b[39m\u001b[38;5;241m=\u001b[39m \u001b[38;5;241m0\u001b[39m]\n\u001b[0;32m--> 192\u001b[0m     s \u001b[38;5;241m=\u001b[39m \u001b[43mget_relative_distances\u001b[49m\u001b[43m(\u001b[49m\u001b[43mD\u001b[49m\u001b[43m)\u001b[49m\n\u001b[1;32m    193\u001b[0m     S \u001b[38;5;241m=\u001b[39m makeSMatrix(s, \u001b[38;5;241m4\u001b[39m)\n\u001b[1;32m    194\u001b[0m     PE \u001b[38;5;241m=\u001b[39m np\u001b[38;5;241m.\u001b[39mlinalg\u001b[38;5;241m.\u001b[39mlstsq(S, D, rcond\u001b[38;5;241m=\u001b[39m\u001b[38;5;28;01mNone\u001b[39;00m)[\u001b[38;5;241m0\u001b[39m]\n",
      "File \u001b[0;32m~/Documents/uva/vakken/AutoWrite/src/notebooks/../autowrite/Preprocessor.py:187\u001b[0m, in \u001b[0;36mget_relative_distances\u001b[0;34m(data)\u001b[0m\n\u001b[1;32m    185\u001b[0m diffs \u001b[38;5;241m=\u001b[39m (data[\u001b[38;5;241m1\u001b[39m:, :] \u001b[38;5;241m-\u001b[39m data[:\u001b[38;5;241m-\u001b[39m\u001b[38;5;241m1\u001b[39m, :])\n\u001b[1;32m    186\u001b[0m distances \u001b[38;5;241m=\u001b[39m np\u001b[38;5;241m.\u001b[39minsert((diffs[:, \u001b[38;5;241m0\u001b[39m]\u001b[38;5;241m*\u001b[39m\u001b[38;5;241m*\u001b[39m\u001b[38;5;241m2\u001b[39m \u001b[38;5;241m+\u001b[39m diffs[:, \u001b[38;5;241m1\u001b[39m]\u001b[38;5;241m*\u001b[39m\u001b[38;5;241m*\u001b[39m\u001b[38;5;241m2\u001b[39m)\u001b[38;5;241m*\u001b[39m\u001b[38;5;241m*\u001b[39m(\u001b[38;5;241m1\u001b[39m\u001b[38;5;241m/\u001b[39m\u001b[38;5;241m2\u001b[39m), \u001b[38;5;241m0\u001b[39m, \u001b[38;5;241m0\u001b[39m)\n\u001b[0;32m--> 187\u001b[0m cummulative_distances \u001b[38;5;241m=\u001b[39m \u001b[43mnp\u001b[49m\u001b[38;5;241;43m.\u001b[39;49m\u001b[43mcumsum\u001b[49m\u001b[43m(\u001b[49m\u001b[43mdistances\u001b[49m\u001b[43m)\u001b[49m\n\u001b[1;32m    188\u001b[0m \u001b[38;5;28;01mreturn\u001b[39;00m cummulative_distances\u001b[38;5;241m/\u001b[39mcummulative_distances[\u001b[38;5;241m-\u001b[39m\u001b[38;5;241m1\u001b[39m]\n",
      "File \u001b[0;32m<__array_function__ internals>:180\u001b[0m, in \u001b[0;36mcumsum\u001b[0;34m(*args, **kwargs)\u001b[0m\n",
      "File \u001b[0;32m~/Documents/uva/vakken/auto_write/venv/lib/python3.10/site-packages/numpy/core/fromnumeric.py:2569\u001b[0m, in \u001b[0;36mcumsum\u001b[0;34m(a, axis, dtype, out)\u001b[0m\n\u001b[1;32m   2495\u001b[0m \u001b[38;5;129m@array_function_dispatch\u001b[39m(_cumsum_dispatcher)\n\u001b[1;32m   2496\u001b[0m \u001b[38;5;28;01mdef\u001b[39;00m \u001b[38;5;21mcumsum\u001b[39m(a, axis\u001b[38;5;241m=\u001b[39m\u001b[38;5;28;01mNone\u001b[39;00m, dtype\u001b[38;5;241m=\u001b[39m\u001b[38;5;28;01mNone\u001b[39;00m, out\u001b[38;5;241m=\u001b[39m\u001b[38;5;28;01mNone\u001b[39;00m):\n\u001b[1;32m   2497\u001b[0m     \u001b[38;5;124;03m\"\"\"\u001b[39;00m\n\u001b[1;32m   2498\u001b[0m \u001b[38;5;124;03m    Return the cumulative sum of the elements along a given axis.\u001b[39;00m\n\u001b[1;32m   2499\u001b[0m \n\u001b[0;32m   (...)\u001b[0m\n\u001b[1;32m   2567\u001b[0m \n\u001b[1;32m   2568\u001b[0m \u001b[38;5;124;03m    \"\"\"\u001b[39;00m\n\u001b[0;32m-> 2569\u001b[0m     \u001b[38;5;28;01mreturn\u001b[39;00m \u001b[43m_wrapfunc\u001b[49m\u001b[43m(\u001b[49m\u001b[43ma\u001b[49m\u001b[43m,\u001b[49m\u001b[43m \u001b[49m\u001b[38;5;124;43m'\u001b[39;49m\u001b[38;5;124;43mcumsum\u001b[39;49m\u001b[38;5;124;43m'\u001b[39;49m\u001b[43m,\u001b[49m\u001b[43m \u001b[49m\u001b[43maxis\u001b[49m\u001b[38;5;241;43m=\u001b[39;49m\u001b[43maxis\u001b[49m\u001b[43m,\u001b[49m\u001b[43m \u001b[49m\u001b[43mdtype\u001b[49m\u001b[38;5;241;43m=\u001b[39;49m\u001b[43mdtype\u001b[49m\u001b[43m,\u001b[49m\u001b[43m \u001b[49m\u001b[43mout\u001b[49m\u001b[38;5;241;43m=\u001b[39;49m\u001b[43mout\u001b[49m\u001b[43m)\u001b[49m\n",
      "File \u001b[0;32m~/Documents/uva/vakken/auto_write/venv/lib/python3.10/site-packages/numpy/core/fromnumeric.py:51\u001b[0m, in \u001b[0;36m_wrapfunc\u001b[0;34m(obj, method, *args, **kwds)\u001b[0m\n\u001b[1;32m     47\u001b[0m         result \u001b[38;5;241m=\u001b[39m wrap(result)\n\u001b[1;32m     48\u001b[0m     \u001b[38;5;28;01mreturn\u001b[39;00m result\n\u001b[0;32m---> 51\u001b[0m \u001b[38;5;28;01mdef\u001b[39;00m \u001b[38;5;21m_wrapfunc\u001b[39m(obj, method, \u001b[38;5;241m*\u001b[39margs, \u001b[38;5;241m*\u001b[39m\u001b[38;5;241m*\u001b[39mkwds):\n\u001b[1;32m     52\u001b[0m     bound \u001b[38;5;241m=\u001b[39m \u001b[38;5;28mgetattr\u001b[39m(obj, method, \u001b[38;5;28;01mNone\u001b[39;00m)\n\u001b[1;32m     53\u001b[0m     \u001b[38;5;28;01mif\u001b[39;00m bound \u001b[38;5;129;01mis\u001b[39;00m \u001b[38;5;28;01mNone\u001b[39;00m:\n",
      "\u001b[0;31mKeyboardInterrupt\u001b[0m: "
     ]
    }
   ],
   "source": [
    "import sys\n",
    "\n",
    "bezier_features = []\n",
    "\n",
    "for i, sample in enumerate(touch_points):\n",
    "    sys.stdout.write(f\"\\r{(float(i)/len(touch_points)*100):.2f}%\")\n",
    "    bezier_features.append(preprocessor.strokes_to_bezier(sample))\n",
    "\n",
    "padded_bezier_features = preprocessor.pad_data(bezier_features, value=0, width=11)"
   ]
  },
  {
   "cell_type": "code",
   "execution_count": null,
   "id": "496b1582",
   "metadata": {
    "scrolled": true
   },
   "outputs": [],
   "source": [
    "visualizer.plot_bezier_curves(padded_bezier_features[1000])"
   ]
  },
  {
   "cell_type": "code",
   "execution_count": null,
   "id": "cb52ecb3",
   "metadata": {},
   "outputs": [],
   "source": [
    "import numpy as np\n",
    "np.save(\"../../data/processed_data/bezier_features_padded_improved\", padded_bezier_features)"
   ]
  },
  {
   "cell_type": "code",
   "execution_count": null,
   "id": "7535520b",
   "metadata": {},
   "outputs": [],
   "source": [
    "target = []\n",
    "\n",
    "for i, sample in enumerate(labels):\n",
    "    sys.stdout.write(f\"\\r{(float(i)/len(touch_points)*100):.2f}%\")\n",
    "    target.append(preprocessor.encode_sample(sample))\n",
    "\n",
    "padded_target = preprocessor.pad_data(target, value=82)"
   ]
  },
  {
   "cell_type": "code",
   "execution_count": null,
   "id": "b5e4bc33",
   "metadata": {},
   "outputs": [],
   "source": [
    "np.save(\"../../data/processed_data/target_padded\", padded_target)"
   ]
  },
  {
   "cell_type": "code",
   "execution_count": null,
   "id": "23bfa3b7",
   "metadata": {
    "scrolled": true
   },
   "outputs": [],
   "source": [
    "from Encoder import Encoder"
   ]
  },
  {
   "cell_type": "code",
   "execution_count": null,
   "id": "078fa9ad",
   "metadata": {
    "scrolled": true
   },
   "outputs": [],
   "source": [
    "import numpy as np\n",
    "\n",
    "target = np.load(\"../../data/processed_data/target_padded.npy\")\n",
    "features = np.load(\"../../data/processed_data/bezier_features_padded_improved.npy\")"
   ]
  },
  {
   "cell_type": "code",
   "execution_count": 17,
   "id": "3db45e75",
   "metadata": {},
   "outputs": [],
   "source": [
    "from PersonalData import PersonalData\n",
    "\n",
    "p = PersonalData(\"../../data/raw_data/personal_data_set\")\n",
    "(s, l) = p.get_samples()"
   ]
  },
  {
   "cell_type": "code",
   "execution_count": 26,
   "id": "dfd80cc1",
   "metadata": {},
   "outputs": [
    {
     "name": "stdout",
     "output_type": "stream",
     "text": [
      "99.01%"
     ]
    }
   ],
   "source": [
    "import sys\n",
    "\n",
    "bezier_features = []\n",
    "\n",
    "for i, sample in enumerate(s):\n",
    "    sys.stdout.write(f\"\\r{(float(i)/len(s)*100):.2f}%\")\n",
    "    bezier_features.append(preprocessor.strokes_to_bezier(sample))\n",
    "\n",
    "padded_bezier_features = preprocessor.pad_data(bezier_features, value=0, width=11)"
   ]
  },
  {
   "cell_type": "code",
   "execution_count": 27,
   "id": "7dfc78c7",
   "metadata": {},
   "outputs": [
    {
     "name": "stdout",
     "output_type": "stream",
     "text": [
      "\r",
      "0.00%\r",
      "0.99%\r",
      "1.98%\r",
      "2.97%\r",
      "3.96%\r",
      "4.95%\r",
      "5.94%\r",
      "6.93%\r",
      "7.92%\r",
      "8.91%\r",
      "9.90%\r",
      "10.89%\r",
      "11.88%\r",
      "12.87%\r",
      "13.86%\r",
      "14.85%\r",
      "15.84%\r",
      "16.83%\r",
      "17.82%\r",
      "18.81%\r",
      "19.80%\r",
      "20.79%\r",
      "21.78%\r",
      "22.77%\r",
      "23.76%\r",
      "24.75%\r",
      "25.74%\r",
      "26.73%\r",
      "27.72%\r",
      "28.71%\r",
      "29.70%\r",
      "30.69%\r",
      "31.68%\r",
      "32.67%\r",
      "33.66%\r",
      "34.65%\r",
      "35.64%\r",
      "36.63%\r",
      "37.62%\r",
      "38.61%\r",
      "39.60%\r",
      "40.59%\r",
      "41.58%\r",
      "42.57%\r",
      "43.56%\r",
      "44.55%\r",
      "45.54%\r",
      "46.53%\r",
      "47.52%\r",
      "48.51%\r",
      "49.50%\r",
      "50.50%\r",
      "51.49%\r",
      "52.48%\r",
      "53.47%\r",
      "54.46%\r",
      "55.45%\r",
      "56.44%\r",
      "57.43%\r",
      "58.42%\r",
      "59.41%\r",
      "60.40%\r",
      "61.39%\r",
      "62.38%\r",
      "63.37%\r",
      "64.36%\r",
      "65.35%\r",
      "66.34%\r",
      "67.33%\r",
      "68.32%\r",
      "69.31%\r",
      "70.30%\r",
      "71.29%\r",
      "72.28%\r",
      "73.27%\r",
      "74.26%\r",
      "75.25%\r",
      "76.24%\r",
      "77.23%\r",
      "78.22%\r",
      "79.21%\r",
      "80.20%\r",
      "81.19%\r",
      "82.18%\r",
      "83.17%\r",
      "84.16%\r",
      "85.15%\r",
      "86.14%\r",
      "87.13%\r",
      "88.12%\r",
      "89.11%\r",
      "90.10%\r",
      "91.09%\r",
      "92.08%\r",
      "93.07%\r",
      "94.06%\r",
      "95.05%\r",
      "96.04%\r",
      "97.03%\r",
      "98.02%\r",
      "99.01%"
     ]
    }
   ],
   "source": [
    "target = []\n",
    "\n",
    "for i, sample in enumerate(l):\n",
    "    sys.stdout.write(f\"\\r{(float(i)/len(l)*100):.2f}%\")\n",
    "    target.append(preprocessor.encode_sample(sample))\n",
    "\n",
    "padded_target = preprocessor.pad_data(target, value=82)"
   ]
  },
  {
   "cell_type": "code",
   "execution_count": 32,
   "id": "91a188e0",
   "metadata": {
    "scrolled": true
   },
   "outputs": [
    {
     "name": "stdout",
     "output_type": "stream",
     "text": [
      "['L', 'i', 't', 't', 'l', 'e', ' ', 's', 'c', 'i', 'e', 'n', 't', 'i', 'f', 'i', 'c', ' ', '2', '0', '1', '6', ',', ' ', 'N', 'a', 'v', 'y', ' ', 'P', 'i', 'e', 'r']\n"
     ]
    },
    {
     "data": {
      "image/png": "[encoded data removed]",
      "text/plain": [
       "<Figure size 432x288 with 1 Axes>"
      ]
     },
     "metadata": {
      "needs_background": "light"
     },
     "output_type": "display_data"
    }
   ],
   "source": [
    "print(preprocessor.decode_sample(padded_target[0][padded_target[0] < 82]))\n",
    "visualizer.plot_bezier_curves(padded_bezier_features[0])"
   ]
  },
  {
   "cell_type": "code",
   "execution_count": 35,
   "id": "3872fdfa",
   "metadata": {},
   "outputs": [
    {
     "name": "stdout",
     "output_type": "stream",
     "text": [
      "(11983, 201, 11)\n",
      "(11983, 64)\n"
     ]
    }
   ],
   "source": [
    "print(features.shape)\n",
    "print(target.shape)"
   ]
  },
  {
   "cell_type": "code",
   "execution_count": 47,
   "id": "a7a896df",
   "metadata": {},
   "outputs": [],
   "source": [
    "tb = np.append(padded_bezier_features, np.zeros((101, 46, 11)), axis=1)"
   ]
  },
  {
   "cell_type": "code",
   "execution_count": 49,
   "id": "067f5e7b",
   "metadata": {},
   "outputs": [],
   "source": [
    "tt = np.append(padded_target, np.full((101, 14), 82), axis=1)"
   ]
  },
  {
   "cell_type": "code",
   "execution_count": 53,
   "id": "0e203cf4",
   "metadata": {},
   "outputs": [],
   "source": [
    "personal_f = np.append(features, tb, axis=0)\n",
    "personal_t = np.append(target, tt, axis=0)"
   ]
  },
  {
   "cell_type": "code",
   "execution_count": 57,
   "id": "25499dd6",
   "metadata": {},
   "outputs": [
    {
     "name": "stdout",
     "output_type": "stream",
     "text": [
      "['T', 'h', 'e', ' ', 'r', 'u', 's', 't', 'i', 'c', ' ', 'c', 'l', 'e', 'r', 'i', 'c', ' ', 'd', 'r', 'a', 'g', 's', ' ', 'f', 'o', 'r', 't', 'u', 'n', 'e', '.']\n"
     ]
    },
    {
     "data": {
      "image/png": "[encoded data removed]",
      "text/plain": [
       "<Figure size 432x288 with 1 Axes>"
      ]
     },
     "metadata": {
      "needs_background": "light"
     },
     "output_type": "display_data"
    }
   ],
   "source": [
    "sample = 12000\n",
    "print(preprocessor.decode_sample(personal_t[sample][personal_t[sample] < 82]))\n",
    "visualizer.plot_bezier_curves(personal_f[sample])"
   ]
  },
  {
   "cell_type": "code",
   "execution_count": 58,
   "id": "1169613b",
   "metadata": {},
   "outputs": [],
   "source": [
    "np.save(\"../../data/processed_data/bezier_features_personal_padded\", personal_f)\n",
    "np.save(\"../../data/processed_data/target_personal_padded\", personal_t)"
   ]
  },
  {
   "cell_type": "code",
   "execution_count": null,
   "id": "1cc6893b",
   "metadata": {},
   "outputs": [],
   "source": []
  }
 ],
 "metadata": {
  "kernelspec": {
   "display_name": "Python 3 (ipykernel)",
   "language": "python",
   "name": "python3"
  },
  "language_info": {
   "codemirror_mode": {
    "name": "ipython",
    "version": 3
   },
   "file_extension": ".py",
   "mimetype": "text/x-python",
   "name": "python",
   "nbconvert_exporter": "python",
   "pygments_lexer": "ipython3",
   "version": "3.10.3"
  }
 },
 "nbformat": 4,
 "nbformat_minor": 5
}
