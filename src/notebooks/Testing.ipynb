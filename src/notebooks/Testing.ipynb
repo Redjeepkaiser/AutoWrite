{
 "cells": [
  {
   "cell_type": "code",
   "execution_count": null,
   "id": "19221501",
   "metadata": {},
   "outputs": [],
   "source": [
    "import sys\n",
    "sys.path.insert(0, \"../autowrite\")"
   ]
  },
  {
   "cell_type": "code",
   "execution_count": null,
   "id": "8c076257",
   "metadata": {},
   "outputs": [],
   "source": [
    "from Iamondb import Iamondb"
   ]
  },
  {
   "cell_type": "code",
   "execution_count": null,
   "id": "a67155e3",
   "metadata": {},
   "outputs": [],
   "source": [
    "iamondb = Iamondb(\"./../../data/raw_data\")"
   ]
  },
  {
   "cell_type": "code",
   "execution_count": null,
   "id": "1c41fe5d",
   "metadata": {},
   "outputs": [],
   "source": [
    "t = iamondb.get_text_file_paths()\n",
    "print(t[0])"
   ]
  },
  {
   "cell_type": "code",
   "execution_count": null,
   "id": "5a56874e",
   "metadata": {},
   "outputs": [],
   "source": [
    "t = iamondb.get_stroke_file_paths_for_text_file(t[0])"
   ]
  },
  {
   "cell_type": "code",
   "execution_count": null,
   "id": "59ebf0db",
   "metadata": {},
   "outputs": [],
   "source": [
    "iamondb.parse_stroke_file(t[0])"
   ]
  },
  {
   "cell_type": "code",
   "execution_count": 8,
   "id": "0fda5e32",
   "metadata": {},
   "outputs": [
    {
     "ename": "NameError",
     "evalue": "name 'path' is not defined",
     "output_type": "error",
     "traceback": [
      "\u001b[0;31m---------------------------------------------------------------------------\u001b[0m",
      "\u001b[0;31mNameError\u001b[0m                                 Traceback (most recent call last)",
      "Input \u001b[0;32mIn [8]\u001b[0m, in \u001b[0;36m<cell line: 1>\u001b[0;34m()\u001b[0m\n\u001b[0;32m----> 1\u001b[0m t \u001b[38;5;241m=\u001b[39m \u001b[43miamondb\u001b[49m\u001b[38;5;241;43m.\u001b[39;49m\u001b[43mget_samples\u001b[49m\u001b[43m(\u001b[49m\u001b[43m)\u001b[49m\n",
      "File \u001b[0;32m~/AutoWrite/src/notebooks/../autowrite/Iamondb.py:65\u001b[0m, in \u001b[0;36mIamondb.get_samples\u001b[0;34m(self)\u001b[0m\n\u001b[1;32m     63\u001b[0m lines \u001b[38;5;241m=\u001b[39m []\n\u001b[1;32m     64\u001b[0m \u001b[38;5;28;01mfor\u001b[39;00m text_file_path \u001b[38;5;129;01min\u001b[39;00m \u001b[38;5;28mself\u001b[39m\u001b[38;5;241m.\u001b[39mget_text_file_paths():\n\u001b[0;32m---> 65\u001b[0m     stroke_file_paths \u001b[38;5;241m=\u001b[39m \u001b[38;5;28mself\u001b[39m\u001b[38;5;241m.\u001b[39mget_stroke_file_paths_for_text_file(\u001b[43mpath\u001b[49m)\n\u001b[1;32m     67\u001b[0m     \u001b[38;5;28;01mif\u001b[39;00m \u001b[38;5;129;01mnot\u001b[39;00m stroke_file_paths:\n\u001b[1;32m     68\u001b[0m         \u001b[38;5;28;01mcontinue\u001b[39;00m\n",
      "\u001b[0;31mNameError\u001b[0m: name 'path' is not defined"
     ]
    }
   ],
   "source": [
    "t = iamondb.get_samples()"
   ]
  },
  {
   "cell_type": "code",
   "execution_count": null,
   "id": "74153e6c",
   "metadata": {},
   "outputs": [],
   "source": []
  }
 ],
 "metadata": {
  "kernelspec": {
   "display_name": "Python 3 (ipykernel)",
   "language": "python",
   "name": "python3"
  },
  "language_info": {
   "codemirror_mode": {
    "name": "ipython",
    "version": 3
   },
   "file_extension": ".py",
   "mimetype": "text/x-python",
   "name": "python",
   "nbconvert_exporter": "python",
   "pygments_lexer": "ipython3",
   "version": "3.10.3"
  }
 },
 "nbformat": 4,
 "nbformat_minor": 5
}
