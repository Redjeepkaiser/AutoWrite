{
 "cells": [
  {
   "cell_type": "code",
   "execution_count": null,
   "id": "19221501",
   "metadata": {},
   "outputs": [],
   "source": [
    "import sys\n",
    "sys.path.insert(0, \"../autowrite\")"
   ]
  },
  {
   "cell_type": "code",
   "execution_count": null,
   "id": "8c076257",
   "metadata": {
    "scrolled": false
   },
   "outputs": [],
   "source": [
    "from Iamondb import Iamondb\n",
    "from Visualizer import Visualizer"
   ]
  },
  {
   "cell_type": "code",
   "execution_count": null,
   "id": "a67155e3",
   "metadata": {
    "scrolled": true
   },
   "outputs": [],
   "source": [
    "iamondb = Iamondb(\"./../../data/raw_data\")"
   ]
  },
  {
   "cell_type": "code",
   "execution_count": null,
   "id": "0fda5e32",
   "metadata": {},
   "outputs": [],
   "source": [
    "touch_points, labels = iamondb.get_samples()"
   ]
  },
  {
   "cell_type": "code",
   "execution_count": null,
   "id": "74153e6c",
   "metadata": {
    "scrolled": true
   },
   "outputs": [],
   "source": [
    "print(len(touch_points), len(labels))"
   ]
  },
  {
   "cell_type": "code",
   "execution_count": null,
   "id": "dcc3eed9",
   "metadata": {},
   "outputs": [],
   "source": [
    "i = 30\n",
    "example_touch_points = touch_points[i]\n",
    "example_text = labels[i]"
   ]
  },
  {
   "cell_type": "code",
   "execution_count": null,
   "id": "f74ef516",
   "metadata": {},
   "outputs": [],
   "source": [
    "visualizer = Visualizer()"
   ]
  },
  {
   "cell_type": "code",
   "execution_count": null,
   "id": "fc456acb",
   "metadata": {
    "scrolled": true
   },
   "outputs": [],
   "source": [
    "visualizer.plot_raw_sample(example_touch_points)\n",
    "print(example_text)"
   ]
  },
  {
   "cell_type": "code",
   "execution_count": null,
   "id": "3a61d56b",
   "metadata": {
    "scrolled": true
   },
   "outputs": [],
   "source": [
    "from Preprocessor import Preprocessor"
   ]
  },
  {
   "cell_type": "code",
   "execution_count": null,
   "id": "abf26592",
   "metadata": {},
   "outputs": [],
   "source": [
    "preprocessor = Preprocessor(\"../autowrite/model_data/alphabet\")"
   ]
  },
  {
   "cell_type": "code",
   "execution_count": null,
   "id": "93988f43",
   "metadata": {},
   "outputs": [],
   "source": [
    "%matplotlib qt\n",
    "\n",
    "normalized = preprocessor.normalize_strokes(example_touch_points)\n",
    "visualizer.plot_raw_sample(normalized)\n",
    "print(preprocessor.decode_sample(preprocessor.encode_sample(example_text)))"
   ]
  },
  {
   "cell_type": "code",
   "execution_count": null,
   "id": "497e46cb",
   "metadata": {},
   "outputs": [],
   "source": [
    "fitted_bezier_curves = preprocessor.strokes_to_bezier(example_touch_points)\n",
    "visualizer.plot_bezier_curves(fitted_bezier_curves, control_points=True)"
   ]
  },
  {
   "cell_type": "code",
   "execution_count": null,
   "id": "bccdd90f",
   "metadata": {},
   "outputs": [],
   "source": [
    "import sys\n",
    "\n",
    "bezier_features = []\n",
    "\n",
    "for i, sample in enumerate(touch_points):\n",
    "    sys.stdout.write(f\"\\r{(float(i)/len(touch_points)*100):.2f}%\")\n",
    "    bezier_features.append(preprocessor.strokes_to_bezier(sample))\n",
    "\n",
    "padded_bezier_features = preprocessor.pad_data(bezier_features, value=0, width=11)"
   ]
  },
  {
   "cell_type": "code",
   "execution_count": null,
   "id": "496b1582",
   "metadata": {
    "scrolled": true
   },
   "outputs": [],
   "source": [
    "visualizer.plot_bezier_curves(padded_bezier_features[1000])"
   ]
  },
  {
   "cell_type": "code",
   "execution_count": null,
   "id": "cb52ecb3",
   "metadata": {},
   "outputs": [],
   "source": [
    "import numpy as np\n",
    "np.save(\"../../data/processed_data/bezier_features_padded_improved\", padded_bezier_features)"
   ]
  },
  {
   "cell_type": "code",
   "execution_count": null,
   "id": "7535520b",
   "metadata": {},
   "outputs": [],
   "source": [
    "target = []\n",
    "\n",
    "for i, sample in enumerate(labels):\n",
    "    sys.stdout.write(f\"\\r{(float(i)/len(touch_points)*100):.2f}%\")\n",
    "    target.append(preprocessor.encode_sample(sample))\n",
    "\n",
    "padded_target = preprocessor.pad_data(target, value=82)"
   ]
  },
  {
   "cell_type": "code",
   "execution_count": null,
   "id": "b5e4bc33",
   "metadata": {},
   "outputs": [],
   "source": [
    "np.save(\"../../data/processed_data/target_padded\", padded_target)"
   ]
  },
  {
   "cell_type": "code",
   "execution_count": null,
   "id": "23bfa3b7",
   "metadata": {
    "scrolled": true
   },
   "outputs": [],
   "source": [
    "from Encoder import Encoder"
   ]
  },
  {
   "cell_type": "code",
   "execution_count": null,
   "id": "078fa9ad",
   "metadata": {
    "scrolled": true
   },
   "outputs": [],
   "source": [
    "import numpy as np\n",
    "\n",
    "target = np.load(\"../../data/processed_data/target_padded.npy\")\n",
    "features = np.load(\"../../data/processed_data/bezier_features_padded_improved.npy\")"
   ]
  },
  {
   "cell_type": "code",
   "execution_count": null,
   "id": "3db45e75",
   "metadata": {},
   "outputs": [],
   "source": [
    "from PersonalData import PersonalData\n",
    "\n",
    "p = PersonalData(\"../../data/raw_data/personal_data_set\")\n",
    "(s, l) = p.get_samples()"
   ]
  },
  {
   "cell_type": "code",
   "execution_count": null,
   "id": "dfd80cc1",
   "metadata": {},
   "outputs": [],
   "source": [
    "import sys\n",
    "\n",
    "bezier_features = []\n",
    "\n",
    "for i, sample in enumerate(s):\n",
    "    sys.stdout.write(f\"\\r{(float(i)/len(s)*100):.2f}%\")\n",
    "    bezier_features.append(preprocessor.strokes_to_bezier(sample))\n",
    "\n",
    "padded_bezier_features = preprocessor.pad_data(bezier_features, value=0, width=11)"
   ]
  },
  {
   "cell_type": "code",
   "execution_count": null,
   "id": "7dfc78c7",
   "metadata": {},
   "outputs": [],
   "source": [
    "target = []\n",
    "\n",
    "for i, sample in enumerate(l):\n",
    "    sys.stdout.write(f\"\\r{(float(i)/len(l)*100):.2f}%\")\n",
    "    target.append(preprocessor.encode_sample(sample))\n",
    "\n",
    "padded_target = preprocessor.pad_data(target, value=82)"
   ]
  },
  {
   "cell_type": "code",
   "execution_count": null,
   "id": "91a188e0",
   "metadata": {
    "scrolled": true
   },
   "outputs": [],
   "source": [
    "print(preprocessor.decode_sample(padded_target[0][padded_target[0] < 82]))\n",
    "visualizer.plot_bezier_curves(padded_bezier_features[0])"
   ]
  },
  {
   "cell_type": "code",
   "execution_count": null,
   "id": "3872fdfa",
   "metadata": {},
   "outputs": [],
   "source": [
    "print(features.shape)\n",
    "print(target.shape)"
   ]
  },
  {
   "cell_type": "code",
   "execution_count": null,
   "id": "1cc6893b",
   "metadata": {},
   "outputs": [],
   "source": []
  }
 ],
 "metadata": {
  "kernelspec": {
   "display_name": "Python 3 (ipykernel)",
   "language": "python",
   "name": "python3"
  },
  "language_info": {
   "codemirror_mode": {
    "name": "ipython",
    "version": 3
   },
   "file_extension": ".py",
   "mimetype": "text/x-python",
   "name": "python",
   "nbconvert_exporter": "python",
   "pygments_lexer": "ipython3",
   "version": "3.10.3"
  }
 },
 "nbformat": 4,
 "nbformat_minor": 5
}
