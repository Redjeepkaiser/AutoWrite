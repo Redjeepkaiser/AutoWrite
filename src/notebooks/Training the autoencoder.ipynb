{
 "cells": [
  {
   "cell_type": "code",
   "execution_count": null,
   "id": "4688932d",
   "metadata": {},
   "outputs": [],
   "source": [
    "import numpy as np\n",
    "import pickle\n",
    "\n",
    "padded_features = np.load(\"../../data/processed_data/rtp_features.npy\")\n",
    "padded_target = np.load(\"../../data/processed_data/rtp_target.npy\")\n",
    "\n",
    "with open(\"../../data/processed_data/alphabet\", \"rb\") as f:\n",
    "    alphabet = pickle.load(f)\n",
    "\n",
    "print(padded_features.shape, padded_target.shape)"
   ]
  },
  {
   "cell_type": "code",
   "execution_count": null,
   "id": "5b2eb4a1",
   "metadata": {},
   "outputs": [],
   "source": [
    "LATENT_SIZE = len(alphabet) + 1\n",
    "\n",
    "N_BLSTM_LAYERS = 5\n",
    "N_CELLS = 64\n",
    "\n",
    "LEARNING_RATE = 10**-4\n",
    "\n",
    "BATCH_SIZE = 8\n",
    "N_FEATURES = 5\n",
    "N_TIMESTEPS = 1713\n",
    "N_EPOCHS = 1"
   ]
  },
  {
   "cell_type": "code",
   "execution_count": null,
   "id": "7d600cb8",
   "metadata": {},
   "outputs": [],
   "source": [
    "import tensorflow as tf\n",
    "\n",
    "def split_data(features, train_size=0.9):\n",
    "    size = len(features)\n",
    "    indices = np.arange(size)\n",
    "    np.random.shuffle(indices)\n",
    "    train_samples = int(size * train_size)\n",
    "    \n",
    "    x_train = features[indices[:train_samples]]\n",
    "    x_valid = features[indices[train_samples:]]\n",
    "    \n",
    "    return (\n",
    "        x_train,\n",
    "        x_valid\n",
    "    )\n",
    "\n",
    "x_train, x_valid = split_data(padded_features)\n",
    "\n",
    "def create_dataset(train_data, n_epochs, batch_size):\n",
    "    dataset = tf.data.Dataset.from_tensor_slices((x_train, x_train))\n",
    "    dataset = dataset.shuffle(1000)\n",
    "    dataset = dataset.repeat(n_epochs)\n",
    "    dataset = dataset.batch(batch_size)\n",
    "    dataset = dataset.prefetch(1)\n",
    "    return dataset\n",
    "\n",
    "train_dataset = create_dataset(x_train, N_EPOCHS, BATCH_SIZE)\n",
    "validation_dataset = create_dataset(x_valid, N_EPOCHS, BATCH_SIZE)"
   ]
  },
  {
   "cell_type": "code",
   "execution_count": null,
   "id": "22724ad6",
   "metadata": {},
   "outputs": [],
   "source": [
    "from keras.layers import Bidirectional, LSTM, Dense, Input, Masking\n",
    "\n",
    "def build_encoder_model(n_blstm_layers, n_cells, n_features, output_size):\n",
    "    model = tf.keras.models.Sequential()\n",
    "\n",
    "    model.add(Masking(input_shape=(None, N_FEATURES), mask_value=tf.constant([0, 0, 0, 0, 0], tf.float32)))\n",
    "    \n",
    "    for i in range(n_blstm_layers):\n",
    "        model.add(Bidirectional(LSTM(N_CELLS,\n",
    "                                     input_shape=(None, N_FEATURES),\n",
    "                                     return_sequences = True,\n",
    "                                     dropout = 0.5),\n",
    "                                merge_mode = 'sum'))\n",
    "\n",
    "    model.add(Dense(output_size, activation = 'softmax'))\n",
    "    return model\n",
    "\n",
    "def build_decoder_model(n_blstm_layers, n_cells, n_features, output_size):\n",
    "    model = tf.keras.models.Sequential()\n",
    "    \n",
    "    for i in range(n_blstm_layers):\n",
    "        model.add(Bidirectional(LSTM(N_CELLS,\n",
    "                                     input_shape=(None, N_FEATURES),\n",
    "                                     return_sequences = True,\n",
    "                                     dropout = 0.5),\n",
    "                                merge_mode = 'sum'))\n",
    "\n",
    "    model.add(Dense(output_size, activation = 'sigmoid'))\n",
    "    return model"
   ]
  },
  {
   "cell_type": "code",
   "execution_count": null,
   "id": "8c5b1adb",
   "metadata": {},
   "outputs": [],
   "source": [
    "from tensorflow.keras.models import Model\n",
    "import os\n",
    "\n",
    "class Autoencoder(Model):\n",
    "    def __init__(self, latent_dim):\n",
    "        super(Autoencoder, self).__init__()\n",
    "        self.latent_dim = latent_dim\n",
    "        \n",
    "        self.encoder = build_encoder_model(N_BLSTM_LAYERS, N_CELLS, N_FEATURES, LATENT_SIZE)\n",
    "        \n",
    "        checkpoint_path = \"training_1/cp.ckpt\"\n",
    "        checkpoint_dir = os.path.dirname(checkpoint_path)\n",
    "        latest = tf.train.latest_checkpoint(checkpoint_dir)\n",
    "        self.encoder.load_weights(latest)\n",
    "        \n",
    "        self.decoder = build_decoder_model(N_BLSTM_LAYERS, N_CELLS, LATENT_SIZE, N_FEATURES)\n",
    "\n",
    "    def call(self, x):\n",
    "        encoded = self.encoder(x)\n",
    "        decoded = self.decoder(encoded)\n",
    "        return decoded\n",
    "\n",
    "autoencoder = Autoencoder(len(alphabet))"
   ]
  },
  {
   "cell_type": "code",
   "execution_count": null,
   "id": "73c19248",
   "metadata": {},
   "outputs": [],
   "source": [
    "from tensorflow.keras import losses\n",
    "\n",
    "autoencoder.compile(optimizer='adam', loss=losses.MeanSquaredError())"
   ]
  },
  {
   "cell_type": "code",
   "execution_count": null,
   "id": "e18c5093",
   "metadata": {},
   "outputs": [],
   "source": [
    "import keras\n",
    "\n",
    "checkpoint_path = \"training_2/cp.ckpt\"\n",
    "checkpoint_dir = os.path.dirname(checkpoint_path)\n",
    "\n",
    "# Create a callback that saves the model's weights\n",
    "cp_callback = tf.keras.callbacks.ModelCheckpoint(filepath=checkpoint_path,\n",
    "                                                 save_weights_only=True,\n",
    "                                                 verbose=1)\n",
    "\n",
    "tb_callback = tf.keras.callbacks.TensorBoard('./logs', update_freq=1)\n",
    "\n",
    "autoencoder.fit(train_dataset,\n",
    "                epochs=1,\n",
    "                validation_data=validation_dataset,\n",
    "                callbacks=[cp_callback, tb_callback]\n",
    ")"
   ]
  },
  {
   "cell_type": "code",
   "execution_count": null,
   "id": "c0daec6b",
   "metadata": {},
   "outputs": [],
   "source": []
  }
 ],
 "metadata": {
  "kernelspec": {
   "display_name": "Python 3 (ipykernel)",
   "language": "python",
   "name": "python3"
  },
  "language_info": {
   "codemirror_mode": {
    "name": "ipython",
    "version": 3
   },
   "file_extension": ".py",
   "mimetype": "text/x-python",
   "name": "python",
   "nbconvert_exporter": "python",
   "pygments_lexer": "ipython3",
   "version": "3.10.3"
  }
 },
 "nbformat": 4,
 "nbformat_minor": 5
}
