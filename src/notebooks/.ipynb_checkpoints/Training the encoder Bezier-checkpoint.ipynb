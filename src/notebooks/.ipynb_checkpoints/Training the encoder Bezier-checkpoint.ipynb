{
 "cells": [
  {
   "cell_type": "code",
   "execution_count": 4,
   "id": "e702dcc2",
   "metadata": {
    "scrolled": false
   },
   "outputs": [
    {
     "name": "stdout",
     "output_type": "stream",
     "text": [
      "(11983, 201, 11) (11983, 64)\n"
     ]
    }
   ],
   "source": [
    "import numpy as np\n",
    "import pickle\n",
    "\n",
    "padded_features = np.load(\"../../data/processed_data/bezier_features_padded_improved.npy\")\n",
    "padded_target = np.load(\"../../data/processed_data/target_padded.npy\")\n",
    "\n",
    "with open(\"../../data/processed_data/alphabet\", \"rb\") as f:\n",
    "    alphabet = pickle.load(f)\n",
    "\n",
    "print(padded_features.shape, padded_target.shape)"
   ]
  },
  {
   "cell_type": "code",
   "execution_count": 5,
   "id": "12630381",
   "metadata": {},
   "outputs": [],
   "source": [
    "import os\n",
    "os.environ['TF_CPP_MIN_LOG_LEVEL'] = '2'"
   ]
  },
  {
   "cell_type": "code",
   "execution_count": 6,
   "id": "b619fe7a",
   "metadata": {},
   "outputs": [
    {
     "name": "stdout",
     "output_type": "stream",
     "text": [
      "TensorFlow version: 2.9.0\n",
      "[PhysicalDevice(name='/physical_device:GPU:0', device_type='GPU')]\n",
      "True\n"
     ]
    }
   ],
   "source": [
    "import tensorflow as tf\n",
    "print(\"TensorFlow version:\", tf.__version__)\n",
    "print(tf.config.list_physical_devices('GPU'))\n",
    "print(tf.test.is_built_with_cuda())"
   ]
  },
  {
   "cell_type": "code",
   "execution_count": 106,
   "id": "523333b5",
   "metadata": {},
   "outputs": [],
   "source": [
    "def split_data(features, target, train_size=0.9):\n",
    "    size = len(features)\n",
    "    indices = np.arange(size)\n",
    "    np.random.shuffle(indices)\n",
    "    train_samples = int(size * train_size)\n",
    "    \n",
    "    x_train, y_train = features[indices[:train_samples]], target[indices[:train_samples]]\n",
    "    x_valid, y_valid = features[indices[train_samples:]], target[indices[train_samples:]]\n",
    "    \n",
    "    return (\n",
    "        x_train,\n",
    "        x_valid,\n",
    "        y_train,\n",
    "        y_valid,\n",
    "    )\n",
    "\n",
    "x_train, x_valid, y_train, y_valid = split_data(padded_features, padded_target)"
   ]
  },
  {
   "cell_type": "code",
   "execution_count": 81,
   "id": "fc93ff2e",
   "metadata": {},
   "outputs": [
    {
     "name": "stdout",
     "output_type": "stream",
     "text": [
      "10784 201 11\n"
     ]
    }
   ],
   "source": [
    "print(len(x_train), len(x_train[0]), len(x_train[0][0]))"
   ]
  },
  {
   "cell_type": "code",
   "execution_count": 105,
   "id": "bf601632",
   "metadata": {},
   "outputs": [],
   "source": [
    "OUTPUT_SIZE = len(alphabet) + 1\n",
    "\n",
    "N_BLSTM_LAYERS = 5\n",
    "N_CELLS = 64\n",
    "\n",
    "LEARNING_RATE = 10**-4\n",
    "\n",
    "BATCH_SIZE = 8\n",
    "N_FEATURES = len(x_train[0][0])\n",
    "N_TIMESTEPS = len(x_train[0])\n",
    "N_EPOCHS = 400"
   ]
  },
  {
   "cell_type": "code",
   "execution_count": 63,
   "id": "82ebdeaf",
   "metadata": {},
   "outputs": [],
   "source": [
    "from keras.layers import Bidirectional, LSTM, Dense, Input, Masking, TimeDistributed\n",
    "\n",
    "def build_model(n_blstm_layers, n_cells, n_features, output_size):\n",
    "    model = tf.keras.models.Sequential()\n",
    "\n",
    "    model.add(Masking(input_shape=(None, N_FEATURES), mask_value=np.zeros((N_FEATURES))))\n",
    "    \n",
    "    for i in range(n_blstm_layers):\n",
    "        model.add(Bidirectional(LSTM(N_CELLS,\n",
    "                                     input_shape=(None, N_FEATURES),\n",
    "                                     return_sequences = True,\n",
    "                                     dropout = 0.5),\n",
    "                                merge_mode = 'sum'))\n",
    "\n",
    "    model.add(\n",
    "        TimeDistributed(\n",
    "            Dense(output_size, activation = 'softmax')\n",
    "        )\n",
    "    )\n",
    "\n",
    "    return model"
   ]
  },
  {
   "cell_type": "code",
   "execution_count": 82,
   "id": "2d14c905",
   "metadata": {},
   "outputs": [],
   "source": [
    "def ctc_loss(y_true, y_pred):\n",
    "    batch_len = tf.cast(tf.shape(y_true)[0], dtype=\"int64\")\n",
    "    input_length = tf.cast(tf.shape(y_pred)[1], dtype=\"int64\")\n",
    "    label_length = tf.cast(tf.shape(y_true)[1], dtype=\"int64\")\n",
    "\n",
    "    input_length = input_length * tf.ones(shape=(batch_len, 1), dtype=\"int64\")\n",
    "    label_length = label_length * tf.ones(shape=(batch_len, 1), dtype=\"int64\")\n",
    "\n",
    "    loss = keras.backend.ctc_batch_cost(y_true, y_pred, input_length, label_length)\n",
    "    return loss"
   ]
  },
  {
   "cell_type": "code",
   "execution_count": 12,
   "id": "4ac82452",
   "metadata": {},
   "outputs": [],
   "source": [
    "model = build_model(N_BLSTM_LAYERS, N_CELLS, N_FEATURES, OUTPUT_SIZE)\n",
    "\n",
    "model.compile(\n",
    "    loss=ctc_loss,\n",
    "    optimizer= tf.keras.optimizers.Adam(learning_rate=LEARNING_RATE, clipnorm=9)\n",
    ")"
   ]
  },
  {
   "cell_type": "code",
   "execution_count": 107,
   "id": "54760b08",
   "metadata": {},
   "outputs": [],
   "source": [
    "def create_dataset(train_data, valid_data, n_epochs, batch_size):\n",
    "    dataset = tf.data.Dataset.from_tensor_slices((train_data, valid_data))\n",
    "    dataset = dataset.shuffle(1000)\n",
    "    dataset = dataset.batch(batch_size)\n",
    "    dataset = dataset.prefetch(1)\n",
    "    return dataset\n",
    "\n",
    "train_dataset = create_dataset(x_train, y_train, N_EPOCHS, BATCH_SIZE)\n",
    "validation_dataset = create_dataset(x_valid, y_valid, N_EPOCHS, BATCH_SIZE)"
   ]
  },
  {
   "cell_type": "code",
   "execution_count": 108,
   "id": "a55006cb",
   "metadata": {},
   "outputs": [],
   "source": [
    "from pathlib import Path\n",
    "import pickle\n",
    "\n",
    "loss_history = [[], []]\n",
    "\n",
    "loss_path = Path(\"../../training/logs/encoder_bezier_2/loss\") \n",
    "if loss_path.is_file():\n",
    "    with open(loss_path, \"rb\") as f:\n",
    "        loss_history = pickle.load(f)"
   ]
  },
  {
   "cell_type": "code",
   "execution_count": null,
   "id": "d7dde094",
   "metadata": {
    "scrolled": true
   },
   "outputs": [
    {
     "name": "stdout",
     "output_type": "stream",
     "text": [
      "Epoch 1/400\n",
      "1348/1348 [==============================] - ETA: 0s - loss: 17.1680\n",
      "Epoch 1: saving model to ../../training/checkpoints/encoder_bezier_2/cp.ckpt\n",
      "1348/1348 [==============================] - 98s 73ms/step - loss: 17.1680 - val_loss: 13.0040\n",
      "Epoch 2/400\n",
      "1348/1348 [==============================] - ETA: 0s - loss: 17.1236\n",
      "Epoch 2: saving model to ../../training/checkpoints/encoder_bezier_2/cp.ckpt\n",
      "1348/1348 [==============================] - 100s 74ms/step - loss: 17.1236 - val_loss: 13.3061\n",
      "Epoch 3/400\n",
      "1348/1348 [==============================] - ETA: 0s - loss: 17.0536\n",
      "Epoch 3: saving model to ../../training/checkpoints/encoder_bezier_2/cp.ckpt\n",
      "1348/1348 [==============================] - 96s 71ms/step - loss: 17.0536 - val_loss: 13.5778\n",
      "Epoch 4/400\n",
      "1348/1348 [==============================] - ETA: 0s - loss: 16.9961\n",
      "Epoch 4: saving model to ../../training/checkpoints/encoder_bezier_2/cp.ckpt\n",
      "1348/1348 [==============================] - 97s 72ms/step - loss: 16.9961 - val_loss: 13.3689\n",
      "Epoch 5/400\n",
      "1348/1348 [==============================] - ETA: 0s - loss: 16.9930\n",
      "Epoch 5: saving model to ../../training/checkpoints/encoder_bezier_2/cp.ckpt\n",
      "1348/1348 [==============================] - 97s 72ms/step - loss: 16.9930 - val_loss: 12.9578\n",
      "Epoch 6/400\n",
      "1348/1348 [==============================] - ETA: 0s - loss: 16.9381\n",
      "Epoch 6: saving model to ../../training/checkpoints/encoder_bezier_2/cp.ckpt\n",
      "1348/1348 [==============================] - 96s 72ms/step - loss: 16.9381 - val_loss: 12.9330\n",
      "Epoch 7/400\n",
      "1348/1348 [==============================] - ETA: 0s - loss: 16.9640\n",
      "Epoch 7: saving model to ../../training/checkpoints/encoder_bezier_2/cp.ckpt\n",
      "1348/1348 [==============================] - 97s 72ms/step - loss: 16.9640 - val_loss: 13.2026\n",
      "Epoch 8/400\n",
      "1348/1348 [==============================] - ETA: 0s - loss: 16.8944\n",
      "Epoch 8: saving model to ../../training/checkpoints/encoder_bezier_2/cp.ckpt\n",
      "1348/1348 [==============================] - 96s 71ms/step - loss: 16.8944 - val_loss: 12.8008\n",
      "Epoch 9/400\n",
      "1348/1348 [==============================] - ETA: 0s - loss: 16.8464\n",
      "Epoch 9: saving model to ../../training/checkpoints/encoder_bezier_2/cp.ckpt\n",
      "1348/1348 [==============================] - 95s 71ms/step - loss: 16.8464 - val_loss: 12.5800\n",
      "Epoch 10/400\n",
      "1348/1348 [==============================] - ETA: 0s - loss: 16.7023\n",
      "Epoch 10: saving model to ../../training/checkpoints/encoder_bezier_2/cp.ckpt\n",
      "1348/1348 [==============================] - 96s 71ms/step - loss: 16.7023 - val_loss: 12.6001\n",
      "Epoch 11/400\n",
      "1348/1348 [==============================] - ETA: 0s - loss: 16.7569\n",
      "Epoch 11: saving model to ../../training/checkpoints/encoder_bezier_2/cp.ckpt\n",
      "1348/1348 [==============================] - 95s 71ms/step - loss: 16.7569 - val_loss: 12.8720\n",
      "Epoch 12/400\n",
      "1348/1348 [==============================] - ETA: 0s - loss: 16.6928\n",
      "Epoch 12: saving model to ../../training/checkpoints/encoder_bezier_2/cp.ckpt\n",
      "1348/1348 [==============================] - 96s 71ms/step - loss: 16.6928 - val_loss: 12.6796\n",
      "Epoch 13/400\n",
      "1348/1348 [==============================] - ETA: 0s - loss: 16.6442\n",
      "Epoch 13: saving model to ../../training/checkpoints/encoder_bezier_2/cp.ckpt\n",
      "1348/1348 [==============================] - 95s 71ms/step - loss: 16.6442 - val_loss: 13.1935\n",
      "Epoch 14/400\n",
      "1348/1348 [==============================] - ETA: 0s - loss: 16.6368\n",
      "Epoch 14: saving model to ../../training/checkpoints/encoder_bezier_2/cp.ckpt\n",
      "1348/1348 [==============================] - 96s 71ms/step - loss: 16.6368 - val_loss: 12.9191\n",
      "Epoch 15/400\n",
      "1348/1348 [==============================] - ETA: 0s - loss: 16.5003\n",
      "Epoch 15: saving model to ../../training/checkpoints/encoder_bezier_2/cp.ckpt\n",
      "1348/1348 [==============================] - 95s 71ms/step - loss: 16.5003 - val_loss: 13.0897\n",
      "Epoch 16/400\n",
      "1348/1348 [==============================] - ETA: 0s - loss: 16.4911\n",
      "Epoch 16: saving model to ../../training/checkpoints/encoder_bezier_2/cp.ckpt\n",
      "1348/1348 [==============================] - 95s 70ms/step - loss: 16.4911 - val_loss: 13.3607\n",
      "Epoch 17/400\n",
      "1348/1348 [==============================] - ETA: 0s - loss: 16.4992\n",
      "Epoch 17: saving model to ../../training/checkpoints/encoder_bezier_2/cp.ckpt\n",
      "1348/1348 [==============================] - 96s 71ms/step - loss: 16.4992 - val_loss: 13.0632\n",
      "Epoch 18/400\n",
      "1348/1348 [==============================] - ETA: 0s - loss: 16.3532\n",
      "Epoch 18: saving model to ../../training/checkpoints/encoder_bezier_2/cp.ckpt\n",
      "1348/1348 [==============================] - 95s 70ms/step - loss: 16.3532 - val_loss: 13.4469\n",
      "Epoch 19/400\n",
      "1348/1348 [==============================] - ETA: 0s - loss: 16.3716\n",
      "Epoch 19: saving model to ../../training/checkpoints/encoder_bezier_2/cp.ckpt\n",
      "1348/1348 [==============================] - 95s 71ms/step - loss: 16.3716 - val_loss: 12.4494\n",
      "Epoch 20/400\n",
      "1348/1348 [==============================] - ETA: 0s - loss: 16.3670\n",
      "Epoch 20: saving model to ../../training/checkpoints/encoder_bezier_2/cp.ckpt\n",
      "1348/1348 [==============================] - 96s 71ms/step - loss: 16.3670 - val_loss: 12.7510\n",
      "Epoch 21/400\n",
      "1348/1348 [==============================] - ETA: 0s - loss: 16.3495\n",
      "Epoch 21: saving model to ../../training/checkpoints/encoder_bezier_2/cp.ckpt\n",
      "1348/1348 [==============================] - 95s 70ms/step - loss: 16.3495 - val_loss: 12.2819\n",
      "Epoch 22/400\n",
      "1348/1348 [==============================] - ETA: 0s - loss: 16.2740\n",
      "Epoch 22: saving model to ../../training/checkpoints/encoder_bezier_2/cp.ckpt\n",
      "1348/1348 [==============================] - 96s 71ms/step - loss: 16.2740 - val_loss: 13.1190\n",
      "Epoch 23/400\n",
      "1348/1348 [==============================] - ETA: 0s - loss: 16.2458\n",
      "Epoch 23: saving model to ../../training/checkpoints/encoder_bezier_2/cp.ckpt\n",
      "1348/1348 [==============================] - 96s 71ms/step - loss: 16.2458 - val_loss: 12.3887\n",
      "Epoch 24/400\n",
      "1348/1348 [==============================] - ETA: 0s - loss: 16.1894\n",
      "Epoch 24: saving model to ../../training/checkpoints/encoder_bezier_2/cp.ckpt\n",
      "1348/1348 [==============================] - 96s 71ms/step - loss: 16.1894 - val_loss: 12.8952\n",
      "Epoch 25/400\n",
      "1348/1348 [==============================] - ETA: 0s - loss: 16.1467\n",
      "Epoch 25: saving model to ../../training/checkpoints/encoder_bezier_2/cp.ckpt\n",
      "1348/1348 [==============================] - 96s 71ms/step - loss: 16.1467 - val_loss: 12.7692\n",
      "Epoch 26/400\n",
      "1348/1348 [==============================] - ETA: 0s - loss: 16.1130\n",
      "Epoch 26: saving model to ../../training/checkpoints/encoder_bezier_2/cp.ckpt\n",
      "1348/1348 [==============================] - 95s 71ms/step - loss: 16.1130 - val_loss: 13.2288\n",
      "Epoch 27/400\n",
      "1348/1348 [==============================] - ETA: 0s - loss: 16.1202\n",
      "Epoch 27: saving model to ../../training/checkpoints/encoder_bezier_2/cp.ckpt\n",
      "1348/1348 [==============================] - 96s 71ms/step - loss: 16.1202 - val_loss: 12.3350\n",
      "Epoch 28/400\n",
      "1348/1348 [==============================] - ETA: 0s - loss: 16.0587\n",
      "Epoch 28: saving model to ../../training/checkpoints/encoder_bezier_2/cp.ckpt\n",
      "1348/1348 [==============================] - 95s 70ms/step - loss: 16.0587 - val_loss: 12.2410\n",
      "Epoch 29/400\n",
      "1348/1348 [==============================] - ETA: 0s - loss: 16.0501\n",
      "Epoch 29: saving model to ../../training/checkpoints/encoder_bezier_2/cp.ckpt\n",
      "1348/1348 [==============================] - 96s 71ms/step - loss: 16.0501 - val_loss: 12.6131\n",
      "Epoch 30/400\n",
      "1348/1348 [==============================] - ETA: 0s - loss: 15.9813\n",
      "Epoch 30: saving model to ../../training/checkpoints/encoder_bezier_2/cp.ckpt\n",
      "1348/1348 [==============================] - 96s 71ms/step - loss: 15.9813 - val_loss: 12.2401\n",
      "Epoch 31/400\n",
      "1348/1348 [==============================] - ETA: 0s - loss: 15.9317\n",
      "Epoch 31: saving model to ../../training/checkpoints/encoder_bezier_2/cp.ckpt\n",
      "1348/1348 [==============================] - 95s 71ms/step - loss: 15.9317 - val_loss: 12.7898\n",
      "Epoch 32/400\n",
      "1348/1348 [==============================] - ETA: 0s - loss: 15.9584\n",
      "Epoch 32: saving model to ../../training/checkpoints/encoder_bezier_2/cp.ckpt\n",
      "1348/1348 [==============================] - 96s 71ms/step - loss: 15.9584 - val_loss: 12.2165\n",
      "Epoch 33/400\n",
      "1348/1348 [==============================] - ETA: 0s - loss: 15.9060\n",
      "Epoch 33: saving model to ../../training/checkpoints/encoder_bezier_2/cp.ckpt\n",
      "1348/1348 [==============================] - 95s 71ms/step - loss: 15.9060 - val_loss: 12.7138\n",
      "Epoch 34/400\n",
      "1348/1348 [==============================] - ETA: 0s - loss: 15.8875\n",
      "Epoch 34: saving model to ../../training/checkpoints/encoder_bezier_2/cp.ckpt\n",
      "1348/1348 [==============================] - 97s 72ms/step - loss: 15.8875 - val_loss: 12.5530\n",
      "Epoch 35/400\n",
      "1348/1348 [==============================] - ETA: 0s - loss: 15.8339\n",
      "Epoch 35: saving model to ../../training/checkpoints/encoder_bezier_2/cp.ckpt\n",
      "1348/1348 [==============================] - 97s 72ms/step - loss: 15.8339 - val_loss: 12.5727\n",
      "Epoch 36/400\n",
      "1348/1348 [==============================] - ETA: 0s - loss: 15.7855\n",
      "Epoch 36: saving model to ../../training/checkpoints/encoder_bezier_2/cp.ckpt\n",
      "1348/1348 [==============================] - 95s 70ms/step - loss: 15.7855 - val_loss: 12.6811\n",
      "Epoch 37/400\n",
      "1348/1348 [==============================] - ETA: 0s - loss: 15.7656\n",
      "Epoch 37: saving model to ../../training/checkpoints/encoder_bezier_2/cp.ckpt\n",
      "1348/1348 [==============================] - 96s 71ms/step - loss: 15.7656 - val_loss: 12.2533\n",
      "Epoch 38/400\n",
      "1348/1348 [==============================] - ETA: 0s - loss: 15.6895\n",
      "Epoch 38: saving model to ../../training/checkpoints/encoder_bezier_2/cp.ckpt\n",
      "1348/1348 [==============================] - 96s 71ms/step - loss: 15.6895 - val_loss: 12.1451\n",
      "Epoch 39/400\n",
      "1348/1348 [==============================] - ETA: 0s - loss: 15.6569\n",
      "Epoch 39: saving model to ../../training/checkpoints/encoder_bezier_2/cp.ckpt\n",
      "1348/1348 [==============================] - 97s 72ms/step - loss: 15.6569 - val_loss: 11.9523\n",
      "Epoch 40/400\n",
      "1348/1348 [==============================] - ETA: 0s - loss: 15.6669\n",
      "Epoch 40: saving model to ../../training/checkpoints/encoder_bezier_2/cp.ckpt\n",
      "1348/1348 [==============================] - 97s 72ms/step - loss: 15.6669 - val_loss: 12.4339\n",
      "Epoch 41/400\n",
      "1348/1348 [==============================] - ETA: 0s - loss: 15.5922\n",
      "Epoch 41: saving model to ../../training/checkpoints/encoder_bezier_2/cp.ckpt\n",
      "1348/1348 [==============================] - 95s 71ms/step - loss: 15.5922 - val_loss: 12.3657\n",
      "Epoch 42/400\n",
      "1348/1348 [==============================] - ETA: 0s - loss: 15.5800\n",
      "Epoch 42: saving model to ../../training/checkpoints/encoder_bezier_2/cp.ckpt\n",
      "1348/1348 [==============================] - 96s 71ms/step - loss: 15.5800 - val_loss: 12.3928\n",
      "Epoch 43/400\n",
      "1324/1348 [============================>.] - ETA: 1s - loss: 15.5538"
     ]
    }
   ],
   "source": [
    "# %%capture stored_output\n",
    "\n",
    "import keras\n",
    "\n",
    "# checkpoint_path = \"../../training/checkpoints/encoder_bezier/cp.ckpt\"\n",
    "# checkpoint_dir = os.path.dirname(checkpoint_path)\n",
    "\n",
    "checkpoint_path = \"../../training/checkpoints/encoder_bezier_2/cp.ckpt\"\n",
    "checkpoint_dir = os.path.dirname(checkpoint_path)\n",
    "\n",
    "# model.load_weights(checkpoint_path)\n",
    "\n",
    "# Create a callback that saves the model's weights\n",
    "cp_callback = tf.keras.callbacks.ModelCheckpoint(filepath=checkpoint_path,\n",
    "                                                 save_weights_only=True,\n",
    "                                                 verbose=1)\n",
    "\n",
    "history = model.fit(\n",
    "    train_dataset,\n",
    "    validation_data = validation_dataset,\n",
    "    shuffle=True,\n",
    "    epochs = N_EPOCHS,\n",
    "    batch_size = BATCH_SIZE,\n",
    "    callbacks = [cp_callback]\n",
    ")"
   ]
  },
  {
   "cell_type": "code",
   "execution_count": null,
   "id": "ffe22bb7",
   "metadata": {
    "scrolled": false
   },
   "outputs": [],
   "source": [
    "loss_history[0].extend(history.history['loss'])\n",
    "loss_history[1].extend(history.history['val_loss'])"
   ]
  },
  {
   "cell_type": "code",
   "execution_count": null,
   "id": "153f8f09",
   "metadata": {},
   "outputs": [],
   "source": [
    "with open(loss_path, \"wb\") as f:\n",
    "    pickle.dump(loss_history, f)\n",
    "    \n",
    "print(len(loss_history[0]))"
   ]
  },
  {
   "cell_type": "code",
   "execution_count": null,
   "id": "3b863927",
   "metadata": {
    "scrolled": true
   },
   "outputs": [],
   "source": [
    "import matplotlib.pyplot as plt\n",
    "\n",
    "def flatten_list(l):\n",
    "     return [point for elem in l for point in elem]\n",
    "\n",
    "plt.plot(loss_history[0], color=\"red\", label=\"train\")\n",
    "plt.plot(loss_history[1], color=\"black\", label=\"test\")\n",
    "plt.title('model loss')\n",
    "plt.ylabel('loss')\n",
    "plt.xlabel('epoch')\n",
    "plt.legend()\n",
    "plt.show()"
   ]
  },
  {
   "cell_type": "code",
   "execution_count": 33,
   "id": "de90ae1c",
   "metadata": {},
   "outputs": [
    {
     "data": {
      "image/png": "[encoded data removed]",
      "text/plain": [
       "<Figure size 432x288 with 1 Axes>"
      ]
     },
     "metadata": {
      "needs_background": "light"
     },
     "output_type": "display_data"
    }
   ],
   "source": [
    "import sys\n",
    "sys.path.insert(0, \"../autowrite\")\n",
    "from Visualizer import Visualizer\n",
    "\n",
    "visualizer = Visualizer()\n",
    "visualizer.plot_bezier_curves(padded_features[10])"
   ]
  },
  {
   "cell_type": "code",
   "execution_count": 34,
   "id": "23fd565b",
   "metadata": {
    "scrolled": true
   },
   "outputs": [
    {
     "name": "stdout",
     "output_type": "stream",
     "text": [
      "40\n"
     ]
    }
   ],
   "source": [
    "print(len(loss_history[0]))"
   ]
  },
  {
   "cell_type": "code",
   "execution_count": 35,
   "id": "0e23ccec",
   "metadata": {},
   "outputs": [
    {
     "name": "stdout",
     "output_type": "stream",
     "text": [
      "['&', 'T', '!', 'h', '9', 'V', '\\n', 'b', 'o', 'j', 'f', '\"', 'i', 'Z', 'a', 'D', '?', '*', ':', '7', 'k', 's', 'B', 'R', '3', 'U', '8', 'n', 'l', ';', 'M', ',', ')', 'r', '#', 'G', 'm', 'A', 'x', 'O', '4', 'E', 'L', 'g', '6', 'F', '@', 'Q', 'q', 'u', '1', 'W', 'w', 'z', \"'\", 't', 'X', 'H', 'c', '[', 'p', 'C', '+', '5', 'd', 'P', '.', 'v', 'I', 'S', 'e', 'N', 'y', 'K', '/', '(', 'J', '0', '2', ' ', '-', 'Y'] 82\n"
     ]
    }
   ],
   "source": [
    "from pathlib import Path\n",
    "if Path(\"./../../data/processed_data/alphabet\").is_file():\n",
    "    with open(\"./../../data/processed_data/alphabet\", \"rb\") as f:\n",
    "        alphabet = pickle.load(f)\n",
    "\n",
    "print(alphabet, len(alphabet))\n",
    "\n",
    "def encode_textline(textline, alphabet):\n",
    "    return [alphabet.index(c) for c in textline]\n",
    "\n",
    "def decode_textline(encodedline, alphabet):\n",
    "    return [alphabet[int(v)] if int(v) < len(alphabet) else \"blank\"for v in encodedline]\n",
    "\n",
    "def remove_blanks(l):\n",
    "    return [elem for elem in l if elem != \"blank\"]"
   ]
  },
  {
   "cell_type": "code",
   "execution_count": 36,
   "id": "6f301aae",
   "metadata": {
    "scrolled": true
   },
   "outputs": [],
   "source": [
    "# model = build_model(N_BLSTM_LAYERS, N_CELLS, N_FEATURES, OUTPUT_SIZE)\n",
    "# checkpoint_path = \"../../training/checkpoints/encoder_bezier/cp.ckpt\"\n",
    "# model.load_weights(checkpoint_path)"
   ]
  },
  {
   "cell_type": "code",
   "execution_count": 37,
   "id": "bf91e9bb",
   "metadata": {},
   "outputs": [],
   "source": [
    "from Preprocessor import Preprocessor\n",
    "preprocessor = Preprocessor(\"../../data/processed_data/alphabet\")\n",
    "\n",
    "path = \"./input_example.npy\"\n",
    "raw_strokes = np.load(path, allow_pickle=True)\n",
    "p = preprocessor.strokes_to_bezier(raw_strokes, precision=0.01)"
   ]
  },
  {
   "cell_type": "code",
   "execution_count": 38,
   "id": "208c7d55",
   "metadata": {},
   "outputs": [],
   "source": [
    "i = 200\n",
    "sample = padded_features[i]\n",
    "# sample = p\n",
    "output = model.call(tf.convert_to_tensor(np.expand_dims(sample, 0)), mask=None)\n",
    "res = output.numpy()[0]"
   ]
  },
  {
   "cell_type": "code",
   "execution_count": 39,
   "id": "659abff1",
   "metadata": {},
   "outputs": [],
   "source": [
    "argmax = np.argmax(res, axis=1)"
   ]
  },
  {
   "cell_type": "code",
   "execution_count": 40,
   "id": "d517c07f",
   "metadata": {},
   "outputs": [
    {
     "name": "stdout",
     "output_type": "stream",
     "text": [
      "e e ei te \n"
     ]
    },
    {
     "data": {
      "image/png": "[encoded data removed]",
      "text/plain": [
       "<Figure size 432x288 with 1 Axes>"
      ]
     },
     "metadata": {
      "needs_background": "light"
     },
     "output_type": "display_data"
    }
   ],
   "source": [
    "import matplotlib.pyplot as plt\n",
    "\n",
    "# print(\"\".join(remove_blanks(decode_textline(padded_target[], alphabet))))\n",
    "\n",
    "print(\"\".join(remove_blanks(decode_textline(argmax, alphabet))))\n",
    "\n",
    "visualizer.plot_bezier_curves(sample)"
   ]
  },
  {
   "cell_type": "code",
   "execution_count": 41,
   "id": "8920bfa2",
   "metadata": {},
   "outputs": [],
   "source": [
    "np.save(\"test\", sample)"
   ]
  },
  {
   "cell_type": "code",
   "execution_count": 42,
   "id": "bf4a29c2",
   "metadata": {},
   "outputs": [],
   "source": [
    "reshaped_output = tf.reshape(output, (output.shape[1], output.shape[0], output.shape[2]))\n",
    "(decoded, log_probabilities) = tf.nn.ctc_beam_search_decoder(reshaped_output, [reshaped_output.shape[0]], beam_width=3)"
   ]
  },
  {
   "cell_type": "code",
   "execution_count": 43,
   "id": "bc4c81cd",
   "metadata": {},
   "outputs": [
    {
     "name": "stdout",
     "output_type": "stream",
     "text": [
      "['s', 'a', 'r', 'n', 'p', 'i', 's', 't', ' ', 'c', 'e', 'd', ' ', 'e', 'n', ' ', 'h', 't', ' ', 't', 'e', 'd', ' ', 'e', 'd', ' ', 'e', ' ', 'e', ' ', 'e', ' ', 'e', ' ', 'e', ' ', 'e', ' ', 'e', ' ', 'e', ' ', 'e']\n"
     ]
    }
   ],
   "source": [
    "print(decode_textline(decoded[0].values, alphabet))"
   ]
  },
  {
   "cell_type": "code",
   "execution_count": 44,
   "id": "759fb1a2",
   "metadata": {},
   "outputs": [
    {
     "name": "stdout",
     "output_type": "stream",
     "text": [
      "e e e i te\n"
     ]
    }
   ],
   "source": [
    "import kenlm\n",
    "from pyctcdecode import build_ctcdecoder\n",
    "\n",
    "# load unigram list\n",
    "with open(\"librispeech-vocab.txt\") as f:\n",
    "    unigram_list = [t for t in f.read().strip().split(\"\\n\")]\n",
    "\n",
    "decoder = build_ctcdecoder(\n",
    "    alphabet,\n",
    "#     kenlm_model_path=\"./3-gram.pruned.1e-7.arpa\",\n",
    "#     unigrams=unigram_list,\n",
    "#     alpha=1.0,  # tuned on a val set \n",
    "#     beta=0.1,  # tuned on a val set \n",
    ")\n",
    "text = decoder.decode(res)\n",
    "print(text)"
   ]
  },
  {
   "cell_type": "code",
   "execution_count": 342,
   "id": "9d524cc8",
   "metadata": {},
   "outputs": [
    {
     "name": "stdout",
     "output_type": "stream",
     "text": [
      "Pruned .arpa.gz already exists.\n",
      "Unzipped .arpa already exists.\n"
     ]
    }
   ],
   "source": [
    "# download pretrained knelm model for librispeech\n",
    "import gzip\n",
    "import os, shutil, wget\n",
    "\n",
    "lm_gzip_path = '3-gram.pruned.1e-7.arpa.gz'\n",
    "if not os.path.exists(lm_gzip_path):\n",
    "    print('Downloading pruned 3-gram model.')\n",
    "    lm_url = 'http://www.openslr.org/resources/11/3-gram.pruned.1e-7.arpa.gz'\n",
    "    lm_gzip_path = wget.download(lm_url)\n",
    "    print('Downloaded the 3-gram language model.')\n",
    "else:\n",
    "    print('Pruned .arpa.gz already exists.')\n",
    "\n",
    "# NOTE: since out nemo vocabulary is all lowercased, we need to convert all librispeech data as well\n",
    "uppercase_lm_path = '3-gram.pruned.1e-7.arpa'\n",
    "if not os.path.exists(uppercase_lm_path):\n",
    "    with gzip.open(lm_gzip_path, 'rb') as f_zipped:\n",
    "        with open(uppercase_lm_path, 'wb') as f_unzipped:\n",
    "            shutil.copyfileobj(f_zipped, f_unzipped)\n",
    "    print('Unzipped the 3-gram language model.')\n",
    "else:\n",
    "    print('Unzipped .arpa already exists.')"
   ]
  },
  {
   "cell_type": "code",
   "execution_count": 343,
   "id": "0a9bbf11",
   "metadata": {},
   "outputs": [
    {
     "name": "stdout",
     "output_type": "stream",
     "text": [
      "--2022-06-19 08:54:18--  http://www.openslr.org/resources/11/librispeech-vocab.txt\n",
      "Resolving www.openslr.org (www.openslr.org)... 46.101.158.64\n",
      "Connecting to www.openslr.org (www.openslr.org)|46.101.158.64|:80... connected.\n",
      "HTTP request sent, awaiting response... 302 Found\n",
      "Location: https://us.openslr.org/resources/11/librispeech-vocab.txt [following]\n",
      "--2022-06-19 08:54:18--  https://us.openslr.org/resources/11/librispeech-vocab.txt\n",
      "Resolving us.openslr.org (us.openslr.org)... 46.101.158.64\n",
      "Connecting to us.openslr.org (us.openslr.org)|46.101.158.64|:443... connected.\n",
      "HTTP request sent, awaiting response... 200 OK\n",
      "Length: 1737588 (1.7M) [text/plain]\n",
      "Saving to: ‘librispeech-vocab.txt.1’\n",
      "\n",
      "librispeech-vocab.t 100%[===================>]   1.66M  --.-KB/s    in 0.1s    \n",
      "\n",
      "2022-06-19 08:54:18 (16.5 MB/s) - ‘librispeech-vocab.txt.1’ saved [1737588/1737588]\n",
      "\n"
     ]
    }
   ],
   "source": [
    "!wget http://www.openslr.org/resources/11/librispeech-vocab.txt"
   ]
  },
  {
   "cell_type": "code",
   "execution_count": null,
   "id": "4c4ceeef",
   "metadata": {},
   "outputs": [],
   "source": []
  }
 ],
 "metadata": {
  "kernelspec": {
   "display_name": "Python 3 (ipykernel)",
   "language": "python",
   "name": "python3"
  },
  "language_info": {
   "codemirror_mode": {
    "name": "ipython",
    "version": 3
   },
   "file_extension": ".py",
   "mimetype": "text/x-python",
   "name": "python",
   "nbconvert_exporter": "python",
   "pygments_lexer": "ipython3",
   "version": "3.10.3"
  }
 },
 "nbformat": 4,
 "nbformat_minor": 5
}
