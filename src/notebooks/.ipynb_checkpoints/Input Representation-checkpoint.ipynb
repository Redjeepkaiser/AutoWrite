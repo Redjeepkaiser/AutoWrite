{
 "cells": [
  {
   "cell_type": "markdown",
   "id": "9244316e",
   "metadata": {},
   "source": [
    "# Input Representation"
   ]
  },
  {
   "cell_type": "markdown",
   "id": "1423a3ca",
   "metadata": {},
   "source": [
    "## Introduction"
   ]
  },
  {
   "cell_type": "markdown",
   "id": "862023f4",
   "metadata": {},
   "source": [
    "In this project we improve handwriting. Initial representation of handwriting is usually done by recording the raw coordinates on the touch surface on which text is written. However, before actually using this data we need to think about how we want to represent it. This needs to be done to make sure representation is consistent over different devices, that the data is represented in a memmory efficient manner and such that the data can be used effectively. Therefore, in this notebook we will look at two different representations. The first is coordinates, but with normalisation and resampeling applied. The second is bezier curves that are fitted onto the data."
   ]
  },
  {
   "cell_type": "markdown",
   "id": "723880f2",
   "metadata": {},
   "source": [
    "## Retrieving the data"
   ]
  },
  {
   "cell_type": "markdown",
   "id": "d7e2a5a3",
   "metadata": {},
   "source": [
    "The data we will be using as an example is stored in a csv file. In this case we will use the file to which the program AutoWrite writes it output."
   ]
  },
  {
   "cell_type": "code",
   "execution_count": null,
   "id": "b3fb08e3",
   "metadata": {},
   "outputs": [],
   "source": [
    "path = \"./input_example.npy\""
   ]
  },
  {
   "cell_type": "markdown",
   "id": "e1e462df",
   "metadata": {},
   "source": [
    "Next we will retrieve this data using numpy which will will also use for the rest of our data manipulation."
   ]
  },
  {
   "cell_type": "code",
   "execution_count": null,
   "id": "6db34669",
   "metadata": {},
   "outputs": [],
   "source": [
    "import numpy as np"
   ]
  },
  {
   "cell_type": "code",
   "execution_count": null,
   "id": "fc9766b3",
   "metadata": {},
   "outputs": [],
   "source": [
    "raw_strokes = np.load(path, allow_pickle=True)\n",
    "print(raw_strokes.shape)\n",
    "print(raw_strokes[0, 0])"
   ]
  },
  {
   "cell_type": "markdown",
   "id": "454552e6",
   "metadata": {},
   "source": [
    "So in this case there are seven strokes with a maximum length of 99 data points. Each data point consists of an x- and y-coordinate and a timestamp."
   ]
  },
  {
   "cell_type": "markdown",
   "id": "c917f8fd",
   "metadata": {},
   "source": [
    "We can plot what these strokes look like. These strokes are ragged arrays, so we only plot the coordinates that do not have a negative timestamp."
   ]
  },
  {
   "cell_type": "code",
   "execution_count": null,
   "id": "ebb8cbb3",
   "metadata": {},
   "outputs": [],
   "source": [
    "from matplotlib import pyplot as plt"
   ]
  },
  {
   "cell_type": "code",
   "execution_count": null,
   "id": "434b74b3",
   "metadata": {
    "scrolled": true
   },
   "outputs": [],
   "source": [
    "def plot_strokes(strokes, plot_name):\n",
    "    plt.title(plot_name)\n",
    "    plt.xlabel(\"x coordinates\")\n",
    "    plt.ylabel(\"y coordinates\")\n",
    "\n",
    "    for i, stroke in enumerate(strokes):\n",
    "        plt.plot(stroke[:, 0][stroke[:, 2] >= 0], stroke[:, 1][stroke[:, 2] >= 0], label=str(i))\n",
    "\n",
    "    plt.legend()\n",
    "    plt.show()\n",
    "    \n",
    "plot_strokes(raw_strokes, \"Raw Strokes Example\")"
   ]
  },
  {
   "cell_type": "code",
   "execution_count": null,
   "id": "e269a839",
   "metadata": {},
   "outputs": [],
   "source": [
    "def plot_stroke(stroke, plot_name):\n",
    "    plt.title(plot_name)\n",
    "    plt.xlabel(\"x coordinates\")\n",
    "    plt.ylabel(\"y coordinates\")\n",
    "\n",
    "    plt.plot(stroke[:, 0][stroke[:, 2] >= 0], stroke[:, 1][stroke[:, 2] >= 0])\n",
    "    plt.scatter(stroke[:, 0][stroke[:, 2] >= 0], stroke[:, 1][stroke[:, 2] >= 0])\n",
    "\n",
    "    plt.show()\n",
    "\n",
    "t = raw_strokes[0]\n",
    "plot_stroke(t, \"Raw Stroke Example\")\n",
    "print(t)"
   ]
  },
  {
   "cell_type": "markdown",
   "id": "d41937d0",
   "metadata": {},
   "source": [
    "As you can see the y coordinates are flipped. So next we the input is normalized."
   ]
  },
  {
   "cell_type": "markdown",
   "id": "d8582388",
   "metadata": {},
   "source": [
    "## Normalizing the data"
   ]
  },
  {
   "cell_type": "markdown",
   "id": "0804f9fb",
   "metadata": {},
   "source": [
    "First we will remove datapoints with the same (x,y) coordinates."
   ]
  },
  {
   "cell_type": "code",
   "execution_count": null,
   "id": "f6e7b9b3",
   "metadata": {},
   "outputs": [],
   "source": [
    "ustrokes = [np.unique(stroke[:, :2], return_index=True, axis=0)[1] for stroke in raw_strokes]\n",
    "max_stroke_len = max(len(r) for r in ustrokes)\n",
    "\n",
    "unique_strokes = np.zeros((len(ustrokes), max_stroke_len, 3))\n",
    "unique_strokes[:, :, 2] -= 1\n",
    "\n",
    "for i, row in enumerate(ustrokes):\n",
    "    unique_strokes[i, :len(row)] = raw_strokes[i, np.sort(row)]"
   ]
  },
  {
   "cell_type": "markdown",
   "id": "c299ba05",
   "metadata": {},
   "source": [
    "To normalize this data, we will first flip the y-axis, next we will move the starting coordinate to $(0, 0)$, after that we will scale the y and x axis linearly so the y values span a range $[0,1]$ and lastly we make the timestamps relative."
   ]
  },
  {
   "cell_type": "markdown",
   "id": "cfa3a868",
   "metadata": {},
   "source": [
    "We can simply flip the strokes around by multiply the y-coordinates by $-1$."
   ]
  },
  {
   "cell_type": "code",
   "execution_count": null,
   "id": "34bb74d9",
   "metadata": {
    "scrolled": true
   },
   "outputs": [],
   "source": [
    "flipped_strokes = unique_strokes.copy()\n",
    "\n",
    "non_ragged = unique_strokes[:, :, 2] >= 0\n",
    "\n",
    "flipped_strokes[:, :, 1][non_ragged] *= -1\n",
    "plot_strokes(flipped_strokes, \"Flipped Strokes Example\")"
   ]
  },
  {
   "cell_type": "markdown",
   "id": "83a9e490",
   "metadata": {},
   "source": [
    "Next we move the initial x-value and y-value to $0$. We do this by subtracting the initial coordinates from all coordinates."
   ]
  },
  {
   "cell_type": "code",
   "execution_count": null,
   "id": "b14a2b50",
   "metadata": {},
   "outputs": [],
   "source": [
    "x0_strokes = flipped_strokes.copy()\n",
    "\n",
    "x0_strokes[:, :, 0][non_ragged] -= x0_strokes[0, 0, 0]\n",
    "\n",
    "plot_strokes(x0_strokes, \"$x=0$ Strokes Example\")"
   ]
  },
  {
   "cell_type": "markdown",
   "id": "970e771d",
   "metadata": {},
   "source": [
    "Now we scale both the x- and y-axis linearly so all y-values values in the range $[0,1]$. We do this by first moving the lowest y values to $y=0$ and then scaling the other values by the dividing them with the highest y value."
   ]
  },
  {
   "cell_type": "code",
   "execution_count": null,
   "id": "7bbce4c7",
   "metadata": {},
   "outputs": [],
   "source": [
    "y0_strokes = x0_strokes.copy()\n",
    "\n",
    "y0_strokes[:, :, 1][non_ragged] -= np.amin(y0_strokes[:, :, 1])\n",
    "\n",
    "plot_strokes(y0_strokes, \"$y=0$ Strokes Example\")"
   ]
  },
  {
   "cell_type": "code",
   "execution_count": null,
   "id": "b33727ab",
   "metadata": {},
   "outputs": [],
   "source": [
    "scaled_strokes = y0_strokes.copy()\n",
    "\n",
    "scaled_strokes[:, :, :2][non_ragged] /= np.amax(scaled_strokes[:, :, 1])\n",
    "\n",
    "plot_strokes(scaled_strokes, \"Scaled Strokes Example\")"
   ]
  },
  {
   "cell_type": "markdown",
   "id": "b8584a42",
   "metadata": {},
   "source": [
    "With this we have finished normalizing the data. These operations can be put together for optimization, since they are executed some signs are turned around."
   ]
  },
  {
   "cell_type": "code",
   "execution_count": null,
   "id": "ed94b281",
   "metadata": {},
   "outputs": [],
   "source": [
    "def normalize_strokes(data):\n",
    "    ustrokes = [np.unique(stroke[:, :2], return_index=True, axis=0)[1] for stroke in data]\n",
    "    max_stroke_len = max(len(r) for r in ustrokes)\n",
    "\n",
    "    normalized = np.zeros((len(ustrokes), max_stroke_len, 3))\n",
    "    normalized[:, :, 2] -= 1\n",
    "\n",
    "    for i, row in enumerate(ustrokes):\n",
    "        normalized[i, :len(row)] = data[i, np.sort(row)]\n",
    "\n",
    "    non_ragged = normalized[:, :, 2] >= 0\n",
    "    normalized[non_ragged] -= [normalized[0, 0, 0], np.amax(normalized[:, :, 1]), normalized[0, 0, 2]]\n",
    "    normalized[non_ragged] /= [-np.amin(normalized[:, :, 1]), np.amin(normalized[:, :, 1]), 1]\n",
    "\n",
    "    return normalized\n",
    "\n",
    "normalized_strokes = normalize_strokes(raw_strokes)\n",
    "plot_strokes(normalized_strokes, \"Normalized Strokes Example\")"
   ]
  },
  {
   "cell_type": "markdown",
   "id": "f3415e6b",
   "metadata": {},
   "source": [
    "## Raw Touch Points"
   ]
  },
  {
   "cell_type": "markdown",
   "id": "66e29c2f",
   "metadata": {},
   "source": [
    "The most basic input representation for online handwriting recognition are raw touch points. To use the input coordinates and timestamps as raw touch point we will first resample each stroke. Then the arrays containing strokes are collapsed to make a single sequence, an extra parameter is then added for noting when a stroke starts. This parameter is set to 1 if the point is a starting point for a stroke, else it is $0$."
   ]
  },
  {
   "cell_type": "markdown",
   "id": "bd304a6c",
   "metadata": {},
   "source": [
    "Interpolating is simply done linearly. So if the distant between two following coordinates is to large, a number of points such that the distance between all the points that span the stroke is 0.05, is linearly interpolated."
   ]
  },
  {
   "cell_type": "code",
   "execution_count": null,
   "id": "f34c954b",
   "metadata": {},
   "outputs": [],
   "source": [
    "def sample_line(p0, p1, delta=0.05):\n",
    "    l = ((p1[0]-p0[0])**2 + (p1[1]-p0[1])**2)**0.5\n",
    "    num = int(l/delta)\n",
    "    \n",
    "    if num == 0:\n",
    "        return [p0]\n",
    "    \n",
    "    sampled_xs = np.linspace(p0[0], p1[0], num)\n",
    "    sampled_ys = np.linspace(p0[1], p1[1], num)\n",
    "    sampled_timestamps = np.linspace(p0[2], p1[2], num)\n",
    "\n",
    "    return np.stack((sampled_xs, sampled_ys, sampled_timestamps), axis=1).tolist()\n",
    "\n",
    "def resample_stroke(stroke):\n",
    "    resampled_stroke = []\n",
    "    \n",
    "    for i, _ in enumerate(stroke[stroke[:, 2] >= 0][:-1]):\n",
    "        resampled_stroke.extend(sample_line(stroke[i], stroke[i+1]))\n",
    "        \n",
    "    return resampled_stroke\n",
    "\n",
    "def resample_strokes(strokes):\n",
    "    rs = [resample_stroke(stroke) for stroke in strokes\n",
    "          if resample_stroke(stroke)]\n",
    "\n",
    "    max_stroke_len = max(len(r) for r in rs)\n",
    "\n",
    "    rs_padded = np.zeros((len(rs), max_stroke_len, 3))\n",
    "    rs_padded[:, :, 2] -= 1\n",
    "\n",
    "    for i, row in enumerate(rs):\n",
    "        rs_padded[i, :len(row)] = row\n",
    "        \n",
    "    return rs_padded\n",
    "    \n",
    "rs = resample_strokes(normalized_strokes)\n",
    "plot_strokes(rs, \"Resampled Strokes Example\")"
   ]
  },
  {
   "cell_type": "markdown",
   "id": "0a1aa725",
   "metadata": {},
   "source": [
    "Lastly this array of strokes is collapsed to form one long sequence of datapoints. We now add values to show if a datapoint is a starting point for a stroke and whether the pen direction is up or down. This is combined together in one signle function that converts the input $x$ and $y$ coordinates and timestamps to the raw touch points representation. Instead of passing these values directly, we will pass on the diretion in which they change, for this reason, timestamps do not need to be normalized to start at 0."
   ]
  },
  {
   "cell_type": "code",
   "execution_count": null,
   "id": "4ead89bc",
   "metadata": {
    "scrolled": true
   },
   "outputs": [],
   "source": [
    "def convert_to_rtps(data):\n",
    "    rs = resample_strokes(normalize_strokes(data))\n",
    "    rs = np.append(rs, np.zeros((rs.shape[0], rs.shape[1], 1)), axis=2)\n",
    "    rs[:, 0, 3] = 1\n",
    "    rtps = rs[rs[:, :, 2] >= 0].tolist()\n",
    "    rtps = np.array(rtps)\n",
    "    diffs = np.insert(np.diff(rtps, axis=0)[:,:3], 0, np.array([0, 0, 0]), axis=0)\n",
    "    return np.append(diffs, np.expand_dims(rtps[:,3], -1), axis=1)"
   ]
  },
  {
   "cell_type": "code",
   "execution_count": null,
   "id": "bb3abe36",
   "metadata": {},
   "outputs": [],
   "source": [
    "rtps = convert_to_rtps(raw_strokes)\n",
    "print(rtps.shape)\n",
    "print(rtps[:10])"
   ]
  },
  {
   "cell_type": "markdown",
   "id": "b79dae85",
   "metadata": {},
   "source": [
    "Here the datapoints representing the start of each stroke have a red color."
   ]
  },
  {
   "cell_type": "code",
   "execution_count": null,
   "id": "eb04449c",
   "metadata": {},
   "outputs": [],
   "source": [
    "def plot_rtps(rtps):\n",
    "    current_x = 0\n",
    "    current_y = 0\n",
    "    plt.scatter(current_x, current_y, c='r')\n",
    "    \n",
    "    for (x, y, t, s) in rtps[1:]:\n",
    "        current_x += x\n",
    "        current_y += y\n",
    "        \n",
    "        if s:\n",
    "            plt.scatter(current_x, current_y, c='r')\n",
    "        else:\n",
    "            plt.scatter(current_x, current_y, c='#1f77b4')\n",
    "\n",
    "        \n",
    "    plt.show()\n",
    "    \n",
    "plot_rtps(rtps)"
   ]
  },
  {
   "cell_type": "markdown",
   "id": "572a929b",
   "metadata": {},
   "source": [
    "## Bezier Curves"
   ]
  },
  {
   "cell_type": "markdown",
   "id": "3df093c0",
   "metadata": {},
   "source": [
    "### Scaling Timestamps"
   ]
  },
  {
   "cell_type": "markdown",
   "id": "d51d4fa6",
   "metadata": {},
   "source": [
    "However, there is a more efficient representation. We can also represent the input as a number of fitted bezier curves. Each curve can represent multiple datapoints does saving memory and abstracting more complex features in the representation itself."
   ]
  },
  {
   "cell_type": "markdown",
   "id": "5f703187",
   "metadata": {},
   "source": [
    "To do this, first the timestamps are scaled linearly to match the length of the ink. Todo this we first calculate the total length of the ink using pythagoras."
   ]
  },
  {
   "cell_type": "code",
   "execution_count": null,
   "id": "fd4b14dc",
   "metadata": {},
   "outputs": [],
   "source": [
    "squared_differences = np.diff(normalized_strokes, axis=1)[:, :, :2]**2\n",
    "distances = np.sum(squared_differences, axis=2)**(1/2)\n",
    "\n",
    "# Last difference is to 0, we do not want to count this\n",
    "total_length = np.sum(distances[(normalized_strokes[:, :, 2] >= 0)[:, 1:]])\n",
    "print(total_length)"
   ]
  },
  {
   "cell_type": "markdown",
   "id": "44a4357d",
   "metadata": {},
   "source": [
    "All timestamps are scaled so the largest timestamp is equal to this value and as we can see the last value in last stroke now has a timestamp equal to the total length."
   ]
  },
  {
   "cell_type": "code",
   "execution_count": null,
   "id": "f420475c",
   "metadata": {},
   "outputs": [],
   "source": [
    "scaling_factor = normalized_strokes[non_ragged][-1, 2] / total_length\n",
    "print(scaling_factor)\n",
    "\n",
    "normalized_timestamps = normalized_strokes.copy()\n",
    "normalized_timestamps[:,:,2][non_ragged] /= scaling_factor\n",
    "\n",
    "print(normalized_timestamps[-1][15:25])"
   ]
  },
  {
   "cell_type": "markdown",
   "id": "812bf17e",
   "metadata": {},
   "source": [
    "This is combined into one function."
   ]
  },
  {
   "cell_type": "code",
   "execution_count": null,
   "id": "3e10b31b",
   "metadata": {},
   "outputs": [],
   "source": [
    "def scale_timestamps(strokes):\n",
    "    squared_differences = np.diff(strokes, axis=1)[:, :, :2]**2\n",
    "    distances = np.sum(squared_differences, axis=2)**(1/2)\n",
    "    total_length = np.sum(distances[(strokes[:, :, 2] >= 0)[:, 1:]])\n",
    "    scaling_factor = strokes[strokes[:, :, 2] >= 0][-1, 2] / total_length\n",
    "    normalized = strokes.copy()\n",
    "    normalized[:,:,2][strokes[:, :, 2] >= 0] /= scaling_factor\n",
    "    return normalized\n",
    "\n",
    "st = scale_timestamps(normalized_strokes)\n",
    "print(st[-1][15:25])"
   ]
  },
  {
   "cell_type": "markdown",
   "id": "9057805e",
   "metadata": {},
   "source": [
    "### Fitting The Curve"
   ]
  },
  {
   "cell_type": "markdown",
   "id": "acddcff2",
   "metadata": {},
   "source": [
    "The bezier curves wich we want to use to represent our data can be described by cubic polynomials in range $[0,1]$.\n",
    "\n",
    "$x(s) = \\alpha_0 + \\alpha_1 s + \\alpha_2 s^2 + \\alpha_3 s^3$\n",
    "\n",
    "$y(s) = \\beta_0 + \\beta_1 s + \\beta_2 s^2 + \\beta_3 s^3$\n",
    "\n",
    "$t(s) = \\gamma_0 + \\gamma_1 s + \\gamma_2 s^2 + \\gamma_3 s^3$\n",
    "\n",
    "This means that we need to estimate these 12 parameters. If we know at what points $s$ the closest points of a fit lie, then we can simply calculate these parameters using least squares."
   ]
  },
  {
   "cell_type": "markdown",
   "id": "4f81ab12",
   "metadata": {},
   "source": [
    "Some explanation of least squares. We want to minimalize the sum of squared errors. Which is defined as follows:\n",
    "\n",
    "$\\Sigma_{i=0}^{N-1}\\  (x_i - x(s_i))^2 + (y_i - y(s_i))^2 + (t_i - t(s_i))^2$\n",
    "\n",
    "It is the sum the differences of the estimations of the datapoints and the datapoints themselves, squared."
   ]
  },
  {
   "cell_type": "markdown",
   "id": "cffc37e8",
   "metadata": {},
   "source": [
    "How ever to make this fit we would have to first know what $s_i$ is. We don't, so we will make a guess."
   ]
  },
  {
   "cell_type": "markdown",
   "id": "32669bc7",
   "metadata": {},
   "source": [
    "As an example lets generate some data, with a certain set of parameters and then try to derive those parameters form the data."
   ]
  },
  {
   "cell_type": "code",
   "execution_count": null,
   "id": "fc886de6",
   "metadata": {},
   "outputs": [],
   "source": [
    "def makeSMatrix(s, width): \n",
    "    return np.column_stack([s**p for p in range(width)])\n",
    "\n",
    "s = np.linspace(0, 1, 5)\n",
    "S = makeSMatrix(s, 4) # s closest points estimation\n",
    "print(S)"
   ]
  },
  {
   "cell_type": "code",
   "execution_count": null,
   "id": "c0ae9687",
   "metadata": {
    "scrolled": true
   },
   "outputs": [],
   "source": [
    "P = np.random.rand(4, 3) # parameters\n",
    "print(P.shape, P)"
   ]
  },
  {
   "cell_type": "code",
   "execution_count": null,
   "id": "0c765b70",
   "metadata": {},
   "outputs": [],
   "source": [
    "D = S@P # generate the data\n",
    "print(D.shape)\n",
    "D += np.random.rand(*D.shape) # add some randomness"
   ]
  },
  {
   "cell_type": "code",
   "execution_count": null,
   "id": "38026153",
   "metadata": {},
   "outputs": [],
   "source": [
    "PE = np.linalg.lstsq(S, D, rcond=-1)[0] # estimate paremeters\n",
    "print(PE.shape)"
   ]
  },
  {
   "cell_type": "code",
   "execution_count": null,
   "id": "a95d1d8e",
   "metadata": {},
   "outputs": [],
   "source": [
    "%matplotlib inline\n",
    "    \n",
    "def plot2D_curve_with_data(data, P, s):\n",
    "    D = data[data[:, 2] >= 0]\n",
    "    curve_points = makeSMatrix(s, 4)@P\n",
    "    curve = makeSMatrix(np.linspace(s[0], s[-1], 1000), 4)@P\n",
    "    \n",
    "    plt.scatter(D[:, 0], D[:, 1], color=\"b\")\n",
    "    plt.plot(D[:, 0], D[:, 1], label=\"data\", color=\"b\")\n",
    "    plt.plot(curve[:, 0], curve[:, 1], label=\"curve\", color=\"g\")\n",
    "    plt.scatter(curve_points[:, 0], curve_points[:, 1], label=\"s\", color=\"r\")\n",
    "    plt.xlabel(\"x\")\n",
    "    plt.ylabel(\"y\")\n",
    "    plt.legend()\n",
    "    plt.show()\n",
    "    \n",
    "plot2D_curve_with_data(D, PE, s)"
   ]
  },
  {
   "cell_type": "markdown",
   "id": "84a429c0",
   "metadata": {},
   "source": [
    "It is clear initializing the vector equidistantly does not give the best estimation of $s$. Therefore, we will initialize the points based on relative the length to the curve formed by the datapoints and then try to improve our estimation of $s$. We can calculate the sum of squared errors to see this."
   ]
  },
  {
   "cell_type": "code",
   "execution_count": null,
   "id": "5104496f",
   "metadata": {},
   "outputs": [],
   "source": [
    "def SSE(data, P, s):\n",
    "    D = data[data[:, 2] >= 0]\n",
    "    S = makeSMatrix(s, 4)\n",
    "    return np.sum(np.sum((D - (S@P))**2, axis=1), axis=0)\n",
    "\n",
    "print(SSE(D, PE, s))"
   ]
  },
  {
   "cell_type": "code",
   "execution_count": null,
   "id": "4acbe572",
   "metadata": {},
   "outputs": [],
   "source": [
    "diffs = (D[1:] - D[:-1])\n",
    "distances = (diffs[:, 0]**2 + diffs[:, 1]**2)**(1/2)\n",
    "distances = np.insert(distances, 0, 0)\n",
    "cummulative_distances = np.cumsum(distances)\n",
    "s2 = cummulative_distances/cummulative_distances[-1]\n",
    "\n",
    "S2 = makeSMatrix(s2, 4)\n",
    "PE2 = np.linalg.lstsq(S2, D, rcond=-1)[0]\n",
    "\n",
    "plot2D_curve_with_data(D, PE2, s2)\n",
    "print(SSE(D, PE2, s2))"
   ]
  },
  {
   "cell_type": "markdown",
   "id": "525a2b0d",
   "metadata": {},
   "source": [
    "In most cases, this clearly leads to a better fit. In addition to thies we can try improving this estimation of s. We do this by using a newton step on the following function:\n",
    "\n",
    "$x'(s_i)(x_i − x(s_i)) + y'(s_i)(y_i − y(s_i)) = 0$.\n",
    "\n",
    "This function is 0 when the direction of the derivative of the curve is orthogonal to the difference between the data point and the the datapoint estimation of the corresponding s. This would mean that this is indeed a good estimation of s, since that point the point on the curve that is closest to the datapoint we want to fit on."
   ]
  },
  {
   "cell_type": "markdown",
   "id": "74db4da5",
   "metadata": {},
   "source": [
    "Newton step is done by subracting the first derivative of this function divided by the second derivative of this function from $s_i$."
   ]
  },
  {
   "cell_type": "markdown",
   "id": "fff2f3fa",
   "metadata": {},
   "source": [
    "The first derivative is:\n",
    "    \n",
    "$(x_i - x(s_i))x''(s_i) + (y_i - y(s_i))y''(s_i) - x''(s_i)^2 - y''(s_i)^2$"
   ]
  },
  {
   "cell_type": "markdown",
   "id": "36b5400c",
   "metadata": {},
   "source": [
    "This means the second derivative is:\n",
    "\n",
    "$(x_i - x(s_i))x'''(s_i) + (y_i - y(s_i))y'''(s_i) - 2x'''(s_i)x''(s_i) - x'(s_i)x''(s_i) - 2y'''(s_i)y''(s_i) - y'(s_i)y''(s_i)$"
   ]
  },
  {
   "cell_type": "code",
   "execution_count": null,
   "id": "8bd30123",
   "metadata": {},
   "outputs": [],
   "source": [
    "def newton_step(data, P, s):\n",
    "    D = data[data[:, 2] >= 0]\n",
    "    S = makeSMatrix(s, 4)\n",
    "    C = S@P\n",
    "\n",
    "    P1d = P[1:, :] * [[1], [2], [3]]\n",
    "    C1d = makeSMatrix(s, 3)@P1d # First derivates\n",
    "    \n",
    "    P2d = P1d[1:, :] * [[1], [2]]\n",
    "    C2d = makeSMatrix(s, 2)@P2d # Second derivates\n",
    "    \n",
    "    P3d = P2d[1:, :]\n",
    "    C3d = makeSMatrix(s, 1)@P3d # Third derivates\n",
    "    \n",
    "    N1 = (D[:, 0] - C[:, 0])*C2d[:, 0] + (D[:, 1] - C[:, 1])*C2d[:, 1]\\\n",
    "            - C2d[:, 0]**2 - C2d[:, 1]**2\n",
    "    \n",
    "    N2 = (D[:, 0] - C[:, 0])*C3d[:, 0] + (D[:, 1] - C[:, 1])*C3d[:, 1]\\\n",
    "            - 2*C3d[:, 0]*C2d[:, 0] - C1d[:, 0]*C2d[:, 0]\\\n",
    "            - 2*C3d[:, 1]*C2d[:, 1] - C1d[:, 1]*C2d[:, 1]\n",
    "    \n",
    "    s_new = np.copy(s)\n",
    "    s_new[1:-1] -= (N1/N2)[1:-1] # Keep s=0 and s=1 in place.\n",
    "    return s_new"
   ]
  },
  {
   "cell_type": "code",
   "execution_count": null,
   "id": "cdb9866e",
   "metadata": {},
   "outputs": [],
   "source": [
    "s3 = newton_step(D, PE2, s2)\n",
    "S3 = makeSMatrix(s3, 4)\n",
    "PE3 = np.linalg.lstsq(S3, D, rcond=-1)[0]\n",
    "\n",
    "plot2D_curve_with_data(D, PE2, s2)\n",
    "print(SSE(D, PE2, s2))\n",
    "\n",
    "plot2D_curve_with_data(D, PE3, s3)\n",
    "print(SSE(D, PE3, s3))"
   ]
  },
  {
   "cell_type": "markdown",
   "id": "5cb37848",
   "metadata": {},
   "source": [
    "This does not always converge, there for a check needs to be done if there is convergence or not."
   ]
  },
  {
   "cell_type": "markdown",
   "id": "132955e2",
   "metadata": {},
   "source": [
    "When we have a fitted polynomial, we can use this polynomial to compute the control points for the bezier curve as follows."
   ]
  },
  {
   "cell_type": "code",
   "execution_count": null,
   "id": "a4c6a588",
   "metadata": {},
   "outputs": [],
   "source": [
    "def get_control_points(P):\n",
    "    C = makeSMatrix(np.array([0, 1]), 4)@P\n",
    "    p0 = C[0, :2]\n",
    "    p3 = C[-1, :2]\n",
    "\n",
    "    P1d = P[1:, :] * [[1], [2], [3]]\n",
    "    C1d = makeSMatrix(np.array([0, 1]), 3)@P1d # First derivates\n",
    "\n",
    "    p1 = p0 + (1/3) * C1d[0, :2]\n",
    "    p2 = p3 - (1/3) * C1d[-1, :2]\n",
    "\n",
    "    return [p0, p1, p2, p3]"
   ]
  },
  {
   "cell_type": "markdown",
   "id": "afbe193f",
   "metadata": {},
   "source": [
    "The cubic Bezier curve is formally defined as:\n",
    "\n",
    "$${\\displaystyle \\mathbf {B} (t)=(1-t)^{3}\\mathbf {P} _{0}+3(1-t)^{2}t\\mathbf {P} _{1}+3(1-t)t^{2}\\mathbf {P} _{2}+t^{3}\\mathbf {P} _{3},\\ 0\\leq t\\leq 1.}$$"
   ]
  },
  {
   "cell_type": "code",
   "execution_count": null,
   "id": "69151530",
   "metadata": {},
   "outputs": [],
   "source": [
    "def bezier_curve(p0, p1, p2, p3, t):\n",
    "    return ((1-t)**3 * p0) + (3*(1-t)**2*t * p1) + (3*(1-t)*t**2 * p2) + (t**3 * p3)"
   ]
  },
  {
   "cell_type": "markdown",
   "id": "791c0f32",
   "metadata": {},
   "source": [
    "In the following graph both the polynomial and the Bezier curve dependent on the control points are visualized."
   ]
  },
  {
   "cell_type": "code",
   "execution_count": null,
   "id": "47daf9d6",
   "metadata": {},
   "outputs": [],
   "source": [
    "p0, p1, p2, p3 = get_control_points(PE3) # Get associated controlpoints.\n",
    "curve = makeSMatrix(np.linspace(0, 1, 1000), 4)@PE3\n",
    "\n",
    "ts = np.linspace(0, 1, 100)\n",
    "\n",
    "xs = []\n",
    "ys = []\n",
    "    \n",
    "for t in ts:\n",
    "    (x, y) = bezier_curve(p0, p1, p2, p3, t)\n",
    "    xs.append(x)\n",
    "    ys.append(y)\n",
    "\n",
    "plt.plot(xs, ys, label=\"bezier curve\", alpha=0.5)\n",
    "\n",
    "plt.plot(curve[:, 0], curve[:, 1], label=\"curve\", color=\"g\", linestyle=\"--\", alpha=0.5)\n",
    "\n",
    "plt.scatter(p0[0], p0[1], label=\"p0\")\n",
    "plt.scatter(p1[0], p1[1], label=\"p1\")\n",
    "plt.plot([p0[0], p1[0]], [p0[1], p1[1]])\n",
    "\n",
    "plt.scatter(p2[0], p2[1], label=\"p2\")\n",
    "plt.scatter(p3[0], p3[1], label=\"p3\")\n",
    "plt.plot([p2[0], p3[0]], [p2[1], p3[1]])\n",
    "\n",
    "plt.plot([p0[0], p3[0]], [p0[1], p3[1]])\n",
    "\n",
    "plt.xlabel(\"x\")\n",
    "plt.ylabel(\"y\")\n",
    "plt.legend()\n",
    "plt.show()\n",
    "\n",
    "print(p0, p1, p2, p3)"
   ]
  },
  {
   "cell_type": "markdown",
   "id": "5a190658",
   "metadata": {},
   "source": [
    "We can use this to form the final shape we will feed into the network."
   ]
  },
  {
   "cell_type": "code",
   "execution_count": null,
   "id": "d8a82080",
   "metadata": {},
   "outputs": [],
   "source": [
    "def parameterize_curve(P, p, debug=False):\n",
    "    p0, p1, p2, p3 = get_control_points(P)\n",
    "    \n",
    "    vec_14 = p3 - p0 # Vec from controlpoint 1 to control point 4\n",
    "    vec_41 = p0 - p3 # Vec from controlpoint 4 to control point 1\n",
    "    \n",
    "    distance_endpoints = np.sum((p3 - p0)**2)**(1/2)\n",
    "\n",
    "    control_vec1 = p1 - p0\n",
    "    control_vec2 = p2 - p3\n",
    "\n",
    "    d1 = np.sum(control_vec1**2)**(1/2) / distance_endpoints\n",
    "    d2 = np.sum(control_vec2**2)**(1/2) / distance_endpoints\n",
    "    \n",
    "    a1 = np.arctan2(\n",
    "        control_vec1[0] * vec_14[1] - control_vec1[1] * vec_14[0],\n",
    "        np.dot(vec_14, control_vec1)\n",
    "    )\n",
    "    \n",
    "    a2 = np.arctan2(\n",
    "        control_vec2[0] * vec_41[1] - control_vec2[1] * vec_41[0],\n",
    "        np.dot(vec_41, control_vec2) # switched\n",
    "    )\n",
    "\n",
    "    if debug:\n",
    "        plt.title(\"angle 1\")\n",
    "        plt.plot([0, vec_14[0]], [0, vec_14[1]], color=\"r\")\n",
    "        plt.plot([0, control_vec1[0]], [0, control_vec1[1]], color=\"b\")\n",
    "        plt.show()\n",
    "    \n",
    "        plt.title(\"angle 2\")\n",
    "        plt.plot([0, vec_41[0]], [0, vec_41[1]], color=\"r\")\n",
    "        plt.plot([0, control_vec2[0]], [0, control_vec2[1]], color=\"b\")\n",
    "        plt.show()\n",
    "\n",
    "    return [vec_14[0], vec_14[1], d1, d2, a1, a2, P[1, 2], P[2, 2], P[3, 2], p, p]\n",
    "\n",
    "res = parameterize_curve(PE3, 1, debug=True)\n",
    "\n",
    "print(\"deg a1\", (res[4] * 180) / np.pi, res[4])\n",
    "print(\"deg a2\", (res[5] * 180) / np.pi, res[5])"
   ]
  },
  {
   "cell_type": "code",
   "execution_count": null,
   "id": "0ce7f7ce",
   "metadata": {},
   "outputs": [],
   "source": [
    "def make_rotation_matrix(angle):\n",
    "    return np.array([[np.cos(angle), np.sin(angle)], [-np.sin(angle), np.cos(angle)]])\n",
    "\n",
    "def plot_bezier_curves(data, control_points=False):\n",
    "    current_x = 0\n",
    "    current_y = 0\n",
    "    \n",
    "    for i, (dx, dy, d1, d2, a1, a2, g1, g2, g3, p1, p2) in enumerate(data):\n",
    "        if p2:\n",
    "            current_x += dx\n",
    "            current_y += dy\n",
    "            continue\n",
    "        \n",
    "        p0 = np.array([current_x, current_y])\n",
    "        p3 = np.array([current_x + dx, current_y + dy])\n",
    "                \n",
    "        p1 = make_rotation_matrix(a1) @ np.array([dx, dy]) * d1 + np.array([current_x, current_y])\n",
    "        p2 = make_rotation_matrix(a2) @ np.array([-dx, -dy]) * d2 + np.array([current_x + dx, current_y + dy])\n",
    "        \n",
    "        if control_points:\n",
    "            plt.scatter(p0[0], p0[1])\n",
    "            plt.scatter(p1[0], p1[1])\n",
    "            plt.scatter(p2[0], p2[1])\n",
    "            plt.scatter(p3[0], p3[1])\n",
    "            plt.plot([p3[0], p2[0]], [p3[1], p2[1]])\n",
    "            plt.plot([p0[0], p1[0]], [p0[1], p1[1]])\n",
    "        \n",
    "        ts = np.linspace(0, 1, 100)\n",
    "        xs = []\n",
    "        ys = []\n",
    "    \n",
    "        for t in ts:\n",
    "            (x, y) = bezier_curve(p0, p1, p2, p3, t)\n",
    "            xs.append(x)\n",
    "            ys.append(y)\n",
    "            \n",
    "        current_x = p3[0]\n",
    "        current_y = p3[1]\n",
    "        \n",
    "        plt.plot(xs, ys, label=f\"Bezier {i}\")\n",
    "    \n",
    "    plt.xlabel(\"x\")\n",
    "    plt.ylabel(\"y\")"
   ]
  },
  {
   "cell_type": "markdown",
   "id": "26ada760",
   "metadata": {},
   "source": [
    "We can combine this into a function that fits a curve to the given stroke and returns an estimation for the closest points and the estimated parameters. "
   ]
  },
  {
   "cell_type": "code",
   "execution_count": null,
   "id": "9dd4cce1",
   "metadata": {},
   "outputs": [],
   "source": [
    "def get_relative_distances(data):\n",
    "    diffs = (data[1:, :] - data[:-1, :])\n",
    "    distances = np.insert((diffs[:, 0]**2 + diffs[:, 1]**2)**(1/2), 0, 0)\n",
    "    cummulative_distances = np.cumsum(distances)\n",
    "    return cummulative_distances/cummulative_distances[-1]"
   ]
  },
  {
   "cell_type": "code",
   "execution_count": null,
   "id": "0d77ddb1",
   "metadata": {},
   "outputs": [],
   "source": [
    "def fit_curve_newton_step(data, delta=0.05, precision=0.05, maxiter=10, debug=False):\n",
    "    D = data[data[:, 2] >= 0]\n",
    "    s = get_relative_distances(D)\n",
    "    S = makeSMatrix(s, 4)\n",
    "    PE = np.linalg.lstsq(S, D, rcond=None)[0]\n",
    "    \n",
    "    prev_error = SSE(D, PE, s)\n",
    "    \n",
    "    if debug:\n",
    "        print(\"Initial fit\", prev_error)\n",
    "        plot2D_curve_with_data(D, PE, s)\n",
    "    \n",
    "    if prev_error < precision:\n",
    "        return PE, s, prev_error\n",
    "    \n",
    "    for value in range(maxiter):\n",
    "        s = newton_step(D, PE, s)\n",
    "        S = makeSMatrix(s, 4)\n",
    "        PE = np.linalg.lstsq(S, D, rcond=None)[0]\n",
    "        \n",
    "        error = SSE(D, PE, s)\n",
    "\n",
    "        if debug:\n",
    "            print(error)\n",
    "            plot2D_curve_with_data(D, PE, s)\n",
    "\n",
    "        if abs(error - prev_error) < delta:\n",
    "            break\n",
    "\n",
    "        prev_error = error\n",
    "        \n",
    "    return PE, s, prev_error\n",
    "\n",
    "res = fit_curve_newton_step(normalized_timestamps[1], debug=True)"
   ]
  },
  {
   "cell_type": "markdown",
   "id": "d9c64aca",
   "metadata": {},
   "source": [
    "It is clear it is not possible to propely fit curves on this data, so we will need to split the data up. We do this by applying the procedure recursively and splitting up the point we are fitting if the fit is not good enough. This depends on two parameters. The fit is not good enough if the SSE is too large. The fit is also not good enough if the length of the curve is three times as long as the endpoint distances. We split the stroke up by looking at the three consecutive points with the smallest angle."
   ]
  },
  {
   "cell_type": "code",
   "execution_count": null,
   "id": "4fdd213e",
   "metadata": {},
   "outputs": [],
   "source": [
    "def length_vecs(vec):\n",
    "    return (vec[:, 0]**2 + vec[:, 1]**2)**(1/2)\n",
    "\n",
    "def dot_vecs(vec1, vec2):\n",
    "    return vec1[:, 0]*vec2[:, 0] + vec1[:, 1]*vec2[:, 1]\n",
    "\n",
    "def calc_angles(stroke):\n",
    "    D = stroke[stroke[:, 2] >= 0]\n",
    "    vecs_back = D[1:, :] - D[:-1, :]\n",
    "    vecs_forward = D[:-1, :] - D[1:, :]\n",
    "\n",
    "    frac = dot_vecs(vecs_forward[1:], vecs_back[:-1]) / (length_vecs(vecs_forward[1:]) * length_vecs(vecs_back[:-1]))\n",
    "    \n",
    "    # Prevent numerical errors\n",
    "    frac[frac < -1] = -1\n",
    "    frac[frac > 1] = 1\n",
    "    \n",
    "    return np.arccos(\n",
    "                frac\n",
    "            )\n",
    "\n",
    "print(calc_angles(normalized_timestamps[2]))\n",
    "plot_stroke(normalized_timestamps[2], \"Angles\")"
   ]
  },
  {
   "cell_type": "markdown",
   "id": "7d31b327",
   "metadata": {},
   "source": [
    "Now we only need to split up each stroke."
   ]
  },
  {
   "cell_type": "code",
   "execution_count": null,
   "id": "0ab0879b",
   "metadata": {},
   "outputs": [],
   "source": [
    "def split_datapoints(stroke):\n",
    "    angles = calc_angles(stroke)\n",
    "    indices = np.argsort(angles) + 1\n",
    "    \n",
    "    for index in indices:\n",
    "        if 3 <= index and\\\n",
    "            index <= len(stroke[stroke[:,2]>=0]) - 3 and\\\n",
    "            len(stroke[stroke[:,2]>=0]) > 6: # Make sure there are enough datapoints to make the fit.\n",
    "            return stroke[:index+1], stroke[index:]\n",
    "    \n",
    "    return None\n",
    "\n",
    "\n",
    "a, b = split_datapoints(normalized_timestamps[2])\n",
    "print(len(a), len(b))\n",
    "plot_strokes([a, b], \"Split Strokes\")"
   ]
  },
  {
   "cell_type": "code",
   "execution_count": null,
   "id": "191493e0",
   "metadata": {},
   "outputs": [],
   "source": [
    "def fit_datapoints(datapoints, precision=0.001):\n",
    "    res = fit_curve_newton_step(datapoints)\n",
    "    PE, s, error = res\n",
    "    stdev = (error/len(datapoints))**(1/2)\n",
    "    curves = []\n",
    "    \n",
    "    curve_diffs = (datapoints[1:, :] - datapoints[:-1, :]) # Smarter way to do this?\n",
    "    distances = (curve_diffs[:, 0]**2 + curve_diffs[:, 1]**2)**(1/2)\n",
    "    \n",
    "    abs_diffs = datapoints[0] - datapoints[-1]\n",
    "    abs_dist = (abs_diffs[0]**2 + abs_diffs[1]**2)**(1/2)\n",
    "    \n",
    "    if stdev > precision or (np.sum(distances) / abs_dist) > 3:\n",
    "        split = split_datapoints(datapoints)\n",
    "        \n",
    "        if split:\n",
    "            first_h, second_h = split\n",
    "            res_f = fit_datapoints(first_h, precision)\n",
    "            res_s = fit_datapoints(second_h, precision)\n",
    "        \n",
    "            if res_f:\n",
    "                curves.extend(res_f)\n",
    "            \n",
    "            if res_s:\n",
    "                curves.extend(res_s)\n",
    "        else:\n",
    "            curves.append([PE, s, stdev, datapoints])\n",
    "    else:\n",
    "        curves.append([PE, s, stdev, datapoints])\n",
    "        \n",
    "    return curves"
   ]
  },
  {
   "cell_type": "code",
   "execution_count": null,
   "id": "059f27a8",
   "metadata": {},
   "outputs": [],
   "source": [
    "def plot_fitted_curves_with_data(curves, data):\n",
    "    D = data[data[:, 2] >= 0]    \n",
    "    plt.scatter(D[:, 0], D[:, 1], color=\"b\")\n",
    "    plt.plot(D[:, 0], D[:, 1], label=\"data\", color=\"b\")\n",
    "\n",
    "    for i, (P, s, _, _) in enumerate(curves):\n",
    "        curve_points = makeSMatrix(s, 4)@P\n",
    "        curve = makeSMatrix(np.linspace(s[0], s[-1], 1000), 4)@P\n",
    "        plt.scatter(curve_points[:, 0], curve_points[:, 1], label=f\"s {i}\")\n",
    "        plt.plot(curve[:, 0], curve[:, 1], label=f\"curve {i}\")\n",
    "        \n",
    "    plt.xlabel(\"x coordinates\")\n",
    "    plt.ylabel(\"y coordinates\")\n",
    "    plt.legend()\n",
    "    plt.show()\n",
    "\n",
    "t = 3\n",
    "fitted_curves = fit_datapoints(normalized_timestamps[t])\n",
    "plot_fitted_curves_with_data(fitted_curves, normalized_timestamps[t])"
   ]
  },
  {
   "cell_type": "markdown",
   "id": "76b229e3",
   "metadata": {},
   "source": [
    "In the last step we want to stitch the fitted curves back together, we will look at curves that are next to each other and see if we can fit a new curve containing these two curves."
   ]
  },
  {
   "cell_type": "code",
   "execution_count": null,
   "id": "ac308369",
   "metadata": {},
   "outputs": [],
   "source": [
    "def stitch_curves(curves, precision=0.001):\n",
    "    fitted_curves = curves.copy()\n",
    "    curves = []\n",
    "    \n",
    "    if len(fitted_curves) == 1:\n",
    "        return fitted_curves\n",
    "    \n",
    "    for i, _ in enumerate(fitted_curves[:-1]):\n",
    "        d = np.vstack((fitted_curves[i][3][:-1], fitted_curves[i+1][3]))\n",
    "        PE, s, error = fit_curve_newton_step(d)\n",
    "        stdev = (error/len(d))**(1/2)\n",
    "        \n",
    "        curve_diffs = (d[1:, :] - d[:-1, :])\n",
    "        distances = (curve_diffs[:, 0]**2 + curve_diffs[:, 1]**2)**(1/2)\n",
    "    \n",
    "        abs_diffs = d[0] - d[-1]\n",
    "        abs_dist = (abs_diffs[0]**2 + abs_diffs[1]**2)**(1/2)\n",
    "    \n",
    "        if stdev > precision or (np.sum(distances) / abs_dist) > 3:\n",
    "            curves.append(fitted_curves[i])\n",
    "            if i == len(fitted_curves) - 2:\n",
    "                curves.append(fitted_curves[i+1])\n",
    "        else:\n",
    "            if i == len(fitted_curves) - 2:\n",
    "                curves.append([PE, s, stdev, d])\n",
    "            else:\n",
    "                fitted_curves[i+1] = [PE, s, stdev, d]\n",
    "                \n",
    "    return curves\n",
    "\n",
    "t = 0\n",
    "stiched_curves = stitch_curves(fitted_curves, precision=0.001)\n",
    "plot_fitted_curves_with_data(stiched_curves, normalized_timestamps[t])\n",
    "print(f\"Original number of data points: {len(fitted_curves)}\\nNumber of datapoints after stitch with precision 0.001: {len(stiched_curves)}\")\n",
    "\n",
    "stiched_curves = stitch_curves(fitted_curves, precision=0.01)\n",
    "plot_fitted_curves_with_data(stiched_curves, normalized_timestamps[t])\n",
    "print(f\"Original number of data points: {len(fitted_curves)}\\nNumber of datapoints after stitch with precision 0.01: {len(stiched_curves)}\")"
   ]
  },
  {
   "cell_type": "markdown",
   "id": "f7a30a9f",
   "metadata": {},
   "source": [
    "Finally we combinde these into on function and parameterize the bezier curve."
   ]
  },
  {
   "cell_type": "code",
   "execution_count": null,
   "id": "ac6fd413",
   "metadata": {},
   "outputs": [],
   "source": [
    "def convert_stroke_to_bezier_curves(datapoints, precision=0.001, debug=False):\n",
    "    if len(datapoints[datapoints[:, 2]>=0]) < 2:\n",
    "        return None\n",
    "    \n",
    "    fitted_curves = fit_datapoints(datapoints)\n",
    "    stiched_curves = stitch_curves(fitted_curves, precision=precision)\n",
    "    \n",
    "    parameters = [parameterize_curve(PE, 0) for (PE, s, stdev, d) in stiched_curves]\n",
    "    \n",
    "    if debug:\n",
    "        plot_fitted_curves_with_data(stiched_curves, datapoints)\n",
    "        plot_bezier_curves(parameters)\n",
    "        plt.show()\n",
    "    \n",
    "    return parameters"
   ]
  },
  {
   "cell_type": "code",
   "execution_count": null,
   "id": "976416fd",
   "metadata": {},
   "outputs": [],
   "source": [
    "def strokes_to_bezier(strokes, precision=0.001, debug=False):\n",
    "    normalized_strokes = scale_timestamps(normalize_strokes(strokes))\n",
    "    points = []\n",
    "\n",
    "    res = convert_stroke_to_bezier_curves(normalized_strokes[0], precision=precision, debug=debug)\n",
    "    \n",
    "    if res:\n",
    "        res[0][9] = 1 # Indicate start of stroke\n",
    "        points.extend(res)\n",
    "    \n",
    "    first = normalized_strokes[0]\n",
    "    last_x = first[first[:, 2] >= 0][-1, 0]\n",
    "    last_y = first[first[:, 2] >= 0][-1, 1]\n",
    " \n",
    "    for stroke in normalized_strokes[1:]:\n",
    "        res = convert_stroke_to_bezier_curves(stroke, precision=precision, debug=debug)\n",
    "        \n",
    "        current_x = stroke[stroke[:, 2] >= 0][0, 0]\n",
    "        current_y = stroke[stroke[:, 2] >= 0][0, 1]\n",
    "        \n",
    "        dx = current_x - last_x\n",
    "        dy = current_y - last_y\n",
    "        \n",
    "        last_x = stroke[stroke[:, 2] >= 0][-1, 0]\n",
    "        last_y = stroke[stroke[:, 2] >= 0][-1, 1]\n",
    "        \n",
    "        if res:\n",
    "            points.extend([[dx, dy, 0, 0, 0, 0, 0, 0, 0, 0, 1]]) # New starting point\n",
    "            res[0][9] = 1 # Indicate start of stroke\n",
    "            points.extend(res)\n",
    "    \n",
    "    return np.array(points)\n",
    "\n",
    "print(rtps.shape)\n",
    "\n",
    "# t1 = strokes_to_bezier(raw_strokes)\n",
    "t2 = strokes_to_bezier(raw_strokes, precision=0.01, debug=True)\n",
    "\n",
    "# print(t1.shape)\n",
    "print(t2.shape)"
   ]
  },
  {
   "cell_type": "markdown",
   "id": "2b399f7c",
   "metadata": {},
   "source": [
    "Depending on the precision, this representation takes a lot less memory."
   ]
  },
  {
   "cell_type": "code",
   "execution_count": null,
   "id": "aea80dae",
   "metadata": {
    "scrolled": true
   },
   "outputs": [],
   "source": [
    "%matplotlib inline\n",
    "\n",
    "p = strokes_to_bezier(raw_strokes, precision=0.01)\n",
    "plot_bezier_curves(p)"
   ]
  },
  {
   "cell_type": "code",
   "execution_count": null,
   "id": "6caecd5c",
   "metadata": {
    "scrolled": true
   },
   "outputs": [],
   "source": [
    "plot_rtps(rtps)"
   ]
  },
  {
   "cell_type": "code",
   "execution_count": null,
   "id": "0d0eced6",
   "metadata": {},
   "outputs": [],
   "source": []
  }
 ],
 "metadata": {
  "kernelspec": {
   "display_name": "Python 3 (ipykernel)",
   "language": "python",
   "name": "python3"
  },
  "language_info": {
   "codemirror_mode": {
    "name": "ipython",
    "version": 3
   },
   "file_extension": ".py",
   "mimetype": "text/x-python",
   "name": "python",
   "nbconvert_exporter": "python",
   "pygments_lexer": "ipython3",
   "version": "3.10.3"
  }
 },
 "nbformat": 4,
 "nbformat_minor": 5
}
